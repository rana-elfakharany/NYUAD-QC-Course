{
 "cells": [
  {
   "cell_type": "markdown",
   "metadata": {},
   "source": [
    "<a href=\"https://qworld.net\" target=\"_blank\" align=\"left\"><img src=\"../qworld/images/header.jpg\"  align=\"left\"></a>\n",
    "$ \\renewcommand{\\bra}[1]{\\langle #1|} $\n",
    "$ \\renewcommand{\\ket}[1]{|#1\\rangle} $\n",
    "$ \\renewcommand{\\braket}[2]{\\langle #1|#2\\rangle} $\n",
    "$ \\renewcommand{\\dot}[2]{ #1 \\cdot #2} $\n",
    "$ \\renewcommand{\\biginner}[2]{\\left\\langle #1,#2\\right\\rangle} $\n",
    "$ \\renewcommand{\\mymatrix}[2]{\\left( \\begin{array}{#1} #2\\end{array} \\right)} $\n",
    "$ \\renewcommand{\\myvector}[1]{\\mymatrix{c}{#1}} $\n",
    "$ \\renewcommand{\\myrvector}[1]{\\mymatrix{r}{#1}} $\n",
    "$ \\renewcommand{\\mypar}[1]{\\left( #1 \\right)} $\n",
    "$ \\renewcommand{\\mybigpar}[1]{ \\Big( #1 \\Big)} $\n",
    "$ \\renewcommand{\\sqrttwo}{\\frac{1}{\\sqrt{2}}} $\n",
    "$ \\renewcommand{\\dsqrttwo}{\\dfrac{1}{\\sqrt{2}}} $\n",
    "$ \\renewcommand{\\onehalf}{\\frac{1}{2}} $\n",
    "$ \\renewcommand{\\donehalf}{\\dfrac{1}{2}} $\n",
    "$ \\renewcommand{\\hadamard}{ \\mymatrix{rr}{ \\sqrttwo & \\sqrttwo \\\\ \\sqrttwo & -\\sqrttwo }} $\n",
    "$ \\renewcommand{\\vzero}{\\myvector{1\\\\0}} $\n",
    "$ \\renewcommand{\\vone}{\\myvector{0\\\\1}} $\n",
    "$ \\renewcommand{\\stateplus}{\\myvector{ \\sqrttwo \\\\  \\sqrttwo } } $\n",
    "$ \\renewcommand{\\stateminus}{ \\myrvector{ \\sqrttwo \\\\ -\\sqrttwo } } $\n",
    "$ \\renewcommand{\\myarray}[2]{ \\begin{array}{#1}#2\\end{array}} $\n",
    "$ \\renewcommand{\\X}{ \\mymatrix{cc}{0 & 1 \\\\ 1 & 0}  } $\n",
    "$ \\renewcommand{\\I}{ \\mymatrix{rr}{1 & 0 \\\\ 0 & 1}  } $\n",
    "$ \\renewcommand{\\Z}{ \\mymatrix{rr}{1 & 0 \\\\ 0 & -1}  } $\n",
    "$ \\renewcommand{\\Htwo}{ \\mymatrix{rrrr}{ \\frac{1}{2} & \\frac{1}{2} & \\frac{1}{2} & \\frac{1}{2} \\\\ \\frac{1}{2} & -\\frac{1}{2} & \\frac{1}{2} & -\\frac{1}{2} \\\\ \\frac{1}{2} & \\frac{1}{2} & -\\frac{1}{2} & -\\frac{1}{2} \\\\ \\frac{1}{2} & -\\frac{1}{2} & -\\frac{1}{2} & \\frac{1}{2} } } $\n",
    "$ \\renewcommand{\\CNOT}{ \\mymatrix{cccc}{1 & 0 & 0 & 0 \\\\ 0 & 1 & 0 & 0 \\\\ 0 & 0 & 0 & 1 \\\\ 0 & 0 & 1 & 0} } $\n",
    "$ \\renewcommand{\\norm}[1]{ \\left\\lVert #1 \\right\\rVert } $\n",
    "$ \\renewcommand{\\pstate}[1]{ \\lceil #1 \\rfloor } $\n",
    "$ \\renewcommand{\\greenbit}[1] {\\mathbf{{\\color{green}#1}}} $\n",
    "$ \\renewcommand{\\bluebit}[1] {\\mathbf{{\\color{blue}#1}}} $\n",
    "$ \\renewcommand{\\redbit}[1] {\\mathbf{{\\color{red}#1}}} $\n",
    "$ \\renewcommand{\\brownbit}[1] {\\mathbf{{\\color{brown}#1}}} $\n",
    "$ \\renewcommand{\\blackbit}[1] {\\mathbf{{\\color{black}#1}}} $"
   ]
  },
  {
   "cell_type": "markdown",
   "metadata": {},
   "source": [
    "<font style=\"font-size:28px;\" align=\"left\"><b> Operators on Multiple Bits </b></font>\n",
    "<br>\n",
    "_prepared by Abuzer Yakaryilmaz_\n",
    "<br><br>\n",
    "[<img src=\"../qworld/images/watch_lecture.jpg\" align=\"left\">](https://youtu.be/vd21d1KTC5c)\n",
    "<br><br><br>"
   ]
  },
  {
   "cell_type": "markdown",
   "metadata": {},
   "source": [
    "We explain how to construct the operator of a composition system when we apply an operator to one bit or to a few bits of the composite system.\n",
    "\n",
    "*Here we have a simple rule, we assume that the identity operator is applied on the rest of the bits.*"
   ]
  },
  {
   "cell_type": "markdown",
   "metadata": {},
   "source": [
    "### Single bit operators"
   ]
  },
  {
   "cell_type": "markdown",
   "metadata": {},
   "source": [
    "When we have two bits, then our system has four states and any operator of the system can be defined as a $ (4 \\times 4) $-dimensional matrix.\n",
    "\n",
    "For example, if we apply the probabilistic operator $ M =  \\mymatrix{c}{ 0.3 & 0.6 \\\\ 0.7 & 0.4  } $ to the second bit, then how can we represent the corresponding $ (4 \\times 4) $-dimensional matrix?\n",
    "\n",
    "Since we particularly want the $ M $ operator to act on the second bit and meanwhile leave the first bit unchanged, we write the $4 \\times 4$ matrix as the tensor product of an identity operator and matrix M such that\n",
    "\n",
    "$ I \\otimes M = \\I \\otimes  \\mymatrix{c}{ 0.3 & 0.6 \\\\ 0.7 & 0.4  } = \\mymatrix{cccc} { 0.3 & 0.6 & 0 & 0 \\\\ 0.7 & 0.4 & 0 & 0 \\\\ 0 & 0 & 0.3 & 0.6 \\\\ 0 & 0& 0.7 & 0.4 }.   $\n",
    "\n",
    "In this way, the identity operator and the M operator act on first and second bits, respectively, due to the tensor product's definition."
   ]
  },
  {
   "cell_type": "markdown",
   "metadata": {},
   "source": [
    "<h3> Task 1</h3>\n",
    "\n",
    "We have two bits. What is $ (4 \\times 4) $-dimensional matrix representation of the probabilistic operator $ M =  \\mymatrix{c}{ 0.2 & 0.7 \\\\ 0.8 & 0.3  } $ applied to the first bit?"
   ]
  },
  {
   "cell_type": "markdown",
   "metadata": {},
   "source": [
    "$ M \\otimes I = \\mymatrix{c}{ 0.2 & 0.7 \\\\ 0.8 & 0.3  } \\otimes \\mymatrix{c}{ 1 & 0 \\\\ 0 & 1 } = \\mymatrix{cccc} { 0.2 & 0 & 0.7 & 0 \\\\ 0 & 0.2 & 0 & 0.7 \\\\ 0.8 & 0 & 0.3 & 0 \\\\ 0 & 0.8 & 0 &0.3 }   $"
   ]
  },
  {
   "cell_type": "markdown",
   "metadata": {},
   "source": [
    "<a href=\"CS40_Operators_on_Multiple_Bits_Solutions.ipynb#task1\">click for our solution</a>"
   ]
  },
  {
   "cell_type": "markdown",
   "metadata": {},
   "source": [
    "<h3> Task 2</h3>\n",
    "\n",
    "We have three bits. What is $ (8 \\times 8) $-dimensional matrix representation of the probabilistic operator $ M =  \\mymatrix{c}{ 0.9 & 0.4 \\\\ 0.1 & 0.6  } $ applied to the second bit?"
   ]
  },
  {
   "cell_type": "markdown",
   "metadata": {},
   "source": [
    "<a href=\"CS40_Operators_on_Multiple_Bits_Solutions.ipynb#task2\">click for our solution</a>"
   ]
  },
  {
   "cell_type": "markdown",
   "metadata": {},
   "source": [
    "$ I \\otimes M \\otimes I = \\mymatrix{c}{ 1 & 0 \\\\ 0 & 1 } \\otimes \\mymatrix{c}{ 0.9 & 0.4 \\\\ 0.1 & 0.6  } \\otimes \\mymatrix{c}{ 1 & 0 \\\\ 0 & 1 } $"
   ]
  },
  {
   "cell_type": "markdown",
   "metadata": {},
   "source": [
    "$ = \\mymatrix{cccc} { 0.9 & 0.4 & 0 & 0 \\\\ 0.1 & 0.6 & 0 & 0 \\\\ 0 & 0 & 0.9 & 0.4 \\\\ 0 & 0 & 0.1 &0.6 } \\otimes \\mymatrix{c}{ 1 & 0 \\\\ 0 & 1 }$"
   ]
  },
  {
   "cell_type": "markdown",
   "metadata": {},
   "source": [
    "$ = \\mymatrix{rrrr|rrrrr} { 0.9 & 0 & 0.4 & 0 &0&0&0&0 \\\\ 0 & 0.9 & 0 & 0.4 & 0&0&0&0& \\\\ 0.1 & 0 &0.6&0 &0&0&0&0 \\\\ 0 & 0.1 & 0 & 0.6 & 0&0&0&0 \\\\ \\hline 0&0&0&0& 0.9&0&0.4&0 \\\\ 0&0&0&0& 0& 0.9&0&0.4 \\\\ 0&0&0&0&0.1&0&0.6&0 \\\\ 0&0&0&0&0 &0.1 &0 &0.6 }$"
   ]
  },
  {
   "cell_type": "markdown",
   "metadata": {},
   "source": [
    "### Two bits operators"
   ]
  },
  {
   "cell_type": "markdown",
   "metadata": {},
   "source": [
    "We start with an easy example. \n",
    "\n",
    "We have three bits and we apply the probabilistic operator \n",
    "$ M = \\mymatrix{rrrr}{0.05 & 0 & 0.70 & 0.60 \\\\ 0.45 & 0.50 & 0.20 & 0.25 \\\\ 0.20 & 0.35 & 0.10 & 0 \\\\ 0.30 & 0.15 & 0 & 0.15 } $ to the first and second bits. Then, the corresponding $ (8 \\times 8) $-dimensional matrix is $ M \\otimes I $, where $I$ is the $(2 \\times 2)$-dimensional Identity matrix.\n",
    "\n",
    "If $ M $ is applied to the second and third bits, then the corresponding matrix is $ I \\otimes M $."
   ]
  },
  {
   "cell_type": "markdown",
   "metadata": {},
   "source": [
    "**What if $ M $ is applied to the first and third bits?**\n",
    "\n",
    "We pick an example transition: it is given in $ M $ that $ \\greenbit{0} \\brownbit{1}  \\xrightarrow{0.35} \\greenbit{1} \\brownbit{0}  $.  \n",
    "- That is, when the first bit is 0 and third bit is 1, the first bit is set to 1 and the the third bit is set to 0 with probability 0.35:\n",
    "\n",
    "$$ \\myarray{ccccc}{{first-bit} & {third-bit} & probability & {first-bit} & {third-bit} \\\\ \\greenbit{0} & \\brownbit{1} & \\xrightarrow{0.35} & \\greenbit{1} & \\brownbit{0} }  $$\n",
    "\n",
    "- We put the second bit in the picture by assuming that the identity operator is applied to it:\n",
    "\n",
    "$$ \n",
    "\\myarray{ccccccc}{\n",
    "{first-bit} & {second-bit} & {third-bit} & probability & {first-bit} & {second-bit} & {third-bit} \\\\ \n",
    "\\greenbit{0} & \\bluebit{0} & \\brownbit{1} & \\xrightarrow{0.35} & \\greenbit{1} & \\bluebit{0} & \\brownbit{0}  \\\\\n",
    "\\greenbit{0} & \\bluebit{1} & \\brownbit{1} & \\xrightarrow{0.35} & \\greenbit{1} & \\bluebit{1} & \\brownbit{0} \\\\\n",
    "\\\\ \\hline \\\\\n",
    "\\greenbit{0} & \\bluebit{0} & \\brownbit{1} & \\xrightarrow{0} & \\greenbit{1} & \\bluebit{1} & \\brownbit{0}  \\\\\n",
    "\\greenbit{0} & \\bluebit{1} & \\brownbit{1} & \\xrightarrow{0} & \\greenbit{1} & \\bluebit{0} & \\brownbit{0}\n",
    "}\n",
    "$$"
   ]
  },
  {
   "cell_type": "markdown",
   "metadata": {},
   "source": [
    "<h3> Task 3</h3>\n",
    "\n",
    "Why are the last two transition probabilities zeros in the above table?"
   ]
  },
  {
   "cell_type": "markdown",
   "metadata": {},
   "source": [
    "<h3> Task 4</h3>\n",
    "\n",
    "We have three bits and the  probabilistic operator \n",
    "$ M = \\mymatrix{rrrr}{0.05 & 0 & 0.70 & 0.60 \\\\ 0.45 & 0.50 & 0.20 & 0.25 \\\\ 0.20 & 0.35 & 0.10 & 0 \\\\ 0.30 & 0.15 & 0 & 0.15 } $ is applied to the first and third bits. \n",
    "\n",
    "What is the corresponding the $(8 \\times 8)$-dimensional matrix applied to the whole system?\n",
    "\n",
    "*You may solve this task by using python.*"
   ]
  },
  {
   "cell_type": "code",
   "execution_count": 4,
   "metadata": {},
   "outputs": [
    {
     "name": "stdout",
     "output_type": "stream",
     "text": [
      "Matrix K is\n",
      "[0.05, 0, 0, 0, 0.7, 0.6, 0, 0]\n",
      "[0.45, 0.5, 0, 0, 0.2, 0.25, 0, 0]\n",
      "[0, 0, 0.05, 0, 0, 0, 0.7, 0.6]\n",
      "[0, 0, 0.45, 0.5, 0, 0, 0.2, 0.25]\n",
      "[0.2, 0.35, 0, 0, 0.1, 0, 0, 0]\n",
      "[0.3, 0.15, 0, 0, 0, 0.15, 0, 0]\n",
      "[0, 0, 0.2, 0.35, 0, 0, 0.1, 0]\n",
      "[0, 0, 0.3, 0.15, 0, 0, 0, 0.15]\n"
     ]
    }
   ],
   "source": [
    "# the given matrix\n",
    "M = [\n",
    "    [0.05, 0, 0.70, 0.60],\n",
    "    [0.45, 0.50, 0.20, 0.25],\n",
    "    [0.20, 0.35, 0.10, 0],\n",
    "    [0.30, 0.15, 0, 0.15]\n",
    "]\n",
    "\n",
    "dim = 8\n",
    "\n",
    "K = []\n",
    "for i in range(dim):\n",
    "    K.append([])\n",
    "    for j in range(dim):\n",
    "        K[i].append(0)\n",
    "\n",
    "# \n",
    "# you may enumarate the columns and rows by the strings '00', '01', '10', and '11'\n",
    "# int('011',2) returns the decimal value of the binary string '011'\n",
    "#\n",
    "for col in ['00','01','10','11']:\n",
    "    for row in ['00','01','10','11']:\n",
    "        probability = M[int(row,2)][int(col,2)]\n",
    "        for i in ['0','1']:\n",
    "            kcol = col[0]+i+col[1]\n",
    "            krow = row[0]+i+row[1]\n",
    "            K[int(krow,2)][int(kcol,2)] = probability\n",
    "\n",
    "#\n",
    "# your solution is here\n",
    "#\n",
    "print(\"Matrix K is\")\n",
    "for row in K:\n",
    "    print(row)              "
   ]
  },
  {
   "cell_type": "markdown",
   "metadata": {},
   "source": [
    "<a href=\"CS40_Operators_on_Multiple_Bits_Solutions.ipynb#task4\">click for our solution</a>"
   ]
  },
  {
   "cell_type": "markdown",
   "metadata": {},
   "source": [
    "### Controlled operators"
   ]
  },
  {
   "cell_type": "markdown",
   "metadata": {},
   "source": [
    "The matrix form of the controlled-NOT operator is as follows:\n",
    "\n",
    "$ CNOT = \\mymatrix{cc|cc}{ 1 & 0 & 0 & 0 \\\\ 0 & 1 & 0 & 0 \\\\ \\hline 0 & 0 & 0 & 1 \\\\ 0 & 0 & 1 & 0 } \n",
    "= \\mymatrix{c|c}{ I & \\mathbf{0} \\\\ \\hline \\mathbf{0} & X},\n",
    "$\n",
    "where $ X $ denotes the NOT operator.\n",
    "\n",
    "Similarly, for a given single bit operator $ M $, we can define the controlled-$M$ operator (where the first bit is the control bit and the second bit is target bit) as follows:\n",
    "\n",
    "$ CM = \\mymatrix{c|c}{ I & \\mathbf{0} \\\\ \\hline \\mathbf{0} & M } $\n",
    "\n",
    "By definition:\n",
    "* when the first bit is 0, the identity is applied to the second bit, and\n",
    "* when the first bit is 1, the operator $ M $ is applied to the second bit. \n",
    "\n",
    "Here we observe that the matrix $ CM $ has a nice form because the first bit is control bit. The matrix $ CM $ given above is divided into four sub-matrices based on the states of the first bit. Then, we can follow that\n",
    "* the value of the first bit never changes, and so the off diagonal sub-matrices are zeros; \n",
    "* when the first bit is 0, the identity is applied to the second bit, and so top-left matrix is $ I $; and, \n",
    "* when the first bit is 1, the operator $ M $ is applied to the second bit, and so the bottom-right matrix is $ M $."
   ]
  },
  {
   "cell_type": "markdown",
   "metadata": {},
   "source": [
    "<h3> Task 5</h3>\n",
    "\n",
    "Let $ M = \\mymatrix{cc}{0.7 & 0.4 \\\\ 0.3 & 0.6} $ be a single bit operator. What is the matrix form of the controlled-$M$ operator where the first bit is the target bit and the second bit is the control bit."
   ]
  },
  {
   "cell_type": "markdown",
   "metadata": {},
   "source": [
    "$ CM(\\pstate{00}) = \\pstate{00}$\n",
    "\n",
    "$ CM(\\pstate{10}) = \\pstate{10}$\n",
    "\n",
    "$ CM(\\pstate{01}) = 0.7 \\pstate{01} + 0.3 \\pstate{11}$\n",
    "\n",
    "$ CM(\\pstate{11}) = 0.4 \\pstate{01} + 0.6 \\pstate {11}$\n",
    "\n",
    "$ M = \\mymatrix{rrrr}{1 & 0 & 0 & 0 \\\\ 0 & 0.7 & 1 & 0.4 \\\\ 0&0& 0 & 0 \\\\ 0 & 0.3 & 0 & 0.6 } $"
   ]
  },
  {
   "cell_type": "markdown",
   "metadata": {},
   "source": [
    "<a href=\"CS40_Operators_on_Multiple_Bits_Solutions.ipynb#task5\">click for our solution</a>"
   ]
  },
  {
   "cell_type": "markdown",
   "metadata": {},
   "source": [
    "### Controlled operator activated when in state 0 "
   ]
  },
  {
   "cell_type": "markdown",
   "metadata": {},
   "source": [
    "For a given single bit operator $ M $, **how can we obtain the following operator** by using the operator $ CM $?\n",
    "\n",
    "$ C_0M = \\mymatrix{c|c}{ M & \\mathbf{0} \\\\ \\hline \\mathbf{0} & I } $\n",
    "\n",
    "Controlled operator are defined to be triggered when the control bit is in state 1. In this example, we expect it to be triggered when the control bit is in state 0.\n",
    "\n",
    "Here we can use a simple trick. We first apply NOT operator to the first bit, and then the CM operator, and again NOT operator. In this way, we guarentee that $ M $ is applied to the second bit if the first bit is state 0 and do nothing if the first bit is in state 1. In short:\n",
    "\n",
    "$$ C_0M = (X \\otimes I) \\cdot (CM) \\cdot ( X \\otimes I ). $$"
   ]
  },
  {
   "cell_type": "markdown",
   "metadata": {},
   "source": [
    "<h3> Task 6</h3>\n",
    "\n",
    "Verify that $ C_0M = (X \\otimes I) \\cdot (CM) \\cdot ( X \\otimes I ) = \\mymatrix{c|c}{ M & \\mathbf{0} \\\\ \\hline \\mathbf{0} & I }  $."
   ]
  },
  {
   "cell_type": "markdown",
   "metadata": {},
   "source": [
    "<a href=\"CS40_Operators_on_Multiple_Bits_Solutions.ipynb#task6\">click for our solution</a>"
   ]
  },
  {
   "cell_type": "markdown",
   "metadata": {},
   "source": [
    "<h3> Task 7</h3>\n",
    "\n",
    "For the given two single bit operators $ M $ and $ N $, let $ CM $ and $ CN $ be the controlled-$M$ and controlled-$N$ operators. By using $ X $, $ CM $, and $ CN $ operators, how can we obtain the operator $ \\mymatrix{c|c}{ M & \\mathbf{0} \\\\ \\hline \\mathbf{0} & N} $?\n"
   ]
  }
 ],
 "metadata": {
  "kernelspec": {
   "display_name": "Python 3",
   "language": "python",
   "name": "python3"
  },
  "language_info": {
   "codemirror_mode": {
    "name": "ipython",
    "version": 3
   },
   "file_extension": ".py",
   "mimetype": "text/x-python",
   "name": "python",
   "nbconvert_exporter": "python",
   "pygments_lexer": "ipython3",
   "version": "3.11.5"
  }
 },
 "nbformat": 4,
 "nbformat_minor": 2
}
