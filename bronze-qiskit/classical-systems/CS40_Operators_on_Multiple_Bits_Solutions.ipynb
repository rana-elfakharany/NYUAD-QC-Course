{
 "cells": [
  {
   "cell_type": "markdown",
   "metadata": {},
   "source": [
    "<a href=\"https://qworld.net\" target=\"_blank\" align=\"left\"><img src=\"../qworld/images/header.jpg\"  align=\"left\"></a>\n",
    "$ \\renewcommand{\\bra}[1]{\\langle #1|} $\n",
    "$ \\renewcommand{\\ket}[1]{|#1\\rangle} $\n",
    "$ \\renewcommand{\\braket}[2]{\\langle #1|#2\\rangle} $\n",
    "$ \\renewcommand{\\dot}[2]{ #1 \\cdot #2} $\n",
    "$ \\renewcommand{\\biginner}[2]{\\left\\langle #1,#2\\right\\rangle} $\n",
    "$ \\renewcommand{\\mymatrix}[2]{\\left( \\begin{array}{#1} #2\\end{array} \\right)} $\n",
    "$ \\renewcommand{\\myvector}[1]{\\mymatrix{c}{#1}} $\n",
    "$ \\renewcommand{\\myrvector}[1]{\\mymatrix{r}{#1}} $\n",
    "$ \\renewcommand{\\mypar}[1]{\\left( #1 \\right)} $\n",
    "$ \\renewcommand{\\mybigpar}[1]{ \\Big( #1 \\Big)} $\n",
    "$ \\renewcommand{\\sqrttwo}{\\frac{1}{\\sqrt{2}}} $\n",
    "$ \\renewcommand{\\dsqrttwo}{\\dfrac{1}{\\sqrt{2}}} $\n",
    "$ \\renewcommand{\\onehalf}{\\frac{1}{2}} $\n",
    "$ \\renewcommand{\\donehalf}{\\dfrac{1}{2}} $\n",
    "$ \\renewcommand{\\hadamard}{ \\mymatrix{rr}{ \\sqrttwo & \\sqrttwo \\\\ \\sqrttwo & -\\sqrttwo }} $\n",
    "$ \\renewcommand{\\vzero}{\\myvector{1\\\\0}} $\n",
    "$ \\renewcommand{\\vone}{\\myvector{0\\\\1}} $\n",
    "$ \\renewcommand{\\stateplus}{\\myvector{ \\sqrttwo \\\\  \\sqrttwo } } $\n",
    "$ \\renewcommand{\\stateminus}{ \\myrvector{ \\sqrttwo \\\\ -\\sqrttwo } } $\n",
    "$ \\renewcommand{\\myarray}[2]{ \\begin{array}{#1}#2\\end{array}} $\n",
    "$ \\renewcommand{\\X}{ \\mymatrix{cc}{0 & 1 \\\\ 1 & 0}  } $\n",
    "$ \\renewcommand{\\I}{ \\mymatrix{rr}{1 & 0 \\\\ 0 & 1}  } $\n",
    "$ \\renewcommand{\\Z}{ \\mymatrix{rr}{1 & 0 \\\\ 0 & -1}  } $\n",
    "$ \\renewcommand{\\Htwo}{ \\mymatrix{rrrr}{ \\frac{1}{2} & \\frac{1}{2} & \\frac{1}{2} & \\frac{1}{2} \\\\ \\frac{1}{2} & -\\frac{1}{2} & \\frac{1}{2} & -\\frac{1}{2} \\\\ \\frac{1}{2} & \\frac{1}{2} & -\\frac{1}{2} & -\\frac{1}{2} \\\\ \\frac{1}{2} & -\\frac{1}{2} & -\\frac{1}{2} & \\frac{1}{2} } } $\n",
    "$ \\renewcommand{\\CNOT}{ \\mymatrix{cccc}{1 & 0 & 0 & 0 \\\\ 0 & 1 & 0 & 0 \\\\ 0 & 0 & 0 & 1 \\\\ 0 & 0 & 1 & 0} } $\n",
    "$ \\renewcommand{\\norm}[1]{ \\left\\lVert #1 \\right\\rVert } $\n",
    "$ \\renewcommand{\\pstate}[1]{ \\lceil #1 \\rfloor } $\n",
    "$ \\renewcommand{\\greenbit}[1] {\\mathbf{{\\color{green}#1}}} $\n",
    "$ \\renewcommand{\\bluebit}[1] {\\mathbf{{\\color{blue}#1}}} $\n",
    "$ \\renewcommand{\\redbit}[1] {\\mathbf{{\\color{red}#1}}} $\n",
    "$ \\renewcommand{\\brownbit}[1] {\\mathbf{{\\color{brown}#1}}} $\n",
    "$ \\renewcommand{\\blackbit}[1] {\\mathbf{{\\color{black}#1}}} $"
   ]
  },
  {
   "cell_type": "markdown",
   "metadata": {},
   "source": [
    "<font style=\"font-size:28px;\" align=\"left\"><b> <font color=\"blue\"> Solutions for </font>Operators on Multiple Bits </b></font>\n",
    "<br>\n",
    "_prepared by Abuzer Yakaryilmaz_\n",
    "<br><br>"
   ]
  },
  {
   "cell_type": "markdown",
   "metadata": {},
   "source": [
    "<a id=\"task1\"></a>\n",
    "<h3> Task 1</h3>\n",
    "\n",
    "We have two bits. What is $ (4 \\times 4) $-dimensional matrix representation of the probabilistic operator $ M =  \\mymatrix{c}{ 0.2 & 0.7 \\\\ 0.8 & 0.3  } $ applied to the first bit?"
   ]
  },
  {
   "cell_type": "markdown",
   "metadata": {},
   "source": [
    "<h3>Solution</h3>\n",
    "\n",
    "We assume that the identity operator is applied to the second bit:\n",
    "\n",
    "$$ M \\otimes I = \\mymatrix{rr}{ 0.2 & 0.7 \\\\ 0.8 & 0.3  } \\otimes \\I = \\mymatrix{rrrr}{ 0.2 & 0 & 0.7 & 0 }\\\\\n",
    "0 & 0.2 & 0 & 0.7 \\\\ 0.8 & 0 & 0.3 & 0 \\\\ 0 & 0.8 & 0 & 0.3} $$."
   ]
  },
  {
   "cell_type": "markdown",
   "metadata": {},
   "source": [
    "<a id=\"task2\"></a>\n",
    "<h3> Task 2</h3>\n",
    "\n",
    "We have three bits. What is $ (8 \\times 8) $-dimensional matrix representation of the probabilistic operator $ M =  \\mymatrix{c}{ 0.9 & 0.4 \\\\ 0.1 & 0.6  } $ applied to the second bit?"
   ]
  },
  {
   "cell_type": "markdown",
   "metadata": {},
   "source": [
    "<h3>Solution</h3>\n",
    "\n",
    "We assume that the identity operators are applied to the first and third bits:\n",
    "$ I \\otimes M \\otimes I = \\I \\otimes \\mymatrix{rr}{ 0.9 & 0.4 \\\\ 0.1 & 0.6  } \\otimes \\I $.\n",
    "\n",
    "Tensor product is associative and so it does not matter from which pair we start. We first calculate the tensor product of the second and third matrices:\n",
    "\n",
    "$$ I \\otimes \\mypar{ M \\otimes I } = \\I \\otimes \\mymatrix{rrrr}{ 0.9 & 0 & 0.4 & 0 \\\\ 0 & 0.9 & 0 & 0.4 \\\\ 0.1 & 0 & 0.6 & 0 \\\\ 0 & 0.1 & 0 & 0.6} = \\mymatrix{rrrr|rrrrr}{0.9 & 0 & 0.4 & 0 & 0 & 0 & 0 & 0 \\\\ 0 & 0.9 & 0 & 0.4 & 0 & 0 & 0 & 0 \\\\ 0.1 & 0 & 0.6 & 0 & 0 & 0 & 0 & 0 \\\\ 0 & 0.1 & 0 & 0.6 & 0 & 0 & 0 & 0\n",
    "\\\\ \\hline 0 & 0 & 0 & 0 & 0.9 & 0 & 0.4 & 0 \\\\ 0 & 0 & 0 & 0 & 0 & 0.9 & 0 & 0.4 \\\\ 0 & 0 & 0 & 0 & 0.1 & 0 & 0.6 & 0 \\\\ 0 & 0 & 0 & 0 & 0 & 0.1 & 0 & 0.6} $$"
   ]
  },
  {
   "cell_type": "markdown",
   "metadata": {},
   "source": [
    "<a id=\"task4\"></a>\n",
    "<h3> Task 4 </h3>\n",
    "\n",
    "We have three bits and the  probabilistic operator \n",
    "$ M = \\mymatrix{rrrr}{0.05 & 0 & 0.70 & 0.60 \\\\ 0.45 & 0.50 & 0.20 & 0.25 \\\\ 0.20 & 0.35 & 0.10 & 0 \\\\ 0.30 & 0.15 & 0 & 0.15 } $\n",
    "to the first and third bits. \n",
    "\n",
    "What is the corresponding the $(8 \\times 8)$-dimensional matrix applied to the whole system?\n",
    "\n",
    "*You may solve this task by using python.*"
   ]
  },
  {
   "cell_type": "markdown",
   "metadata": {},
   "source": [
    "<h3>Solution</h3>\n",
    "\n",
    "We use python to construct the new matrix."
   ]
  },
  {
   "cell_type": "code",
   "execution_count": null,
   "metadata": {},
   "outputs": [],
   "source": [
    "# the given matrix\n",
    "M = [\n",
    "    [0.05, 0, 0.70, 0.60],\n",
    "    [0.45, 0.50, 0.20, 0.25],\n",
    "    [0.20, 0.35, 0.10, 0],\n",
    "    [0.30, 0.15, 0, 0.15]\n",
    "]\n",
    "print(\"Matrix M is\")\n",
    "for row in M:\n",
    "    print(row)\n",
    "print()\n",
    "\n",
    "# the target matrix is K\n",
    "# we create it and filled with zeros\n",
    "K = []\n",
    "for i in range(8):\n",
    "    K.append([])\n",
    "    for j in range(8):\n",
    "        K[i].append(0)\n",
    "\n",
    "# for each transition in M, we create four transitions in K, two of which are always zeros  \n",
    "for col in ['00','01','10','11']:\n",
    "    for row in ['00','01','10','11']:\n",
    "        prob = M[int(col,2)][int(row,2)]\n",
    "        # second bit is 0\n",
    "        newcol = col[0]+'0'+col[1]\n",
    "        newrow = row[0]+'0'+row[1]\n",
    "        K[int(newcol,2)][int(newrow,2)] = prob\n",
    "        # second bit is 1\n",
    "        newcol = col[0]+'1'+col[1]\n",
    "        newrow = row[0]+'1'+row[1]\n",
    "        K[int(newcol,2)][int(newrow,2)] = prob\n",
    "print(\"Matrix K is\")\n",
    "for row in K:\n",
    "    print(row)        "
   ]
  },
  {
   "cell_type": "markdown",
   "metadata": {},
   "source": [
    "$$ \n",
    "M = \\mymatrix{rrrr}{0.05 & 0 & 0.70 & 0.60 \\\\ 0.45 & 0.50 & 0.20 & 0.25 \\\\ 0.20 & 0.35 & 0.10 & 0 \\\\ 0.30 & 0.15 & 0 & 0.15 } \n",
    "\\Rightarrow\n",
    "K = \\mymatrix{rrrrrrrr}{\n",
    "0.05 & 0 & 0 & 0 & 0.70 & 0.60 & 0 & 0\\\\\n",
    "0.45 & 0.50 & 0 & 0 & 0.20 & 0.25 & 0 & 0 \\\\\n",
    "0 & 0 & 0.05 & 0 & 0 & 0 & 0.7 & 0.6 \\\\\n",
    "0 & 0 & 0.45 & 0.50 & 0 & 0 & 0.20 & 0.25 \\\\\n",
    "0.20 & 0.35 & 0 & 0 & 0.1 & 0 & 0 & 0 \\\\\n",
    "0.30 & 0.15 & 0 & 0 & 0 & 0.15 & 0 & 0 \\\\\n",
    "0 & 0 & 0.20 & 0.35 & 0 & 0 & 0.10 & 0 \\\\\n",
    "0 & 0 & 0.30 & 0.15 & 0 & 0 & 0 & 0.15\n",
    "}\n",
    "$$"
   ]
  },
  {
   "cell_type": "markdown",
   "metadata": {},
   "source": [
    "<a id=\"task5\"></a>\n",
    "<h3> Task 5</h3>\n",
    "\n",
    "Let $ M = \\mymatrix{cc}{0.7 & 0.4 \\\\ 0.3 & 0.6} $ be a single bit operator. What is the matrix form of the controlled-$M$ operator where the first bit is the target bit and the second bit is the control bit."
   ]
  },
  {
   "cell_type": "markdown",
   "metadata": {},
   "source": [
    "<h3>Solution</h3>\n",
    "\n",
    "When the second bit is zero, the state of the first bit does not change. We can write this as\n",
    "* $ 00 \\xrightarrow{1} 00 $ and\n",
    "* $ 10 \\xrightarrow{1} 10 $,\n",
    "\n",
    "So, we have the first and third columns as $ \\myvector{ 1 \\\\ 0 \\\\ 0 \\\\0  } $ and $ \\myvector{0 \\\\ 0 \\\\ 1 \\\\ 0} $, respectively.\n",
    "\n",
    "When the second bit is one, the operator $ M $ is appled to the first bit. We can write this as\n",
    "* $ \\pstate{ \\bluebit{0} \\redbit{1} } \\rightarrow 0.7 \\pstate{ \\bluebit{0} \\redbit{1} } + 0.3 \\pstate{ \\bluebit{1} \\redbit{1} } $, and\n",
    "* $ \\pstate{ \\bluebit{1} \\redbit{1} } \\rightarrow 0.4 \\pstate{ \\bluebit{0} \\redbit{1} } + 0.6 \\pstate{ \\bluebit{1} \\redbit{1} } $.\n",
    "\n",
    "Thus, we also have the second and fourth columns as $ \\myvector{ 0 \\\\ 0.7 \\\\ 0 \\\\ 0.3 } $ and $ \\myvector{0 \\\\ 0.4 \\\\ 0 \\\\ 0.6} $.\n",
    "\n",
    "Therefore, the overall matrix is\n",
    "$ \\mymatrix{cccc}{ 1 & 0 & 0 & 0 \\\\ 0 & 0.7 & 0 & 0.4 \\\\ 0 & 0 & 1 & 0 \\\\ 0 & 0.3  & 0 & 0.6 }.  $"
   ]
  },
  {
   "cell_type": "markdown",
   "metadata": {},
   "source": [
    "<a id=\"task6\"></a>\n",
    "<h3> Task 6</h3>\n",
    "\n",
    "Verify that $ C_0M = (X \\otimes I) \\cdot (CM) \\cdot ( X \\otimes I ) = \\mymatrix{c|c}{ M & \\mathbf{0} \\\\ \\hline \\mathbf{0} & I }  $."
   ]
  },
  {
   "cell_type": "markdown",
   "metadata": {},
   "source": [
    "<h3>Solution</h3>\n",
    "\n",
    "We start with $ X \\otimes I $, which is equal to $ \\X \\otimes \\I = \\mymatrix{cc|cc}{ 0 & 0 & 1 & 0 \\\\ 0 & 0 & 0 & 1 \\\\ \\hline 1 & 0 & 0 & 0 \\\\ 0 & 1 & 0 & 0 } = \\mymatrix{c|c}{ \\mathbf{0} & I \\\\ \\hline I & \\mathbf{0} } $.\n",
    "\n",
    "$$\n",
    "    C_0M = (X \\otimes I) \\cdot (CM) \\cdot ( X \\otimes I ) = \n",
    "    \\mymatrix{c|c}{ \\mathbf{0} & I \\\\ \\hline I & \\mathbf{0} }  \\mymatrix{c|c}{ I & \\mathbf{0}  \\\\ \\hline  \\mathbf{0} & M } \\mymatrix{c|c}{ \\mathbf{0} & I \\\\ \\hline I & \\mathbf{0} }\n",
    "$$\n",
    "\n",
    "This multiplication can be easily done by seeing the sub-matrices as the entries of $ (2 \\times 2) $-matrices (*[block matrix multiplication](https://en.wikipedia.org/wiki/Block_matrix)*).\n",
    "\n",
    "The multiplication of the first two matrices are\n",
    "$\n",
    "    \\mymatrix{c|c}{ \\mathbf{0} & I \\\\ \\hline I & \\mathbf{0} }  \\mymatrix{c|c}{ I & \\mathbf{0}  \\\\ \\hline  \\mathbf{0} & M } \n",
    "    = \\mymatrix{c|c}{ \\mathbf{0} & M \\\\ \\hline I & \\mathbf{0} }.\n",
    "$\n",
    "\n",
    "Then, its multiplication with the third matrix is $ \\mymatrix{c|c}{ \\mathbf{0} & M \\\\ \\hline I & \\mathbf{0} }  \\mymatrix{c|c}{ \\mathbf{0} & I \\\\ \\hline I & \\mathbf{0} }  =   \\mymatrix{c|c}{ M & \\mathbf{0} \\\\ \\hline \\mathbf{0} & I }  $.\n",
    "\n",
    "\n",
    "Alternatively, we define $ M $ as $ \\mymatrix{cc}{a & b \\\\ c & d} $, and then verify the result by doing all multiplications explicitly.\n",
    "\n",
    "$$ C_0M = (X \\otimes I) \\cdot (CM) \\cdot ( X \\otimes I ) = \\mymatrix{cc|cc}{ 0 & 0 & 1 & 0 \\\\ 0 & 0 & 0 & 1 \\\\ \\hline 1 & 0 & 0 & 0 \\\\ 0 & 1 & 0 & 0 } \\cdot \\mymatrix{cc|cc}{1 & 0 & 0 & 0 \\\\ 0 & 1 & 0 & 0 \\\\ \\hline 0 & 0 & a & b \\\\ 0 & 0 & c & d} \\cdot \\mymatrix{cc|cc}{ 0 & 0 & 1 & 0 \\\\ 0 & 0 & 0 & 1 \\\\ \\hline 1 & 0 & 0 & 0 \\\\ 0 & 1 & 0 & 0 } =\n",
    "$$\n",
    "\n",
    "$$\n",
    "    \\mymatrix{cc|cc}{ 0 & 0 & a & b \\\\ 0 & 0 & c & d \\\\ \\hline 1 & 0 & 0 & 0 \\\\ 0 & 1 & 0 & 0 } \\mymatrix{cc|cc}{ 0 & 0 & 1 & 0 \\\\ 0 & 0 & 0 & 1 \\\\ \\hline 1 & 0 & 0 & 0 \\\\ 0 & 1 & 0 & 0 } =\n",
    "    \\mymatrix{cc|cc}{ a & b & 0 & 0 \\\\ c & d & 0 & 0 \\\\ \\hline 0 & 0 & 1 & 0 \\\\ 0 & 0 & 0 & 1 } =\n",
    "    \\mymatrix{c|c}{ M & \\mathbf{0} \\\\ \\hline \\mathbf{0} & I }. \n",
    "$$"
   ]
  }
 ],
 "metadata": {
  "kernelspec": {
   "display_name": "Python 3",
   "language": "python",
   "name": "python3"
  },
  "language_info": {
   "codemirror_mode": {
    "name": "ipython",
    "version": 3
   },
   "file_extension": ".py",
   "mimetype": "text/x-python",
   "name": "python",
   "nbconvert_exporter": "python",
   "pygments_lexer": "ipython3",
   "version": "3.7.1"
  }
 },
 "nbformat": 4,
 "nbformat_minor": 4
}
