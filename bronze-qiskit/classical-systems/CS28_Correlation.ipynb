{
 "cells": [
  {
   "cell_type": "markdown",
   "metadata": {},
   "source": [
    "<a href=\"https://qworld.net\" target=\"_blank\" align=\"left\"><img src=\"../qworld/images/header.jpg\"  align=\"left\"></a>\n",
    "$ \\renewcommand{\\bra}[1]{\\langle #1|} $\n",
    "$ \\renewcommand{\\ket}[1]{|#1\\rangle} $\n",
    "$ \\renewcommand{\\braket}[2]{\\langle #1|#2\\rangle} $\n",
    "$ \\renewcommand{\\dot}[2]{ #1 \\cdot #2} $\n",
    "$ \\renewcommand{\\biginner}[2]{\\left\\langle #1,#2\\right\\rangle} $\n",
    "$ \\renewcommand{\\mymatrix}[2]{\\left( \\begin{array}{#1} #2\\end{array} \\right)} $\n",
    "$ \\renewcommand{\\myvector}[1]{\\mymatrix{c}{#1}} $\n",
    "$ \\renewcommand{\\myrvector}[1]{\\mymatrix{r}{#1}} $\n",
    "$ \\renewcommand{\\mypar}[1]{\\left( #1 \\right)} $\n",
    "$ \\renewcommand{\\mybigpar}[1]{ \\Big( #1 \\Big)} $\n",
    "$ \\renewcommand{\\sqrttwo}{\\frac{1}{\\sqrt{2}}} $\n",
    "$ \\renewcommand{\\dsqrttwo}{\\dfrac{1}{\\sqrt{2}}} $\n",
    "$ \\renewcommand{\\onehalf}{\\frac{1}{2}} $\n",
    "$ \\renewcommand{\\donehalf}{\\dfrac{1}{2}} $\n",
    "$ \\renewcommand{\\hadamard}{ \\mymatrix{rr}{ \\sqrttwo & \\sqrttwo \\\\ \\sqrttwo & -\\sqrttwo }} $\n",
    "$ \\renewcommand{\\vzero}{\\myvector{1\\\\0}} $\n",
    "$ \\renewcommand{\\vone}{\\myvector{0\\\\1}} $\n",
    "$ \\renewcommand{\\stateplus}{\\myvector{ \\sqrttwo \\\\  \\sqrttwo } } $\n",
    "$ \\renewcommand{\\stateminus}{ \\myrvector{ \\sqrttwo \\\\ -\\sqrttwo } } $\n",
    "$ \\renewcommand{\\myarray}[2]{ \\begin{array}{#1}#2\\end{array}} $\n",
    "$ \\renewcommand{\\X}{ \\mymatrix{cc}{0 & 1 \\\\ 1 & 0}  } $\n",
    "$ \\renewcommand{\\I}{ \\mymatrix{rr}{1 & 0 \\\\ 0 & 1}  } $\n",
    "$ \\renewcommand{\\Z}{ \\mymatrix{rr}{1 & 0 \\\\ 0 & -1}  } $\n",
    "$ \\renewcommand{\\Htwo}{ \\mymatrix{rrrr}{ \\frac{1}{2} & \\frac{1}{2} & \\frac{1}{2} & \\frac{1}{2} \\\\ \\frac{1}{2} & -\\frac{1}{2} & \\frac{1}{2} & -\\frac{1}{2} \\\\ \\frac{1}{2} & \\frac{1}{2} & -\\frac{1}{2} & -\\frac{1}{2} \\\\ \\frac{1}{2} & -\\frac{1}{2} & -\\frac{1}{2} & \\frac{1}{2} } } $\n",
    "$ \\renewcommand{\\CNOT}{ \\mymatrix{cccc}{1 & 0 & 0 & 0 \\\\ 0 & 1 & 0 & 0 \\\\ 0 & 0 & 0 & 1 \\\\ 0 & 0 & 1 & 0} } $\n",
    "$ \\renewcommand{\\norm}[1]{ \\left\\lVert #1 \\right\\rVert } $\n",
    "$ \\renewcommand{\\pstate}[1]{ \\lceil  #1 \\rfloor } $\n",
    "$ \\renewcommand{\\greenbit}[1] {\\mathbf{{\\color{green}#1}}} $\n",
    "$ \\renewcommand{\\bluebit}[1] {\\mathbf{{\\color{blue}#1}}} $\n",
    "$ \\renewcommand{\\redbit}[1] {\\mathbf{{\\color{red}#1}}} $\n",
    "$ \\renewcommand{\\brownbit}[1] {\\mathbf{{\\color{brown}#1}}} $\n",
    "$ \\renewcommand{\\blackbit}[1] {\\mathbf{{\\color{black}#1}}} $"
   ]
  },
  {
   "cell_type": "markdown",
   "metadata": {},
   "source": [
    "<font style=\"font-size:28px;\" align=\"left\"><b> Correlation </b></font>\n",
    "<br>\n",
    "_prepared by Abuzer Yakaryilmaz_\n",
    "<br><br>\n",
    "[<img src=\"../qworld/images/watch_lecture.jpg\" align=\"left\">](https://youtu.be/gI9pJaX7NMc)\n",
    "<br><br><br>"
   ]
  },
  {
   "cell_type": "markdown",
   "metadata": {},
   "source": [
    "We start with an explanation (by Daniel Reitzner).\n",
    "\n",
    "Our father prepares the lunches of my sister and mine. He puts our boxes either pasta or couscous salad.\n",
    "\n",
    "Until openning the boxes, we do not know our lunch. But, once I open my box, I will know the lunch of my sister as well, and vice versa.\n",
    "\n",
    "This is <i>correlation</i>."
   ]
  },
  {
   "cell_type": "markdown",
   "metadata": {},
   "source": [
    "Now, we follow a more formal explanation.\n",
    "\n",
    "Asja has one euro and Balvis has one cent.\n",
    "\n",
    "Both coins are fair and we do not see their coins. \n",
    "\n",
    "They start with \"head\" (state 0): $ \\vzero $ and $ \\vzero $, respectively.\n",
    "<br>\n",
    "Asja flips her coin once. Then, the probabilistic states of Asja and Balvis are $ \\myvector{\\frac{1}{2} \\\\ \\frac{1}{2}} $ and $ \\myvector{1 \\\\ 0} $, respectively."
   ]
  },
  {
   "cell_type": "markdown",
   "metadata": {},
   "source": [
    "<h3> Task 1</h3>\n",
    "\n",
    "Calculate the state of composite system."
   ]
  },
  {
   "cell_type": "markdown",
   "metadata": {},
   "source": [
    "$ 0.5 \\pstate{00} + 0 \\pstate{01} + 0.5 \\pstate {10} + 0 \\pstate {11} = 0.5 \\pstate{00} + 0.5 \\pstate {10}$"
   ]
  },
  {
   "cell_type": "markdown",
   "metadata": {},
   "source": [
    "<a href=\"CS28_Correlation_Solutions.ipynb#task1\">click for our solution</a>"
   ]
  },
  {
   "cell_type": "markdown",
   "metadata": {},
   "source": [
    "They apply Controlled-NOT operator on their coins, which operates on two bits:\n",
    "\n",
    "$\n",
    "    CNOT = \\CNOT.\n",
    "$\n",
    "\n",
    "<i> The effect of CNOT is that, if the state of the first bit is 1, then the value of the second bit is flipped.\n",
    "\n",
    "Here the first one is the controlled bit and the second one is the targeted bit.</i>\n",
    "\n",
    "By using the basis states:\n",
    "    <li>$CNOT \\pstate{00} = \\pstate{00}$</li>\n",
    "    <li>$CNOT \\pstate{01} = \\pstate{01}$</li>\n",
    "    <li>$CNOT \\pstate{\\mathbf{\\color{red}{1}\\color{blue}{0}}} = \\pstate{\\mathbf{\\color{red}{1}\\color{blue}{1}}} $</li>\n",
    "    <li>$CNOT \\pstate{\\mathbf{\\color{red}{1}\\color{blue}{1}}} = \\pstate{\\mathbf{\\color{red}{1}\\color{blue}{0}}} $</li>\n",
    "</ul>\n",
    "    \n"
   ]
  },
  {
   "cell_type": "markdown",
   "metadata": {},
   "source": [
    "<h3> Task 2</h3>\n",
    "\n",
    "Verify that the state of composite system is $ \\frac{1}{2} \\pstate{00} + \\frac{1}{2} \\pstate{11} $ after CNOT operator."
   ]
  },
  {
   "cell_type": "markdown",
   "metadata": {},
   "source": [
    "composite system = $ 0.5 \\pstate{00} + 0.5 \\pstate{10}$\n",
    "$ = 0.5 \\cdot CNOT\\pstate{00} + 0.5 \\cdot CNOT \\pstate{10} = 0.5 \\pstate{00} + 0.5 \\pstate{11} $"
   ]
  },
  {
   "cell_type": "markdown",
   "metadata": {},
   "source": [
    "<a href=\"CS28_Correlation_Solutions.ipynb#task2\">click for our solution</a>"
   ]
  },
  {
   "cell_type": "markdown",
   "metadata": {},
   "source": [
    "<h3> Task 3 </h3>\n",
    "\n",
    "<b>Discussion and analysis:</b>\n",
    "\n",
    "Suppose that Asja and Balvis separate from each other without changing their states. \n",
    "\n",
    "If we see the Asja's coin, then can we guess the state of Balvis' coin, and vice versa? \n",
    "\n",
    "If so, we can say that both bits are correlated to each other."
   ]
  },
  {
   "cell_type": "markdown",
   "metadata": {},
   "source": [
    "<h3>Correlated systems</h3>\n",
    "\n",
    "If the state of a composite system cannot be written as the tensor product of the states of its sub-systems, then we can say that the sub-systems are correlated."
   ]
  },
  {
   "cell_type": "markdown",
   "metadata": {},
   "source": [
    "<h3>Task 4</h3>\n",
    "\n",
    "Show that it is not possible to write $ \\myvector{ \\frac{1}{2} \\\\ 0 \\\\ 0 \\\\ \\frac{1}{2} } $ as $ \\myvector{a\\\\b} \\otimes \\myvector{c\\\\d} $ for some numbers $ a,b,c,$ and $d $.\n",
    "\n",
    "<i>Remark that the correlation in general might not be easily shown as in this basic example. </i>"
   ]
  },
  {
   "cell_type": "markdown",
   "metadata": {},
   "source": [
    "$ \\myvector{a\\\\b} \\otimes \\myvector{c\\\\d} = \\myvector{a\\myvector{c\\\\d}\\\\b\\myvector{c\\\\d}} = \\myvector{ac \\\\ ad \\\\ bc \\\\bd}$\n",
    "\n",
    "ac = 0.5 \n",
    "\n",
    "ad = 0 --> d = 0\n",
    "\n",
    "bc = 0 --> b = 0\n",
    "\n",
    "bd = 0.5 --> not possible since b and d are = 0\n"
   ]
  },
  {
   "cell_type": "markdown",
   "metadata": {},
   "source": [
    "<a href=\"CS28_Correlation_Solutions.ipynb#task4\">click for our solution</a>"
   ]
  },
  {
   "cell_type": "markdown",
   "metadata": {},
   "source": [
    "<h3> Correlation with more than two bits</h3>\n",
    "\n",
    "Curie has a 50 cent in state 0. \n",
    "\n",
    "Then, the state of the composite system defined by these three coins will be \n",
    "\n",
    "$ \\mypar{ \\frac{1}{2} \\pstate{00} + \\frac{1}{2} \\pstate{11}  } \\otimes \\pstate{0} = \n",
    "\\frac{1}{2} \\pstate{000} + \\frac{1}{2} \\pstate{110} $.\n",
    "\n",
    "What happens if CNOT operator is applied to Asja's coin and Curie's coin, where Asja's coin is the control one and Curie's coin is the target one?\n",
    "\n",
    "CNOT is an operator defined for two bits. So, it can be applied to any pair of bits. \n",
    "\n",
    "In such a case, the value of any other bit in the composed system does not change.\n",
    "\n",
    "One may ask how its matrix form looks like defined on three bits."
   ]
  },
  {
   "cell_type": "markdown",
   "metadata": {},
   "source": [
    "<h3> Task 5 </h3>\n",
    "\n",
    "Verify that the CNOT operator applied to Asja's and Curie's coins as described above maps the basis states as follows:\n",
    "    <li> $ \\pstate{000} \\rightarrow \\pstate{000} $ </li>\n",
    "    <li> $ \\pstate{001} \\rightarrow \\pstate{001} $ </li>\n",
    "    <li> $ \\pstate{010} \\rightarrow \\pstate{010} $ </li>\n",
    "    <li> $ \\pstate{011} \\rightarrow \\pstate{011} $ </li>\n",
    "    <li> $ \\pstate{ \\mathbf{\\color{red}{1}} 0  \\mathbf{\\color{blue}{0}} } \\rightarrow \\pstate{ \\mathbf{\\color{red}{1}} 0  \\mathbf{\\color{blue}{1}} }  $ </li>\n",
    "    <li> $ \\pstate{ \\mathbf{\\color{red}{1}} 0  \\mathbf{\\color{blue}{1}} } \\rightarrow \\pstate{ \\mathbf{\\color{red}{1}} 0  \\mathbf{\\color{blue}{0}} }  $ </li>\n",
    "    <li> $ \\pstate{ \\mathbf{\\color{red}{1}} 1  \\mathbf{\\color{blue}{0}} } \\rightarrow \\pstate{ \\mathbf{\\color{red}{1}} 1  \\mathbf{\\color{blue}{1}} }  $ </li>\n",
    "    <li> $ \\pstate{ \\mathbf{\\color{red}{1}} 1  \\mathbf{\\color{blue}{1}} } \\rightarrow \\pstate{ \\mathbf{\\color{red}{1}} 1  \\mathbf{\\color{blue}{0}} }  $ </li>\n"
   ]
  },
  {
   "cell_type": "markdown",
   "metadata": {},
   "source": [
    "<h3> Task 6 </h3>\n",
    "\n",
    "Verify that the described operator in Task 5 has the following matrix form:\n",
    "\n",
    "$$\n",
    "    \\mymatrix{cccc|cccc} {\n",
    "     \\mathbf{1} & 0 & 0 & 0 & 0 & 0 & 0 & 0 \\\\\n",
    "     0 & \\mathbf{1} & 0 & 0 & 0 & 0 & 0 & 0 \\\\\n",
    "     0 & 0 & \\mathbf{1} & 0 & 0 & 0 & 0 & 0 \\\\\n",
    "     0 & 0 & 0 & \\mathbf{1} & 0 & 0 & 0 & 0 \\\\      \n",
    "     \\hline\n",
    "     0 & 0 & 0 & 0 & 0 & \\mathbf{1} & 0 & 0 \\\\\n",
    "     0 & 0 & 0 & 0 & \\mathbf{1} & 0 & 0 & 0 \\\\\n",
    "     0 & 0 & 0 & 0 & 0 & 0 & 0 & \\mathbf{1} \\\\\n",
    "     0 & 0 & 0 & 0 & 0 & 0 & \\mathbf{1} & 0 \\\\\n",
    "    }\n",
    "$$"
   ]
  },
  {
   "cell_type": "markdown",
   "metadata": {},
   "source": [
    "<h3> Task 7 </h3>\n",
    "\n",
    "Calculate the new state of the composed system defined on the three bits after the CNOT operator defined in Task 5 or Task6.\n",
    "\n",
    "$ \\frac{1}{2} \\pstate{000} + \\frac{1}{2} \\pstate{110} \\rightarrow ? $"
   ]
  },
  {
   "cell_type": "markdown",
   "metadata": {},
   "source": [
    "$ CNOT(\\frac{1}{2} \\pstate{000} + \\frac{1}{2} \\pstate{110}) = 0.5 \\pstate{000} + 0.5 \\pstate{111} $\n"
   ]
  },
  {
   "cell_type": "markdown",
   "metadata": {},
   "source": [
    "<a href=\"CS28_Correlation_Solutions.ipynb#task7\">click for our solution</a>"
   ]
  },
  {
   "cell_type": "markdown",
   "metadata": {},
   "source": [
    "<h3> Task 8 </h3>\n",
    "\n",
    "Suppose that Daria had a 10 cent in state 1, and its coin is also combined with the composite system.\n",
    "\n",
    "What is the state of the new composite system?\n",
    "\n",
    "Then, CNOT operator is applied to Curie's coin and Daria's coin, where Curie's coin is the control bit.\n",
    "\n",
    "What is the new state of the composite system after this CNOT operator?\n",
    "\n",
    "<i>Observe that the correlation with a new bit can be created by applying a CNOT gate between any bit already in the correlation and the new bit, where the new bit is the target one.</i>"
   ]
  },
  {
   "cell_type": "markdown",
   "metadata": {},
   "source": [
    "$ 0.5 \\pstate{000} + 0.5 \\pstate{111} \\otimes \\pstate{1} = 0.5 \\pstate{0001} + 0.5 \\pstate{1111} $\n",
    "\n",
    "$ CNOT(0.5 \\pstate{0001} + 0.5 \\pstate{1111}) = 0.5 \\pstate{0001} + 0.5 \\pstate{1110}$"
   ]
  },
  {
   "cell_type": "markdown",
   "metadata": {},
   "source": [
    "<a href=\"CS28_Correlation_Solutions.ipynb#task8\">click for our solution</a>"
   ]
  }
 ],
 "metadata": {
  "kernelspec": {
   "display_name": "Python 3",
   "language": "python",
   "name": "python3"
  },
  "language_info": {
   "codemirror_mode": {
    "name": "ipython",
    "version": 3
   },
   "file_extension": ".py",
   "mimetype": "text/x-python",
   "name": "python",
   "nbconvert_exporter": "python",
   "pygments_lexer": "ipython3",
   "version": "0.0.0"
  }
 },
 "nbformat": 4,
 "nbformat_minor": 2
}
