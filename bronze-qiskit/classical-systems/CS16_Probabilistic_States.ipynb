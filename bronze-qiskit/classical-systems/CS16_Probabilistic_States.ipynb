{
 "cells": [
  {
   "cell_type": "markdown",
   "metadata": {},
   "source": [
    "<a href=\"https://qworld.net\" target=\"_blank\" align=\"left\"><img src=\"../qworld/images/header.jpg\"  align=\"left\"></a>\n",
    "$ \\renewcommand{\\bra}[1]{\\langle #1|} $\n",
    "$ \\renewcommand{\\ket}[1]{|#1\\rangle} $\n",
    "$ \\renewcommand{\\braket}[2]{\\langle #1|#2\\rangle} $\n",
    "$ \\renewcommand{\\dot}[2]{ #1 \\cdot #2} $\n",
    "$ \\renewcommand{\\biginner}[2]{\\left\\langle #1,#2\\right\\rangle} $\n",
    "$ \\renewcommand{\\mymatrix}[2]{\\left( \\begin{array}{#1} #2\\end{array} \\right)} $\n",
    "$ \\renewcommand{\\myvector}[1]{\\mymatrix{c}{#1}} $\n",
    "$ \\renewcommand{\\myrvector}[1]{\\mymatrix{r}{#1}} $\n",
    "$ \\renewcommand{\\mypar}[1]{\\left( #1 \\right)} $\n",
    "$ \\renewcommand{\\mybigpar}[1]{ \\Big( #1 \\Big)} $\n",
    "$ \\renewcommand{\\sqrttwo}{\\frac{1}{\\sqrt{2}}} $\n",
    "$ \\renewcommand{\\dsqrttwo}{\\dfrac{1}{\\sqrt{2}}} $\n",
    "$ \\renewcommand{\\onehalf}{\\frac{1}{2}} $\n",
    "$ \\renewcommand{\\donehalf}{\\dfrac{1}{2}} $\n",
    "$ \\renewcommand{\\hadamard}{ \\mymatrix{rr}{ \\sqrttwo & \\sqrttwo \\\\ \\sqrttwo & -\\sqrttwo }} $\n",
    "$ \\renewcommand{\\vzero}{\\myvector{1\\\\0}} $\n",
    "$ \\renewcommand{\\vone}{\\myvector{0\\\\1}} $\n",
    "$ \\renewcommand{\\stateplus}{\\myvector{ \\sqrttwo \\\\  \\sqrttwo } } $\n",
    "$ \\renewcommand{\\stateminus}{ \\myrvector{ \\sqrttwo \\\\ -\\sqrttwo } } $\n",
    "$ \\renewcommand{\\myarray}[2]{ \\begin{array}{#1}#2\\end{array}} $\n",
    "$ \\renewcommand{\\X}{ \\mymatrix{cc}{0 & 1 \\\\ 1 & 0}  } $\n",
    "$ \\renewcommand{\\I}{ \\mymatrix{rr}{1 & 0 \\\\ 0 & 1}  } $\n",
    "$ \\renewcommand{\\Z}{ \\mymatrix{rr}{1 & 0 \\\\ 0 & -1}  } $\n",
    "$ \\renewcommand{\\Htwo}{ \\mymatrix{rrrr}{ \\frac{1}{2} & \\frac{1}{2} & \\frac{1}{2} & \\frac{1}{2} \\\\ \\frac{1}{2} & -\\frac{1}{2} & \\frac{1}{2} & -\\frac{1}{2} \\\\ \\frac{1}{2} & \\frac{1}{2} & -\\frac{1}{2} & -\\frac{1}{2} \\\\ \\frac{1}{2} & -\\frac{1}{2} & -\\frac{1}{2} & \\frac{1}{2} } } $\n",
    "$ \\renewcommand{\\CNOT}{ \\mymatrix{cccc}{1 & 0 & 0 & 0 \\\\ 0 & 1 & 0 & 0 \\\\ 0 & 0 & 0 & 1 \\\\ 0 & 0 & 1 & 0} } $\n",
    "$ \\renewcommand{\\norm}[1]{ \\left\\lVert #1 \\right\\rVert } $\n",
    "$ \\renewcommand{\\pstate}[1]{ \\lceil \\mspace{-1mu} #1 \\mspace{-1.5mu} \\rfloor } $\n",
    "$ \\renewcommand{\\greenbit}[1] {\\mathbf{{\\color{green}#1}}} $\n",
    "$ \\renewcommand{\\bluebit}[1] {\\mathbf{{\\color{blue}#1}}} $\n",
    "$ \\renewcommand{\\redbit}[1] {\\mathbf{{\\color{red}#1}}} $\n",
    "$ \\renewcommand{\\brownbit}[1] {\\mathbf{{\\color{brown}#1}}} $\n",
    "$ \\renewcommand{\\blackbit}[1] {\\mathbf{{\\color{black}#1}}} $"
   ]
  },
  {
   "cell_type": "markdown",
   "metadata": {},
   "source": [
    "<font style=\"font-size:28px;\" align=\"left\"><b>Probabilistic States  </b></font>\n",
    "<br>\n",
    "_prepared by Abuzer Yakaryilmaz_\n",
    "<br><br>\n",
    "[<img src=\"../qworld/images/watch_lecture.jpg\" align=\"left\">](https://youtu.be/tJjrF7WgT1g)\n",
    "<br><br><br>"
   ]
  },
  {
   "cell_type": "markdown",
   "metadata": {},
   "source": [
    "Suppose that Asja tosses a fair coin secretly.\n",
    "\n",
    "As we do not see the result, our information about the outcome will be probabilistic:\n",
    "\n",
    "$\\rightarrow$ The outcome is heads with probability $0.5$ and the outcome will be tails with probability $0.5$.\n",
    "\n",
    "If the coin has a bias $ \\dfrac{Pr(Head)}{Pr(Tail)} = \\dfrac{3}{1}$, then our information about the outcome will be as follows:\n",
    "\n",
    "$\\rightarrow$  The outcome will be heads with probability $ 0.75 $ and the outcome will be tails with probability $ 0.25 $."
   ]
  },
  {
   "cell_type": "markdown",
   "metadata": {},
   "source": [
    "<i><u>Explanation</u>: The probability of getting heads is three times of the probability of getting tails.\n",
    "    <ul>\n",
    "        <li>The total probability is 1. </li>\n",
    "        <li> We divide the whole probability 1 into four parts (three parts are for heads and one part is for tail),\n",
    "        <li> one part is $ \\dfrac{1}{4} = 0.25$,</li>\n",
    "        <li> and then give three parts for heads ($0.75$) and one part for tails ($0.25$).</li>\n",
    "    </ul></i>"
   ]
  },
  {
   "cell_type": "markdown",
   "metadata": {},
   "source": [
    "<h3> Listing probabilities as a column </h3>\n",
    "\n",
    "We have two different outcomes: heads (0) and tails (1).\n",
    "\n",
    "We use a column of size 2 to show the probabilities of getting heads and getting tails.\n",
    "\n",
    "For the fair coin, our information after the coin-flip will be $ 0.5 / 0.5 $. \n",
    "\n",
    "For the biased coin, it will be $ 0.75 / 0.25 $.\n",
    "\n",
    "The first entry shows the probability of getting heads, and the second entry shows the probability of getting tails.\n",
    "\n",
    " $ 0.5 / 0.5 $ and $ 0.75 / 0.25 $ are two examples of 2-dimensional (column) vectors."
   ]
  },
  {
   "cell_type": "markdown",
   "metadata": {},
   "source": [
    "<h3> Task 1 </h3>\n",
    "\n",
    "Suppose that Balvis secretly flips a coin having the bias $ \\dfrac{Pr(Heads)}{Pr(Tails)} = \\dfrac{1}{4}$.\n",
    "\n",
    "Represent your information about the outcome as a column vector."
   ]
  },
  {
   "cell_type": "markdown",
   "metadata": {},
   "source": [
    "- Outcome is heads with a probability of 1/5 = 0.2\n",
    "- Outcome is tails with a probability of 4/5 = 0.8"
   ]
  },
  {
   "cell_type": "markdown",
   "metadata": {},
   "source": [
    "<h3> Task 2 </h3>\n",
    "\n",
    "Suppose that Fyodor secretly rolls a loaded (tricky) dice with the bias \n",
    "\n",
    "$$ Pr(1):Pr(2):Pr(3):Pr(4):Pr(5):Pr(6) = 7:5:4:2:6:1 . $$\n",
    "\n",
    "Represent your information about the result as a column vector. Remark that the size of your column vector should be 6.\n",
    "\n",
    "You may use python for your calculations."
   ]
  },
  {
   "cell_type": "code",
   "execution_count": 2,
   "metadata": {},
   "outputs": [
    {
     "name": "stdout",
     "output_type": "stream",
     "text": [
      "total =  25\n",
      "Pr( 1 ) =  0.28\n",
      "Pr( 2 ) =  0.2\n",
      "Pr( 3 ) =  0.16\n",
      "Pr( 4 ) =  0.08\n",
      "Pr( 5 ) =  0.24\n",
      "Pr( 6 ) =  0.04\n"
     ]
    }
   ],
   "source": [
    "#\n",
    "# your code is here\n",
    "#\n",
    "bias = [7,5,4,2,6,1]\n",
    "\n",
    "total = 0\n",
    "for i in bias:\n",
    "    total+=i\n",
    "\n",
    "print('total = ',total)\n",
    "\n",
    "prob = []\n",
    "for i in bias:\n",
    "    prob.append(i/total)\n",
    "\n",
    "for i in range(6):\n",
    "    print('Pr(',i+1,') = ',prob[i])\n"
   ]
  },
  {
   "cell_type": "markdown",
   "metadata": {},
   "source": [
    "<a href=\"CS16_Probabilistic_States_Solutions.ipynb#task2\">click for our solution</a>"
   ]
  },
  {
   "cell_type": "markdown",
   "metadata": {},
   "source": [
    "<h3> Vector representation </h3>\n",
    "\n",
    "Suppose that we have a system with 4 distiguishable states: $ s_1 $, $s_2 $, $s_3$, and $s_4$.  \n",
    "\n",
    "We expect the system to be in one of them at any moment. \n",
    "\n",
    "By speaking with probabilities, we say that the system is in one of the states with probability 1, and in any other state with probability 0. \n",
    "\n",
    "By using our column representation, we can show each state as a column vector (by using the vectors in standard basis of $ \\mathbb{R}^4 $):\n",
    "\n",
    "$\n",
    "    e_1 = \\myvector{1\\\\ 0 \\\\ 0 \\\\ 0}, e_2 = \\myvector{0 \\\\ 1 \\\\ 0 \\\\ 0}, e_3 = \\myvector{0 \\\\ 0 \\\\ 1 \\\\ 0}, \n",
    "    and ~ e_4 = \\myvector{0 \\\\ 0 \\\\ 0 \\\\ 1}.\n",
    "$"
   ]
  },
  {
   "cell_type": "markdown",
   "metadata": {},
   "source": [
    "This representation helps us to represent our information on a system when it is in more than one state with certain probabilities. \n",
    "\n",
    "Remember the case in which the coins are tossed secretly. \n",
    "\n",
    "For example, suppose that the system is in states $ s_1 $, $ s_2 $, $ s_3 $, and $ s_4 $ with probabilities $ 0.20 $, $ 0.25 $, $ 0.40 $, and $ 0.15 $, respectively. \n",
    "\n",
    "(<i>The total probability must be 1, i.e., $ 0.20+0.25+0.40+0.15 = 1.00 $</i>)\n",
    "\n",
    "Then, we can say that the system is in the following probabilistic state:\n",
    "\n",
    "$ 0.20 \\cdot e_1 + 0.25 \\cdot e_2 + 0.40 \\cdot e_3 + 0.15 \\cdot e_4 $\n",
    "\n",
    "$ =  0.20 \\cdot \\myvector{1\\\\ 0 \\\\ 0 \\\\ 0} + 0.25 \\cdot {0\\\\ 1 \\\\ 0 \\\\ 0} + 0.40 \\cdot \\myvector{0\\\\ 0 \\\\ 1 \\\\ 0} + 0.15 \\cdot  \\myvector{0\\\\ 0 \\\\ 0 \\\\ 1}  $\n",
    "\n",
    "$ = \\myvector{0.20\\\\ 0 \\\\ 0 \\\\ 0} +   \\myvector{0\\\\ 0.25 \\\\ 0 \\\\ 0} +  \\myvector{0\\\\ 0 \\\\0.40 \\\\ 0} +  \\myvector{0\\\\ 0 \\\\ 0 \\\\ 0.15 } = \\myvector{ 0.20 \\\\ 0.25 \\\\ 0.40 \\\\ 0.15 }, $\n",
    "\n",
    "where the summation of entries must be 1."
   ]
  },
  {
   "cell_type": "markdown",
   "metadata": {},
   "source": [
    "<h3> Probabilistic state </h3>\n",
    "\n",
    "A probabilistic state is a linear combination of the vectors in the standard basis. \n",
    "    \n",
    "Here coefficients (scalars) must satisfy certain properties:\n",
    "<ol>\n",
    "    <li> Each coefficient is non-negative </li>\n",
    "    <li> The summation of coefficients is 1 </li>\n",
    "</ol>\n",
    "\n",
    "\n",
    "Alternatively, we can say that a probabilistic state is a probability distribution over deterministic states.\n",
    "\n",
    "We can show all information as a single mathematical object, which is called as a stochastic vector.\n",
    "\n",
    "<i> Remark that the state of any linear system is a linear combination of the vectors in the basis. </i> "
   ]
  },
  {
   "cell_type": "markdown",
   "metadata": {},
   "source": [
    "<h3> Task 3 </h3>\n",
    "\n",
    "For a system with 4 states, randomly create a probabilistic state, and print its entries, e.g., $ 0.16~~0.17~~0.02~~0.65 $.\n",
    "\n",
    "<i>Hint: You may pick your random numbers between 0 and 100 (or 1000), and then normalize each value by dividing the summation of all numbers.</i>"
   ]
  },
  {
   "cell_type": "code",
   "execution_count": 3,
   "metadata": {},
   "outputs": [
    {
     "name": "stdout",
     "output_type": "stream",
     "text": [
      "State  1  =  0.08333333333333333\n",
      "State  2  =  0.359375\n",
      "State  3  =  0.4166666666666667\n",
      "State  4  =  0.140625\n",
      "Sum =  1.0\n"
     ]
    }
   ],
   "source": [
    "#\n",
    "# your solution is here\n",
    "#\n",
    "from random import randrange\n",
    "states = []\n",
    "total = 0\n",
    "for i in range(4):\n",
    "    n = randrange(101)\n",
    "    states.append(n)\n",
    "    total+=n\n",
    "\n",
    "sum = 0\n",
    "for i in range(4):\n",
    "    states[i]=states[i]/total\n",
    "    sum += states[i]\n",
    "    print('State ',i+1,' = ',states[i])\n",
    "\n",
    "print('Sum = ',sum)\n",
    "\n"
   ]
  },
  {
   "cell_type": "markdown",
   "metadata": {},
   "source": [
    "<a href=\"CS16_Probabilistic_States_Solutions.ipynb#task3\">click for our solution</a>"
   ]
  },
  {
   "cell_type": "markdown",
   "metadata": {},
   "source": [
    "<h3> Task 4 [extra] </h3>\n",
    "\n",
    "As given in the hint for Task 3, you may pick your random numbers between 0 and $ 10^k $. For better precision, you may take bigger values of $ k $.\n",
    "\n",
    "Write a function that randomly creates a probabilisitic state of size $ n $ with a precision up to $ k $ digits. \n",
    "\n",
    "Test your function."
   ]
  },
  {
   "cell_type": "code",
   "execution_count": 4,
   "metadata": {},
   "outputs": [
    {
     "name": "stdout",
     "output_type": "stream",
     "text": [
      "State  1  =  0.24987349092749223\n",
      "State  2  =  0.14150943396226415\n",
      "State  3  =  0.1434251427745247\n",
      "State  4  =  0.2722113785874358\n",
      "State  5  =  0.01922937902118123\n",
      "State  6  =  0.17375117472710186\n",
      "Sum =  1.0\n"
     ]
    }
   ],
   "source": [
    "#\n",
    "# your solution is here\n",
    "#\n",
    "def Prob(n,k):\n",
    "    from random import randrange\n",
    "    states = []\n",
    "    total = 0\n",
    "    for i in range(n):\n",
    "        num = randrange(pow(10,k)+1)\n",
    "        states.append(num)\n",
    "        total+=num\n",
    "\n",
    "    sum = 0\n",
    "    for i in range(n):\n",
    "        states[i]=states[i]/total\n",
    "        sum += states[i]\n",
    "        print('State ',i+1,' = ',states[i])\n",
    "\n",
    "    print('Sum = ',sum)\n",
    "\n",
    "Prob(6,4)\n"
   ]
  }
 ],
 "metadata": {
  "kernelspec": {
   "display_name": "Python 3",
   "language": "python",
   "name": "python3"
  },
  "language_info": {
   "codemirror_mode": {
    "name": "ipython",
    "version": 3
   },
   "file_extension": ".py",
   "mimetype": "text/x-python",
   "name": "python",
   "nbconvert_exporter": "python",
   "pygments_lexer": "ipython3",
   "version": "3.11.5"
  }
 },
 "nbformat": 4,
 "nbformat_minor": 2
}
