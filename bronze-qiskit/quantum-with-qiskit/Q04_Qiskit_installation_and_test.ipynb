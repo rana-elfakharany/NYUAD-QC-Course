{
 "cells": [
  {
   "cell_type": "markdown",
   "metadata": {},
   "source": [
    "<a href=\"https://qworld.net\" target=\"_blank\" align=\"left\"><img src=\"../qworld/images/header.jpg\"  align=\"left\"></a>\n",
    "$ \\newcommand{\\bra}[1]{\\langle #1|} $\n",
    "$ \\newcommand{\\ket}[1]{|#1\\rangle} $\n",
    "$ \\newcommand{\\braket}[2]{\\langle #1|#2\\rangle} $\n",
    "$ \\newcommand{\\dot}[2]{ #1 \\cdot #2} $\n",
    "$ \\newcommand{\\biginner}[2]{\\left\\langle #1,#2\\right\\rangle} $\n",
    "$ \\newcommand{\\mymatrix}[2]{\\left( \\begin{array}{#1} #2\\end{array} \\right)} $\n",
    "$ \\newcommand{\\myvector}[1]{\\mymatrix{c}{#1}} $\n",
    "$ \\newcommand{\\myrvector}[1]{\\mymatrix{r}{#1}} $\n",
    "$ \\newcommand{\\mypar}[1]{\\left( #1 \\right)} $\n",
    "$ \\newcommand{\\mybigpar}[1]{ \\Big( #1 \\Big)} $\n",
    "$ \\newcommand{\\sqrttwo}{\\frac{1}{\\sqrt{2}}} $\n",
    "$ \\newcommand{\\dsqrttwo}{\\dfrac{1}{\\sqrt{2}}} $\n",
    "$ \\newcommand{\\onehalf}{\\frac{1}{2}} $\n",
    "$ \\newcommand{\\donehalf}{\\dfrac{1}{2}} $\n",
    "$ \\newcommand{\\hadamard}{ \\mymatrix{rr}{ \\sqrttwo & \\sqrttwo \\\\ \\sqrttwo & -\\sqrttwo }} $\n",
    "$ \\newcommand{\\vzero}{\\myvector{1\\\\0}} $\n",
    "$ \\newcommand{\\vone}{\\myvector{0\\\\1}} $\n",
    "$ \\newcommand{\\stateplus}{\\myvector{ \\sqrttwo \\\\  \\sqrttwo } } $\n",
    "$ \\newcommand{\\stateminus}{ \\myrvector{ \\sqrttwo \\\\ -\\sqrttwo } } $\n",
    "$ \\newcommand{\\myarray}[2]{ \\begin{array}{#1}#2\\end{array}} $\n",
    "$ \\newcommand{\\X}{ \\mymatrix{cc}{0 & 1 \\\\ 1 & 0}  } $\n",
    "$ \\newcommand{\\I}{ \\mymatrix{rr}{1 & 0 \\\\ 0 & 1}  } $\n",
    "$ \\newcommand{\\Z}{ \\mymatrix{rr}{1 & 0 \\\\ 0 & -1}  } $\n",
    "$ \\newcommand{\\Htwo}{ \\mymatrix{rrrr}{ \\frac{1}{2} & \\frac{1}{2} & \\frac{1}{2} & \\frac{1}{2} \\\\ \\frac{1}{2} & -\\frac{1}{2} & \\frac{1}{2} & -\\frac{1}{2} \\\\ \\frac{1}{2} & \\frac{1}{2} & -\\frac{1}{2} & -\\frac{1}{2} \\\\ \\frac{1}{2} & -\\frac{1}{2} & -\\frac{1}{2} & \\frac{1}{2} } } $\n",
    "$ \\newcommand{\\CNOT}{ \\mymatrix{cccc}{1 & 0 & 0 & 0 \\\\ 0 & 1 & 0 & 0 \\\\ 0 & 0 & 0 & 1 \\\\ 0 & 0 & 1 & 0} } $\n",
    "$ \\newcommand{\\norm}[1]{ \\left\\lVert #1 \\right\\rVert } $\n",
    "$ \\newcommand{\\pstate}[1]{ \\lceil \\mspace{-1mu} #1 \\mspace{-1.5mu} \\rfloor } $\n",
    "$ \\newcommand{\\greenbit}[1] {\\mathbf{{\\color{green}#1}}} $\n",
    "$ \\newcommand{\\bluebit}[1] {\\mathbf{{\\color{blue}#1}}} $\n",
    "$ \\newcommand{\\redbit}[1] {\\mathbf{{\\color{red}#1}}} $\n",
    "$ \\newcommand{\\brownbit}[1] {\\mathbf{{\\color{brown}#1}}} $\n",
    "$ \\newcommand{\\blackbit}[1] {\\mathbf{{\\color{black}#1}}} $"
   ]
  },
  {
   "cell_type": "markdown",
   "metadata": {},
   "source": [
    "<font style=\"font-size:28px;\" align=\"left\"><b> Qiskit installation and test </b></font>\n",
    "<br>\n",
    "_prepared by Abuzer Yakaryilmaz_\n",
    "<br><br>"
   ]
  },
  {
   "cell_type": "markdown",
   "metadata": {},
   "source": [
    "- [Check your system](#check)\n",
    "- [Install qiskit](#install)\n",
    "- [Tips](#tips)\n",
    "- [Execute an example quantum program](#test)\n",
    "- [Complete test](#complete)"
   ]
  },
  {
   "cell_type": "markdown",
   "metadata": {},
   "source": [
    "<hr id=\"check\">\n",
    "\n",
    "### Check your system\n",
    "\n",
    "Check your system, if Qiskit has already been installed:"
   ]
  },
  {
   "cell_type": "code",
   "execution_count": 1,
   "metadata": {},
   "outputs": [
    {
     "name": "stdout",
     "output_type": "stream",
     "text": [
      "The version of Qiskit is 0.43.0\n",
      "\n",
      "The version of each component:\n",
      "qiskit-terra -> 0.24.0\n",
      "qiskit-aer -> 0.12.0\n",
      "qiskit-ignis -> None\n",
      "qiskit-ibmq-provider -> 0.20.2\n",
      "qiskit -> 0.43.0\n",
      "qiskit-nature -> None\n",
      "qiskit-finance -> None\n",
      "qiskit-optimization -> None\n",
      "qiskit-machine-learning -> None\n"
     ]
    }
   ],
   "source": [
    "import qiskit\n",
    "versions = qiskit.__qiskit_version__\n",
    "print(\"The version of Qiskit is\",versions['qiskit'])\n",
    "print()\n",
    "print(\"The version of each component:\")\n",
    "for key in versions:\n",
    "    print(key,\"->\",versions[key])"
   ]
  },
  {
   "cell_type": "markdown",
   "metadata": {},
   "source": [
    "**You should be able to see the version number of any library that is already installed in your system.**"
   ]
  },
  {
   "cell_type": "markdown",
   "metadata": {},
   "source": [
    "<hr id=\"install\">\n",
    "\n",
    "### Install qiskit\n",
    "\n",
    "(If you are an experienced user, visit this link: https://docs.quantum-computing.ibm.com/start/install)\n",
    "\n",
    "You can install Qiskit by executing the following cell:"
   ]
  },
  {
   "cell_type": "code",
   "execution_count": 1,
   "metadata": {},
   "outputs": [
    {
     "name": "stdout",
     "output_type": "stream",
     "text": [
      "^C\n"
     ]
    },
    {
     "name": "stdout",
     "output_type": "stream",
     "text": [
      "Collecting qiskit[visualization]\n",
      "  Downloading qiskit-1.0.0-cp38-abi3-win_amd64.whl.metadata (12 kB)\n",
      "Collecting rustworkx>=0.14.0 (from qiskit[visualization])\n",
      "  Downloading rustworkx-0.14.0-cp311-cp311-win_amd64.whl.metadata (10 kB)\n",
      "Requirement already satisfied: numpy<2,>=1.17 in c:\\users\\ronyf\\anaconda3\\lib\\site-packages (from qiskit[visualization]) (1.24.3)\n",
      "Requirement already satisfied: scipy>=1.5 in c:\\users\\ronyf\\anaconda3\\lib\\site-packages (from qiskit[visualization]) (1.11.4)\n",
      "Requirement already satisfied: sympy>=1.3 in c:\\users\\ronyf\\anaconda3\\lib\\site-packages (from qiskit[visualization]) (1.11.1)\n",
      "Requirement already satisfied: dill>=0.3 in c:\\users\\ronyf\\anaconda3\\lib\\site-packages (from qiskit[visualization]) (0.3.6)\n",
      "Requirement already satisfied: python-dateutil>=2.8.0 in c:\\users\\ronyf\\appdata\\roaming\\python\\python311\\site-packages (from qiskit[visualization]) (2.8.2)\n",
      "Collecting stevedore>=3.0.0 (from qiskit[visualization])\n",
      "  Downloading stevedore-5.1.0-py3-none-any.whl.metadata (2.2 kB)\n",
      "Requirement already satisfied: typing-extensions in c:\\users\\ronyf\\anaconda3\\lib\\site-packages (from qiskit[visualization]) (4.9.0)\n",
      "Collecting symengine>=0.11 (from qiskit[visualization])\n",
      "  Downloading symengine-0.11.0-cp311-cp311-win_amd64.whl.metadata (1.2 kB)\n",
      "Requirement already satisfied: matplotlib>=3.3 in c:\\users\\ronyf\\anaconda3\\lib\\site-packages (from qiskit[visualization]) (3.8.0)\n",
      "Collecting pydot (from qiskit[visualization])\n",
      "  Downloading pydot-2.0.0-py3-none-any.whl.metadata (9.6 kB)\n",
      "Requirement already satisfied: Pillow>=4.2.1 in c:\\users\\ronyf\\anaconda3\\lib\\site-packages (from qiskit[visualization]) (10.2.0)\n",
      "Collecting pylatexenc>=1.4 (from qiskit[visualization])\n",
      "  Downloading pylatexenc-2.10.tar.gz (162 kB)\n",
      "     ---------------------------------------- 0.0/162.6 kB ? eta -:--:--\n",
      "     ----------------------------------- -- 153.6/162.6 kB 9.0 MB/s eta 0:00:01\n",
      "     -------------------------------------- 162.6/162.6 kB 4.9 MB/s eta 0:00:00\n",
      "  Preparing metadata (setup.py): started\n",
      "  Preparing metadata (setup.py): finished with status 'done'\n",
      "Requirement already satisfied: seaborn>=0.9.0 in c:\\users\\ronyf\\anaconda3\\lib\\site-packages (from qiskit[visualization]) (0.13.0)\n",
      "Requirement already satisfied: contourpy>=1.0.1 in c:\\users\\ronyf\\anaconda3\\lib\\site-packages (from matplotlib>=3.3->qiskit[visualization]) (1.2.0)\n",
      "Requirement already satisfied: cycler>=0.10 in c:\\users\\ronyf\\anaconda3\\lib\\site-packages (from matplotlib>=3.3->qiskit[visualization]) (0.11.0)\n",
      "Requirement already satisfied: fonttools>=4.22.0 in c:\\users\\ronyf\\anaconda3\\lib\\site-packages (from matplotlib>=3.3->qiskit[visualization]) (4.25.0)\n",
      "Requirement already satisfied: kiwisolver>=1.0.1 in c:\\users\\ronyf\\anaconda3\\lib\\site-packages (from matplotlib>=3.3->qiskit[visualization]) (1.4.4)\n",
      "Requirement already satisfied: packaging>=20.0 in c:\\users\\ronyf\\appdata\\roaming\\python\\python311\\site-packages (from matplotlib>=3.3->qiskit[visualization]) (23.2)\n",
      "Requirement already satisfied: pyparsing>=2.3.1 in c:\\users\\ronyf\\anaconda3\\lib\\site-packages (from matplotlib>=3.3->qiskit[visualization]) (3.0.9)\n",
      "Requirement already satisfied: six>=1.5 in c:\\users\\ronyf\\appdata\\roaming\\python\\python311\\site-packages (from python-dateutil>=2.8.0->qiskit[visualization]) (1.16.0)\n",
      "Requirement already satisfied: pandas>=1.2 in c:\\users\\ronyf\\anaconda3\\lib\\site-packages (from seaborn>=0.9.0->qiskit[visualization]) (2.1.4)\n",
      "Collecting pbr!=2.1.0,>=2.0.0 (from stevedore>=3.0.0->qiskit[visualization])\n",
      "  Downloading pbr-6.0.0-py2.py3-none-any.whl.metadata (1.3 kB)\n",
      "Requirement already satisfied: mpmath>=0.19 in c:\\users\\ronyf\\anaconda3\\lib\\site-packages (from sympy>=1.3->qiskit[visualization]) (1.3.0)\n",
      "Requirement already satisfied: pytz>=2020.1 in c:\\users\\ronyf\\anaconda3\\lib\\site-packages (from pandas>=1.2->seaborn>=0.9.0->qiskit[visualization]) (2023.3.post1)\n",
      "Requirement already satisfied: tzdata>=2022.1 in c:\\users\\ronyf\\anaconda3\\lib\\site-packages (from pandas>=1.2->seaborn>=0.9.0->qiskit[visualization]) (2023.3)\n",
      "Downloading rustworkx-0.14.0-cp311-cp311-win_amd64.whl (1.6 MB)\n",
      "   ---------------------------------------- 0.0/1.6 MB ? eta -:--:--\n",
      "   ------------ --------------------------- 0.5/1.6 MB 10.0 MB/s eta 0:00:01\n",
      "   ----------------------- ---------------- 0.9/1.6 MB 9.7 MB/s eta 0:00:01\n",
      "   ----------------------------------- ---- 1.4/1.6 MB 9.7 MB/s eta 0:00:01\n",
      "   ---------------------------------------- 1.6/1.6 MB 9.0 MB/s eta 0:00:00\n",
      "Downloading stevedore-5.1.0-py3-none-any.whl (49 kB)\n",
      "   ---------------------------------------- 0.0/49.6 kB ? eta -:--:--\n",
      "   ---------------------------------------- 49.6/49.6 kB ? eta 0:00:00\n",
      "Downloading symengine-0.11.0-cp311-cp311-win_amd64.whl (16.7 MB)\n",
      "   ---------------------------------------- 0.0/16.7 MB ? eta -:--:--\n",
      "    --------------------------------------- 0.4/16.7 MB 7.6 MB/s eta 0:00:03\n",
      "   - -------------------------------------- 0.8/16.7 MB 8.5 MB/s eta 0:00:02\n",
      "   -- ------------------------------------- 1.1/16.7 MB 7.6 MB/s eta 0:00:03\n",
      "   --- ------------------------------------ 1.5/16.7 MB 8.2 MB/s eta 0:00:02\n",
      "   ---- ----------------------------------- 2.0/16.7 MB 8.5 MB/s eta 0:00:02\n",
      "   ----- ---------------------------------- 2.4/16.7 MB 8.7 MB/s eta 0:00:02\n",
      "   ------ --------------------------------- 2.8/16.7 MB 8.4 MB/s eta 0:00:02\n",
      "   ------- -------------------------------- 3.2/16.7 MB 8.4 MB/s eta 0:00:02\n",
      "   -------- ------------------------------- 3.7/16.7 MB 8.6 MB/s eta 0:00:02\n",
      "   --------- ------------------------------ 4.1/16.7 MB 8.7 MB/s eta 0:00:02\n",
      "   ----------- ---------------------------- 4.7/16.7 MB 9.1 MB/s eta 0:00:02\n",
      "   ------------ --------------------------- 5.2/16.7 MB 9.3 MB/s eta 0:00:02\n",
      "   ------------- -------------------------- 5.8/16.7 MB 9.5 MB/s eta 0:00:02\n",
      "   --------------- ------------------------ 6.3/16.7 MB 9.6 MB/s eta 0:00:02\n",
      "   ---------------- ----------------------- 6.9/16.7 MB 9.8 MB/s eta 0:00:01\n",
      "   ------------------ --------------------- 7.7/16.7 MB 10.3 MB/s eta 0:00:01\n",
      "   ------------------- -------------------- 8.3/16.7 MB 10.4 MB/s eta 0:00:01\n",
      "   --------------------- ------------------ 8.8/16.7 MB 10.6 MB/s eta 0:00:01\n",
      "   --------------------- ------------------ 9.1/16.7 MB 10.2 MB/s eta 0:00:01\n",
      "   ---------------------- ----------------- 9.5/16.7 MB 10.1 MB/s eta 0:00:01\n",
      "   ----------------------- ---------------- 9.9/16.7 MB 10.0 MB/s eta 0:00:01\n",
      "   ------------------------ --------------- 10.2/16.7 MB 9.9 MB/s eta 0:00:01\n",
      "   ------------------------- -------------- 10.6/16.7 MB 9.9 MB/s eta 0:00:01\n",
      "   -------------------------- ------------- 11.1/16.7 MB 10.1 MB/s eta 0:00:01\n",
      "   --------------------------- ------------ 11.5/16.7 MB 10.2 MB/s eta 0:00:01\n",
      "   ---------------------------- ----------- 12.0/16.7 MB 10.1 MB/s eta 0:00:01\n",
      "   ----------------------------- ---------- 12.4/16.7 MB 10.1 MB/s eta 0:00:01\n",
      "   ------------------------------- -------- 12.9/16.7 MB 10.6 MB/s eta 0:00:01\n",
      "   -------------------------------- ------- 13.4/16.7 MB 10.4 MB/s eta 0:00:01\n",
      "   -------------------------------- ------- 13.7/16.7 MB 10.4 MB/s eta 0:00:01\n",
      "   ---------------------------------- ----- 14.2/16.7 MB 10.4 MB/s eta 0:00:01\n",
      "   ----------------------------------- ---- 14.6/16.7 MB 10.2 MB/s eta 0:00:01\n",
      "   ------------------------------------ --- 15.1/16.7 MB 10.2 MB/s eta 0:00:01\n",
      "   ------------------------------------- -- 15.5/16.7 MB 10.1 MB/s eta 0:00:01\n",
      "   -------------------------------------- - 16.0/16.7 MB 10.1 MB/s eta 0:00:01\n",
      "   ---------------------------------------  16.5/16.7 MB 9.9 MB/s eta 0:00:01\n",
      "   ---------------------------------------  16.7/16.7 MB 9.9 MB/s eta 0:00:01\n",
      "   ---------------------------------------- 16.7/16.7 MB 9.6 MB/s eta 0:00:00\n",
      "Downloading pydot-2.0.0-py3-none-any.whl (22 kB)\n",
      "Downloading qiskit-1.0.0-cp38-abi3-win_amd64.whl (4.1 MB)\n",
      "   ---------------------------------------- 0.0/4.1 MB ? eta -:--:--\n",
      "   -- ------------------------------------- 0.3/4.1 MB 9.3 MB/s eta 0:00:01\n",
      "   ------- -------------------------------- 0.7/4.1 MB 9.3 MB/s eta 0:00:01\n",
      "   ----------- ---------------------------- 1.2/4.1 MB 9.6 MB/s eta 0:00:01\n",
      "   ---------------- ----------------------- 1.7/4.1 MB 9.0 MB/s eta 0:00:01\n",
      "   ------------------- -------------------- 2.0/4.1 MB 9.1 MB/s eta 0:00:01\n",
      "   ------------------------ --------------- 2.5/4.1 MB 8.8 MB/s eta 0:00:01\n",
      "   ------------------------- -------------- 2.7/4.1 MB 8.4 MB/s eta 0:00:01\n",
      "   --------------------------- ------------ 2.8/4.1 MB 7.7 MB/s eta 0:00:01\n",
      "   ----------------------------- ---------- 3.0/4.1 MB 7.4 MB/s eta 0:00:01\n",
      "   ------------------------------- -------- 3.2/4.1 MB 7.0 MB/s eta 0:00:01\n",
      "   --------------------------------- ------ 3.4/4.1 MB 6.6 MB/s eta 0:00:01\n",
      "   ---------------------------------- ----- 3.6/4.1 MB 6.5 MB/s eta 0:00:01\n",
      "   ------------------------------------ --- 3.8/4.1 MB 6.3 MB/s eta 0:00:01\n",
      "   ---------------------------------------  4.0/4.1 MB 6.3 MB/s eta 0:00:01\n",
      "   ---------------------------------------- 4.1/4.1 MB 6.1 MB/s eta 0:00:00\n",
      "Downloading pbr-6.0.0-py2.py3-none-any.whl (107 kB)\n",
      "   ---------------------------------------- 0.0/107.5 kB ? eta -:--:--\n",
      "   ---------------------------------------- 107.5/107.5 kB 6.1 MB/s eta 0:00:00\n",
      "Building wheels for collected packages: pylatexenc\n",
      "  Building wheel for pylatexenc (setup.py): started\n",
      "  Building wheel for pylatexenc (setup.py): finished with status 'done'\n",
      "  Created wheel for pylatexenc: filename=pylatexenc-2.10-py3-none-any.whl size=136848 sha256=6b4cfcc56763f81414e00b52211df69cff39cd1b32c2ace63f2260927c7b6179\n",
      "  Stored in directory: c:\\users\\ronyf\\appdata\\local\\pip\\cache\\wheels\\b1\\7a\\33\\9fdd892f784ed4afda62b685ae3703adf4c91aa0f524c28f03\n",
      "Successfully built pylatexenc\n",
      "Installing collected packages: pylatexenc, symengine, rustworkx, pydot, pbr, stevedore, qiskit\n",
      "Successfully installed pbr-6.0.0 pydot-2.0.0 pylatexenc-2.10 qiskit-1.0.0 rustworkx-0.14.0 stevedore-5.1.0 symengine-0.11.0\n"
     ]
    },
    {
     "name": "stderr",
     "output_type": "stream",
     "text": [
      "  WARNING: The scripts latex2text.exe, latexencode.exe and latexwalker.exe are installed in 'C:\\Users\\ronyf\\AppData\\Roaming\\Python\\Python311\\Scripts' which is not on PATH.\n",
      "  Consider adding this directory to PATH or, if you prefer to suppress this warning, use --no-warn-script-location.\n",
      "  WARNING: The script pbr.exe is installed in 'C:\\Users\\ronyf\\AppData\\Roaming\\Python\\Python311\\Scripts' which is not on PATH.\n",
      "  Consider adding this directory to PATH or, if you prefer to suppress this warning, use --no-warn-script-location.\n"
     ]
    }
   ],
   "source": [
    "!pip install \"qiskit[visualization]\" --user"
   ]
  },
  {
   "cell_type": "code",
   "execution_count": null,
   "metadata": {},
   "outputs": [],
   "source": [
    "!pip install qiskit-aer --user"
   ]
  },
  {
   "cell_type": "code",
   "execution_count": 2,
   "metadata": {},
   "outputs": [
    {
     "name": "stdout",
     "output_type": "stream",
     "text": [
      "Collecting qiskit==0.43 (from qiskit[visualization]==0.43)"
     ]
    },
    {
     "name": "stderr",
     "output_type": "stream",
     "text": [
      "  WARNING: Failed to remove contents in a temporary directory 'C:\\Users\\ronyf\\anaconda3\\Lib\\site-packages\\~umpy'.\n",
      "  You can safely remove it manually.\n",
      "  WARNING: Failed to remove contents in a temporary directory 'C:\\Users\\ronyf\\AppData\\Roaming\\Python\\Python311\\site-packages\\~iskit'.\n",
      "  You can safely remove it manually.\n",
      "ERROR: pip's dependency resolver does not currently take into account all the packages that are installed. This behaviour is the source of the following dependency conflicts.\n",
      "gensim 4.3.0 requires FuzzyTM>=0.4.0, which is not installed.\n",
      "tables 3.8.0 requires blosc2~=2.0.0, which is not installed.\n",
      "tables 3.8.0 requires cython>=0.29.21, which is not installed.\n"
     ]
    },
    {
     "name": "stdout",
     "output_type": "stream",
     "text": [
      "\n",
      "  Using cached qiskit-0.43.0.tar.gz (10.0 kB)\n",
      "  Installing build dependencies: started\n",
      "  Installing build dependencies: finished with status 'done'\n",
      "  Getting requirements to build wheel: started\n",
      "  Getting requirements to build wheel: finished with status 'done'\n",
      "  Installing backend dependencies: started\n",
      "  Installing backend dependencies: finished with status 'done'\n",
      "  Preparing metadata (pyproject.toml): started\n",
      "  Preparing metadata (pyproject.toml): finished with status 'done'\n",
      "Collecting qiskit-terra==0.24.0 (from qiskit==0.43->qiskit[visualization]==0.43)\n",
      "  Downloading qiskit_terra-0.24.0-cp311-cp311-win_amd64.whl.metadata (9.9 kB)\n",
      "Collecting qiskit-aer==0.12.0 (from qiskit==0.43->qiskit[visualization]==0.43)\n",
      "  Downloading qiskit_aer-0.12.0-cp311-cp311-win_amd64.whl.metadata (6.3 kB)\n",
      "Collecting qiskit-ibmq-provider==0.20.2 (from qiskit==0.43->qiskit[visualization]==0.43)\n",
      "  Using cached qiskit_ibmq_provider-0.20.2-py3-none-any.whl.metadata (14 kB)\n",
      "Requirement already satisfied: matplotlib>=2.1 in c:\\users\\ronyf\\anaconda3\\lib\\site-packages (from qiskit[visualization]==0.43) (3.8.0)\n",
      "Requirement already satisfied: ipywidgets>=7.3.0 in c:\\users\\ronyf\\anaconda3\\lib\\site-packages (from qiskit[visualization]==0.43) (8.0.4)\n",
      "Requirement already satisfied: pydot in c:\\users\\ronyf\\appdata\\roaming\\python\\python311\\site-packages (from qiskit[visualization]==0.43) (2.0.0)\n",
      "Requirement already satisfied: pillow>=4.2.1 in c:\\users\\ronyf\\anaconda3\\lib\\site-packages (from qiskit[visualization]==0.43) (10.2.0)\n",
      "Requirement already satisfied: pylatexenc>=1.4 in c:\\users\\ronyf\\appdata\\roaming\\python\\python311\\site-packages (from qiskit[visualization]==0.43) (2.10)\n",
      "Requirement already satisfied: seaborn>=0.9.0 in c:\\users\\ronyf\\anaconda3\\lib\\site-packages (from qiskit[visualization]==0.43) (0.13.0)\n",
      "Requirement already satisfied: pygments>=2.4 in c:\\users\\ronyf\\appdata\\roaming\\python\\python311\\site-packages (from qiskit[visualization]==0.43) (2.16.1)\n",
      "Requirement already satisfied: numpy>=1.16.3 in c:\\users\\ronyf\\anaconda3\\lib\\site-packages (from qiskit-aer==0.12.0->qiskit==0.43->qiskit[visualization]==0.43) (1.24.3)\n",
      "Requirement already satisfied: scipy>=1.0 in c:\\users\\ronyf\\anaconda3\\lib\\site-packages (from qiskit-aer==0.12.0->qiskit==0.43->qiskit[visualization]==0.43) (1.11.4)\n",
      "Requirement already satisfied: requests>=2.19 in c:\\users\\ronyf\\anaconda3\\lib\\site-packages (from qiskit-ibmq-provider==0.20.2->qiskit==0.43->qiskit[visualization]==0.43) (2.31.0)\n",
      "Collecting requests-ntlm<=1.1.0 (from qiskit-ibmq-provider==0.20.2->qiskit==0.43->qiskit[visualization]==0.43)\n",
      "  Using cached requests_ntlm-1.1.0-py2.py3-none-any.whl (5.7 kB)\n",
      "Collecting numpy>=1.16.3 (from qiskit-aer==0.12.0->qiskit==0.43->qiskit[visualization]==0.43)\n",
      "  Downloading numpy-1.23.5-cp311-cp311-win_amd64.whl (14.6 MB)\n",
      "     ---------------------------------------- 0.0/14.6 MB ? eta -:--:--\n",
      "     ---------------------------------------- 0.0/14.6 MB 1.3 MB/s eta 0:00:12\n",
      "     - -------------------------------------- 0.4/14.6 MB 5.9 MB/s eta 0:00:03\n",
      "     -- ------------------------------------- 0.8/14.6 MB 7.3 MB/s eta 0:00:02\n",
      "     --- ------------------------------------ 1.3/14.6 MB 8.1 MB/s eta 0:00:02\n",
      "     ---- ----------------------------------- 1.7/14.6 MB 8.5 MB/s eta 0:00:02\n",
      "     ------ --------------------------------- 2.3/14.6 MB 8.6 MB/s eta 0:00:02\n",
      "     ------- -------------------------------- 2.8/14.6 MB 9.1 MB/s eta 0:00:02\n",
      "     --------- ------------------------------ 3.3/14.6 MB 9.6 MB/s eta 0:00:02\n",
      "     ---------- ----------------------------- 3.8/14.6 MB 9.8 MB/s eta 0:00:02\n",
      "     ------------ --------------------------- 4.4/14.6 MB 10.1 MB/s eta 0:00:02\n",
      "     ------------- -------------------------- 5.0/14.6 MB 9.9 MB/s eta 0:00:01\n",
      "     --------------- ------------------------ 5.5/14.6 MB 10.3 MB/s eta 0:00:01\n",
      "     ---------------- ----------------------- 5.9/14.6 MB 10.3 MB/s eta 0:00:01\n",
      "     ----------------- ---------------------- 6.5/14.6 MB 10.4 MB/s eta 0:00:01\n",
      "     ------------------- -------------------- 7.1/14.6 MB 10.5 MB/s eta 0:00:01\n",
      "     -------------------- ------------------- 7.5/14.6 MB 10.4 MB/s eta 0:00:01\n",
      "     --------------------- ------------------ 8.0/14.6 MB 10.5 MB/s eta 0:00:01\n",
      "     ----------------------- ---------------- 8.5/14.6 MB 10.4 MB/s eta 0:00:01\n",
      "     ------------------------ --------------- 9.0/14.6 MB 10.5 MB/s eta 0:00:01\n",
      "     -------------------------- ------------- 9.6/14.6 MB 10.6 MB/s eta 0:00:01\n",
      "     -------------------------- ------------ 10.0/14.6 MB 10.5 MB/s eta 0:00:01\n",
      "     ---------------------------- ---------- 10.5/14.6 MB 10.9 MB/s eta 0:00:01\n",
      "     ----------------------------- --------- 11.1/14.6 MB 11.1 MB/s eta 0:00:01\n",
      "     ------------------------------ -------- 11.6/14.6 MB 11.1 MB/s eta 0:00:01\n",
      "     -------------------------------- ------ 12.2/14.6 MB 11.1 MB/s eta 0:00:01\n",
      "     ---------------------------------- ---- 12.9/14.6 MB 11.5 MB/s eta 0:00:01\n",
      "     ------------------------------------ -- 13.5/14.6 MB 11.5 MB/s eta 0:00:01\n",
      "     ------------------------------------- - 14.2/14.6 MB 11.7 MB/s eta 0:00:01\n",
      "     --------------------------------------  14.6/14.6 MB 11.5 MB/s eta 0:00:01\n",
      "     --------------------------------------- 14.6/14.6 MB 11.1 MB/s eta 0:00:00\n",
      "Requirement already satisfied: urllib3>=1.21.1 in c:\\users\\ronyf\\anaconda3\\lib\\site-packages (from qiskit-ibmq-provider==0.20.2->qiskit==0.43->qiskit[visualization]==0.43) (2.1.0)\n",
      "Requirement already satisfied: python-dateutil>=2.8.0 in c:\\users\\ronyf\\appdata\\roaming\\python\\python311\\site-packages (from qiskit-ibmq-provider==0.20.2->qiskit==0.43->qiskit[visualization]==0.43) (2.8.2)\n",
      "Collecting websocket-client>=1.5.1 (from qiskit-ibmq-provider==0.20.2->qiskit==0.43->qiskit[visualization]==0.43)\n",
      "  Using cached websocket_client-1.7.0-py3-none-any.whl.metadata (7.9 kB)\n",
      "Collecting websockets>=10.0 (from qiskit-ibmq-provider==0.20.2->qiskit==0.43->qiskit[visualization]==0.43)\n",
      "  Downloading websockets-12.0-cp311-cp311-win_amd64.whl.metadata (6.8 kB)\n",
      "Requirement already satisfied: rustworkx>=0.12.0 in c:\\users\\ronyf\\appdata\\roaming\\python\\python311\\site-packages (from qiskit-terra==0.24.0->qiskit==0.43->qiskit[visualization]==0.43) (0.14.0)\n",
      "Requirement already satisfied: ply>=3.10 in c:\\users\\ronyf\\anaconda3\\lib\\site-packages (from qiskit-terra==0.24.0->qiskit==0.43->qiskit[visualization]==0.43) (3.11)\n",
      "Requirement already satisfied: psutil>=5 in c:\\users\\ronyf\\appdata\\roaming\\python\\python311\\site-packages (from qiskit-terra==0.24.0->qiskit==0.43->qiskit[visualization]==0.43) (5.9.6)\n",
      "Requirement already satisfied: sympy>=1.3 in c:\\users\\ronyf\\anaconda3\\lib\\site-packages (from qiskit-terra==0.24.0->qiskit==0.43->qiskit[visualization]==0.43) (1.11.1)\n",
      "Requirement already satisfied: dill>=0.3 in c:\\users\\ronyf\\anaconda3\\lib\\site-packages (from qiskit-terra==0.24.0->qiskit==0.43->qiskit[visualization]==0.43) (0.3.6)\n",
      "Requirement already satisfied: stevedore>=3.0.0 in c:\\users\\ronyf\\appdata\\roaming\\python\\python311\\site-packages (from qiskit-terra==0.24.0->qiskit==0.43->qiskit[visualization]==0.43) (5.1.0)\n",
      "Requirement already satisfied: ipykernel>=4.5.1 in c:\\users\\ronyf\\appdata\\roaming\\python\\python311\\site-packages (from ipywidgets>=7.3.0->qiskit[visualization]==0.43) (6.26.0)\n",
      "Requirement already satisfied: ipython>=6.1.0 in c:\\users\\ronyf\\appdata\\roaming\\python\\python311\\site-packages (from ipywidgets>=7.3.0->qiskit[visualization]==0.43) (8.16.1)\n",
      "Requirement already satisfied: traitlets>=4.3.1 in c:\\users\\ronyf\\appdata\\roaming\\python\\python311\\site-packages (from ipywidgets>=7.3.0->qiskit[visualization]==0.43) (5.12.0)\n",
      "Requirement already satisfied: widgetsnbextension~=4.0 in c:\\users\\ronyf\\anaconda3\\lib\\site-packages (from ipywidgets>=7.3.0->qiskit[visualization]==0.43) (4.0.5)\n",
      "Requirement already satisfied: jupyterlab-widgets~=3.0 in c:\\users\\ronyf\\anaconda3\\lib\\site-packages (from ipywidgets>=7.3.0->qiskit[visualization]==0.43) (3.0.9)\n",
      "Requirement already satisfied: contourpy>=1.0.1 in c:\\users\\ronyf\\anaconda3\\lib\\site-packages (from matplotlib>=2.1->qiskit[visualization]==0.43) (1.2.0)\n",
      "Requirement already satisfied: cycler>=0.10 in c:\\users\\ronyf\\anaconda3\\lib\\site-packages (from matplotlib>=2.1->qiskit[visualization]==0.43) (0.11.0)\n",
      "Requirement already satisfied: fonttools>=4.22.0 in c:\\users\\ronyf\\anaconda3\\lib\\site-packages (from matplotlib>=2.1->qiskit[visualization]==0.43) (4.25.0)\n",
      "Requirement already satisfied: kiwisolver>=1.0.1 in c:\\users\\ronyf\\anaconda3\\lib\\site-packages (from matplotlib>=2.1->qiskit[visualization]==0.43) (1.4.4)\n",
      "Requirement already satisfied: packaging>=20.0 in c:\\users\\ronyf\\appdata\\roaming\\python\\python311\\site-packages (from matplotlib>=2.1->qiskit[visualization]==0.43) (23.2)\n",
      "Requirement already satisfied: pyparsing>=2.3.1 in c:\\users\\ronyf\\anaconda3\\lib\\site-packages (from matplotlib>=2.1->qiskit[visualization]==0.43) (3.0.9)\n",
      "Requirement already satisfied: pandas>=1.2 in c:\\users\\ronyf\\anaconda3\\lib\\site-packages (from seaborn>=0.9.0->qiskit[visualization]==0.43) (2.1.4)\n",
      "Requirement already satisfied: comm>=0.1.1 in c:\\users\\ronyf\\appdata\\roaming\\python\\python311\\site-packages (from ipykernel>=4.5.1->ipywidgets>=7.3.0->qiskit[visualization]==0.43) (0.1.4)\n",
      "Requirement already satisfied: debugpy>=1.6.5 in c:\\users\\ronyf\\appdata\\roaming\\python\\python311\\site-packages (from ipykernel>=4.5.1->ipywidgets>=7.3.0->qiskit[visualization]==0.43) (1.8.0)\n",
      "Requirement already satisfied: jupyter-client>=6.1.12 in c:\\users\\ronyf\\appdata\\roaming\\python\\python311\\site-packages (from ipykernel>=4.5.1->ipywidgets>=7.3.0->qiskit[visualization]==0.43) (8.5.0)\n",
      "Requirement already satisfied: jupyter-core!=5.0.*,>=4.12 in c:\\users\\ronyf\\appdata\\roaming\\python\\python311\\site-packages (from ipykernel>=4.5.1->ipywidgets>=7.3.0->qiskit[visualization]==0.43) (5.4.0)\n",
      "Requirement already satisfied: matplotlib-inline>=0.1 in c:\\users\\ronyf\\appdata\\roaming\\python\\python311\\site-packages (from ipykernel>=4.5.1->ipywidgets>=7.3.0->qiskit[visualization]==0.43) (0.1.6)\n",
      "Requirement already satisfied: nest-asyncio in c:\\users\\ronyf\\appdata\\roaming\\python\\python311\\site-packages (from ipykernel>=4.5.1->ipywidgets>=7.3.0->qiskit[visualization]==0.43) (1.5.8)\n",
      "Requirement already satisfied: pyzmq>=20 in c:\\users\\ronyf\\appdata\\roaming\\python\\python311\\site-packages (from ipykernel>=4.5.1->ipywidgets>=7.3.0->qiskit[visualization]==0.43) (25.1.1)\n",
      "Requirement already satisfied: tornado>=6.1 in c:\\users\\ronyf\\appdata\\roaming\\python\\python311\\site-packages (from ipykernel>=4.5.1->ipywidgets>=7.3.0->qiskit[visualization]==0.43) (6.3.3)\n",
      "Requirement already satisfied: backcall in c:\\users\\ronyf\\appdata\\roaming\\python\\python311\\site-packages (from ipython>=6.1.0->ipywidgets>=7.3.0->qiskit[visualization]==0.43) (0.2.0)\n",
      "Requirement already satisfied: decorator in c:\\users\\ronyf\\appdata\\roaming\\python\\python311\\site-packages (from ipython>=6.1.0->ipywidgets>=7.3.0->qiskit[visualization]==0.43) (5.1.1)\n",
      "Requirement already satisfied: jedi>=0.16 in c:\\users\\ronyf\\appdata\\roaming\\python\\python311\\site-packages (from ipython>=6.1.0->ipywidgets>=7.3.0->qiskit[visualization]==0.43) (0.19.1)\n",
      "Requirement already satisfied: pickleshare in c:\\users\\ronyf\\appdata\\roaming\\python\\python311\\site-packages (from ipython>=6.1.0->ipywidgets>=7.3.0->qiskit[visualization]==0.43) (0.7.5)\n",
      "Requirement already satisfied: prompt-toolkit!=3.0.37,<3.1.0,>=3.0.30 in c:\\users\\ronyf\\appdata\\roaming\\python\\python311\\site-packages (from ipython>=6.1.0->ipywidgets>=7.3.0->qiskit[visualization]==0.43) (3.0.39)\n",
      "Requirement already satisfied: stack-data in c:\\users\\ronyf\\appdata\\roaming\\python\\python311\\site-packages (from ipython>=6.1.0->ipywidgets>=7.3.0->qiskit[visualization]==0.43) (0.6.3)\n",
      "Requirement already satisfied: colorama in c:\\users\\ronyf\\appdata\\roaming\\python\\python311\\site-packages (from ipython>=6.1.0->ipywidgets>=7.3.0->qiskit[visualization]==0.43) (0.4.6)\n",
      "Requirement already satisfied: pytz>=2020.1 in c:\\users\\ronyf\\anaconda3\\lib\\site-packages (from pandas>=1.2->seaborn>=0.9.0->qiskit[visualization]==0.43) (2023.3.post1)\n",
      "Requirement already satisfied: tzdata>=2022.1 in c:\\users\\ronyf\\anaconda3\\lib\\site-packages (from pandas>=1.2->seaborn>=0.9.0->qiskit[visualization]==0.43) (2023.3)\n",
      "Requirement already satisfied: six>=1.5 in c:\\users\\ronyf\\appdata\\roaming\\python\\python311\\site-packages (from python-dateutil>=2.8.0->qiskit-ibmq-provider==0.20.2->qiskit==0.43->qiskit[visualization]==0.43) (1.16.0)\n",
      "Requirement already satisfied: charset-normalizer<4,>=2 in c:\\users\\ronyf\\anaconda3\\lib\\site-packages (from requests>=2.19->qiskit-ibmq-provider==0.20.2->qiskit==0.43->qiskit[visualization]==0.43) (2.0.4)\n",
      "Requirement already satisfied: idna<4,>=2.5 in c:\\users\\ronyf\\anaconda3\\lib\\site-packages (from requests>=2.19->qiskit-ibmq-provider==0.20.2->qiskit==0.43->qiskit[visualization]==0.43) (3.4)\n",
      "Requirement already satisfied: certifi>=2017.4.17 in c:\\users\\ronyf\\anaconda3\\lib\\site-packages (from requests>=2.19->qiskit-ibmq-provider==0.20.2->qiskit==0.43->qiskit[visualization]==0.43) (2024.2.2)\n",
      "Collecting ntlm-auth>=1.0.2 (from requests-ntlm<=1.1.0->qiskit-ibmq-provider==0.20.2->qiskit==0.43->qiskit[visualization]==0.43)\n",
      "  Using cached ntlm_auth-1.5.0-py2.py3-none-any.whl (29 kB)\n",
      "Requirement already satisfied: cryptography>=1.3 in c:\\users\\ronyf\\anaconda3\\lib\\site-packages (from requests-ntlm<=1.1.0->qiskit-ibmq-provider==0.20.2->qiskit==0.43->qiskit[visualization]==0.43) (42.0.2)\n",
      "Requirement already satisfied: pbr!=2.1.0,>=2.0.0 in c:\\users\\ronyf\\appdata\\roaming\\python\\python311\\site-packages (from stevedore>=3.0.0->qiskit-terra==0.24.0->qiskit==0.43->qiskit[visualization]==0.43) (6.0.0)\n",
      "Requirement already satisfied: mpmath>=0.19 in c:\\users\\ronyf\\anaconda3\\lib\\site-packages (from sympy>=1.3->qiskit-terra==0.24.0->qiskit==0.43->qiskit[visualization]==0.43) (1.3.0)\n",
      "Requirement already satisfied: cffi>=1.12 in c:\\users\\ronyf\\anaconda3\\lib\\site-packages (from cryptography>=1.3->requests-ntlm<=1.1.0->qiskit-ibmq-provider==0.20.2->qiskit==0.43->qiskit[visualization]==0.43) (1.16.0)\n",
      "Requirement already satisfied: parso<0.9.0,>=0.8.3 in c:\\users\\ronyf\\appdata\\roaming\\python\\python311\\site-packages (from jedi>=0.16->ipython>=6.1.0->ipywidgets>=7.3.0->qiskit[visualization]==0.43) (0.8.3)\n",
      "Requirement already satisfied: platformdirs>=2.5 in c:\\users\\ronyf\\appdata\\roaming\\python\\python311\\site-packages (from jupyter-core!=5.0.*,>=4.12->ipykernel>=4.5.1->ipywidgets>=7.3.0->qiskit[visualization]==0.43) (3.11.0)\n",
      "Requirement already satisfied: pywin32>=300 in c:\\users\\ronyf\\appdata\\roaming\\python\\python311\\site-packages (from jupyter-core!=5.0.*,>=4.12->ipykernel>=4.5.1->ipywidgets>=7.3.0->qiskit[visualization]==0.43) (306)\n",
      "Requirement already satisfied: wcwidth in c:\\users\\ronyf\\appdata\\roaming\\python\\python311\\site-packages (from prompt-toolkit!=3.0.37,<3.1.0,>=3.0.30->ipython>=6.1.0->ipywidgets>=7.3.0->qiskit[visualization]==0.43) (0.2.8)\n",
      "Requirement already satisfied: executing>=1.2.0 in c:\\users\\ronyf\\appdata\\roaming\\python\\python311\\site-packages (from stack-data->ipython>=6.1.0->ipywidgets>=7.3.0->qiskit[visualization]==0.43) (2.0.0)\n",
      "Requirement already satisfied: asttokens>=2.1.0 in c:\\users\\ronyf\\appdata\\roaming\\python\\python311\\site-packages (from stack-data->ipython>=6.1.0->ipywidgets>=7.3.0->qiskit[visualization]==0.43) (2.4.1)\n",
      "Requirement already satisfied: pure-eval in c:\\users\\ronyf\\appdata\\roaming\\python\\python311\\site-packages (from stack-data->ipython>=6.1.0->ipywidgets>=7.3.0->qiskit[visualization]==0.43) (0.2.2)\n",
      "Requirement already satisfied: pycparser in c:\\users\\ronyf\\anaconda3\\lib\\site-packages (from cffi>=1.12->cryptography>=1.3->requests-ntlm<=1.1.0->qiskit-ibmq-provider==0.20.2->qiskit==0.43->qiskit[visualization]==0.43) (2.21)\n",
      "Downloading qiskit_aer-0.12.0-cp311-cp311-win_amd64.whl (9.6 MB)\n",
      "   ---------------------------------------- 0.0/9.6 MB ? eta -:--:--\n",
      "   - -------------------------------------- 0.3/9.6 MB 6.3 MB/s eta 0:00:02\n",
      "   -- ------------------------------------- 0.6/9.6 MB 7.5 MB/s eta 0:00:02\n",
      "   ---- ----------------------------------- 1.1/9.6 MB 7.8 MB/s eta 0:00:02\n",
      "   ------ --------------------------------- 1.5/9.6 MB 7.9 MB/s eta 0:00:02\n",
      "   ------- -------------------------------- 1.8/9.6 MB 8.3 MB/s eta 0:00:01\n",
      "   --------- ------------------------------ 2.2/9.6 MB 8.3 MB/s eta 0:00:01\n",
      "   ---------- ----------------------------- 2.6/9.6 MB 8.3 MB/s eta 0:00:01\n",
      "   ------------ --------------------------- 3.0/9.6 MB 8.1 MB/s eta 0:00:01\n",
      "   -------------- ------------------------- 3.4/9.6 MB 8.0 MB/s eta 0:00:01\n",
      "   --------------- ------------------------ 3.7/9.6 MB 8.4 MB/s eta 0:00:01\n",
      "   ----------------- ---------------------- 4.2/9.6 MB 8.4 MB/s eta 0:00:01\n",
      "   ------------------- -------------------- 4.6/9.6 MB 8.4 MB/s eta 0:00:01\n",
      "   -------------------- ------------------- 5.0/9.6 MB 8.3 MB/s eta 0:00:01\n",
      "   ---------------------- ----------------- 5.4/9.6 MB 8.5 MB/s eta 0:00:01\n",
      "   ------------------------ --------------- 5.9/9.6 MB 8.5 MB/s eta 0:00:01\n",
      "   -------------------------- ------------- 6.3/9.6 MB 8.6 MB/s eta 0:00:01\n",
      "   -------------------------- ------------- 6.3/9.6 MB 8.6 MB/s eta 0:00:01\n",
      "   -------------------------- ------------- 6.3/9.6 MB 8.6 MB/s eta 0:00:01\n",
      "   -------------------------- ------------- 6.3/9.6 MB 8.6 MB/s eta 0:00:01\n",
      "   -------------------------- ------------- 6.3/9.6 MB 8.6 MB/s eta 0:00:01\n",
      "   -------------------------- ------------- 6.3/9.6 MB 8.6 MB/s eta 0:00:01\n",
      "   -------------------------- ------------- 6.3/9.6 MB 8.6 MB/s eta 0:00:01\n",
      "   -------------------------- ------------- 6.3/9.6 MB 8.6 MB/s eta 0:00:01\n",
      "   -------------------------- ------------- 6.3/9.6 MB 8.6 MB/s eta 0:00:01\n",
      "   -------------------------- ------------- 6.3/9.6 MB 8.6 MB/s eta 0:00:01\n",
      "   --------------------------- ------------ 6.6/9.6 MB 5.5 MB/s eta 0:00:01\n",
      "   ---------------------------- ----------- 6.9/9.6 MB 5.5 MB/s eta 0:00:01\n",
      "   ------------------------------ --------- 7.4/9.6 MB 5.7 MB/s eta 0:00:01\n",
      "   -------------------------------- ------- 7.8/9.6 MB 5.8 MB/s eta 0:00:01\n",
      "   ---------------------------------- ----- 8.3/9.6 MB 5.9 MB/s eta 0:00:01\n",
      "   ------------------------------------ --- 8.7/9.6 MB 6.0 MB/s eta 0:00:01\n",
      "   ------------------------------------- -- 9.1/9.6 MB 6.1 MB/s eta 0:00:01\n",
      "   ---------------------------------------  9.5/9.6 MB 6.2 MB/s eta 0:00:01\n",
      "   ---------------------------------------- 9.6/9.6 MB 6.1 MB/s eta 0:00:00\n",
      "Using cached qiskit_ibmq_provider-0.20.2-py3-none-any.whl (241 kB)\n",
      "Downloading qiskit_terra-0.24.0-cp311-cp311-win_amd64.whl (5.0 MB)\n",
      "   ---------------------------------------- 0.0/5.0 MB ? eta -:--:--\n",
      "   -- ------------------------------------- 0.4/5.0 MB 7.8 MB/s eta 0:00:01\n",
      "   ----- ---------------------------------- 0.7/5.0 MB 9.3 MB/s eta 0:00:01\n",
      "   --------- ------------------------------ 1.2/5.0 MB 9.3 MB/s eta 0:00:01\n",
      "   ------------ --------------------------- 1.6/5.0 MB 9.1 MB/s eta 0:00:01\n",
      "   --------------- ------------------------ 1.9/5.0 MB 8.6 MB/s eta 0:00:01\n",
      "   ------------------- -------------------- 2.4/5.0 MB 9.1 MB/s eta 0:00:01\n",
      "   ---------------------- ----------------- 2.8/5.0 MB 9.1 MB/s eta 0:00:01\n",
      "   ------------------------- -------------- 3.2/5.0 MB 8.9 MB/s eta 0:00:01\n",
      "   ---------------------------- ----------- 3.6/5.0 MB 8.8 MB/s eta 0:00:01\n",
      "   -------------------------------- ------- 4.0/5.0 MB 8.9 MB/s eta 0:00:01\n",
      "   ----------------------------------- ---- 4.4/5.0 MB 8.8 MB/s eta 0:00:01\n",
      "   -------------------------------------- - 4.8/5.0 MB 8.8 MB/s eta 0:00:01\n",
      "   ---------------------------------------- 5.0/5.0 MB 8.6 MB/s eta 0:00:00\n",
      "Using cached websocket_client-1.7.0-py3-none-any.whl (58 kB)\n",
      "Downloading websockets-12.0-cp311-cp311-win_amd64.whl (124 kB)\n",
      "   ---------------------------------------- 0.0/125.0 kB ? eta -:--:--\n",
      "   ---------------------------------------- 125.0/125.0 kB 7.2 MB/s eta 0:00:00\n",
      "Building wheels for collected packages: qiskit\n",
      "  Building wheel for qiskit (pyproject.toml): started\n",
      "  Building wheel for qiskit (pyproject.toml): finished with status 'done'\n",
      "  Created wheel for qiskit: filename=qiskit-0.43.0-py3-none-any.whl size=8023 sha256=7160058800326d0f7a4e416efe5160464284adf9720bef244746b521c3bb8a67\n",
      "  Stored in directory: c:\\users\\ronyf\\appdata\\local\\pip\\cache\\wheels\\97\\2b\\83\\5bb5aa3925029d20653aa09467b89ce6c141c59496435d211c\n",
      "Successfully built qiskit\n",
      "Installing collected packages: websockets, websocket-client, numpy, ntlm-auth, requests-ntlm, qiskit-terra, qiskit-ibmq-provider, qiskit-aer, qiskit\n",
      "  Attempting uninstall: websocket-client\n",
      "    Found existing installation: websocket-client 0.58.0\n",
      "    Uninstalling websocket-client-0.58.0:\n",
      "      Successfully uninstalled websocket-client-0.58.0\n",
      "  Attempting uninstall: numpy\n",
      "    Found existing installation: numpy 1.24.3\n",
      "    Uninstalling numpy-1.24.3:\n",
      "      Successfully uninstalled numpy-1.24.3\n",
      "  Attempting uninstall: qiskit\n",
      "    Found existing installation: qiskit 1.0.0\n",
      "    Uninstalling qiskit-1.0.0:\n",
      "      Successfully uninstalled qiskit-1.0.0\n",
      "Successfully installed ntlm-auth-1.5.0 numpy-1.23.5 qiskit-0.43.0 qiskit-aer-0.12.0 qiskit-ibmq-provider-0.20.2 qiskit-terra-0.24.0 requests-ntlm-1.1.0 websocket-client-1.7.0 websockets-12.0\n"
     ]
    }
   ],
   "source": [
    "!pip install qiskit[visualization]==0.43"
   ]
  },
  {
   "cell_type": "markdown",
   "metadata": {},
   "source": [
    "__*Restart the kernel*__ (check \"Kernel\" menu) to apply the changes to the current notebook."
   ]
  },
  {
   "cell_type": "markdown",
   "metadata": {},
   "source": [
    "<hr id=\"tips\">\n",
    "\n",
    "### Tips\n",
    "\n",
    "_Any terminal/shell command can be executed in the notebook cells by putting an exclamation mark (!) at the beginning of the command._\n",
    "\n",
    "_$\\rightarrow$ To update Qiskit to the latest version, execute the following command in a code cell_\n",
    "\n",
    "    !pip install -U qiskit --user\n",
    "    \n",
    "_$\\rightarrow$ To uninstall Qiskit, execute the following command in a code cell_\n",
    "\n",
    "    !pip uninstall qiskit"
   ]
  },
  {
   "cell_type": "code",
   "execution_count": null,
   "metadata": {},
   "outputs": [],
   "source": [
    "#!pip install -U qiskit --user\n",
    "#!pip uninstall qiskit"
   ]
  },
  {
   "cell_type": "markdown",
   "metadata": {},
   "source": [
    "<hr id=\"test\">\n",
    "\n",
    "### Execute an example quantum program\n"
   ]
  },
  {
   "cell_type": "markdown",
   "metadata": {},
   "source": [
    "1) Create a quantum circuit"
   ]
  },
  {
   "cell_type": "code",
   "execution_count": 2,
   "metadata": {},
   "outputs": [
    {
     "name": "stdout",
     "output_type": "stream",
     "text": [
      "The execution of the cell was completed, and the circuit was created :)\n"
     ]
    }
   ],
   "source": [
    "# import the objects from qiskit\n",
    "from qiskit import QuantumRegister, ClassicalRegister, QuantumCircuit, execute, Aer\n",
    "from random import randrange\n",
    "\n",
    "# create a quantum circuit and its register objects\n",
    "qreg = QuantumRegister(2) # quantum register with two quantum bits\n",
    "creg = ClassicalRegister(2) # classical register with two classical bit\n",
    "circuit = QuantumCircuit(qreg,creg) # quantum circuit composed by a quantum register and a classical register\n",
    "\n",
    "# apply a Hadamard gate to the first qubit\n",
    "circuit.h(qreg[0])\n",
    "\n",
    "# set the second qubit to state |1>\n",
    "circuit.x(qreg[1])\n",
    "\n",
    "# apply CNOT(first_qubit,second_qubit)\n",
    "circuit.cx(qreg[0],qreg[1])\n",
    "\n",
    "# measure the both qubits\n",
    "circuit.measure(qreg,creg)\n",
    "\n",
    "print(\"The execution of the cell was completed, and the circuit was created :)\")"
   ]
  },
  {
   "cell_type": "markdown",
   "metadata": {},
   "source": [
    "2) Draw the circuit\n",
    "\n",
    "_Run the cell once more if the figure is not shown_"
   ]
  },
  {
   "cell_type": "code",
   "execution_count": 3,
   "metadata": {},
   "outputs": [
    {
     "data": {
      "image/png": "[encoded data removed]",
      "text/plain": [
       "<Figure size 472.545x284.278 with 1 Axes>"
      ]
     },
     "execution_count": 3,
     "metadata": {},
     "output_type": "execute_result"
    }
   ],
   "source": [
    "# draw circuit \n",
    "circuit.draw(output='mpl')\n",
    "\n",
    "# the output will be a \"matplotlib.Figure\" object"
   ]
  },
  {
   "cell_type": "markdown",
   "metadata": {},
   "source": [
    "3) Execute the circuit 1024 times in the local simulator and print the observed the outcomes"
   ]
  },
  {
   "cell_type": "code",
   "execution_count": 4,
   "metadata": {},
   "outputs": [
    {
     "name": "stdout",
     "output_type": "stream",
     "text": [
      "{'10': 498, '01': 526}\n"
     ]
    }
   ],
   "source": [
    "## execute the circuit 1024 times\n",
    "job = execute(circuit,Aer.get_backend('qasm_simulator'),shots=1024)\n",
    "# get the result\n",
    "counts = job.result().get_counts(circuit)\n",
    "print(counts)"
   ]
  },
  {
   "cell_type": "markdown",
   "metadata": {},
   "source": [
    "<hr id=\"complete\">\n",
    "\n",
    "### Complete test\n",
    "\n",
    "Here we put all methods and objects of Qiskit used througout this tutorial (see [Qiskit: Quick Reference](Q01_Qiskit_Reference.ipynb) for a complete list).\n",
    "\n",
    "By running the cell below, you should be able to test whether your Qiskit installation is ready for our tutorial.\n",
    "\n",
    "_It was tested with Qiskit 0.37.0 on July 10, 2022._"
   ]
  },
  {
   "cell_type": "code",
   "execution_count": 5,
   "metadata": {},
   "outputs": [
    {
     "data": {
      "text/html": [
       "<pre style=\"word-wrap: normal;white-space: pre;background: #fff0;line-height: 1.1;font-family: &quot;Courier New&quot;,Courier,monospace\">                 ┌───┐┌───────────────┐┌───┐ ░ ┌─┐            \n",
       "q_0: ────────────┤ X ├┤ U(2π/7,0,0,0) ├┤ X ├─░─┤M├────────────\n",
       "        ┌───┐    └─┬─┘└───────┬───────┘└─┬─┘ ░ └╥┘┌─┐         \n",
       "q_1: ───┤ H ├──────■──────────■──────────■───░──╫─┤M├─────────\n",
       "        ├───┤                            │   ░  ║ └╥┘┌─┐      \n",
       "q_2: ───┤ X ├────────────────────────────■───░──╫──╫─┤M├──────\n",
       "     ┌──┴───┴───┐                            ░  ║  ║ └╥┘┌─┐   \n",
       "q_3: ┤ Ry(2π/7) ├────────────────────────────░──╫──╫──╫─┤M├───\n",
       "     └──┬───┬───┘                            ░  ║  ║  ║ └╥┘┌─┐\n",
       "q_4: ───┤ Z ├────────────────────────────────░──╫──╫──╫──╫─┤M├\n",
       "        └───┘                                ░  ║  ║  ║  ║ └╥┘\n",
       "c: 5/═══════════════════════════════════════════╩══╩══╩══╩══╩═\n",
       "                                                3  1  4  0  2 </pre>"
      ],
      "text/plain": [
       "                 ┌───┐┌───────────────┐┌───┐ ░ ┌─┐            \n",
       "q_0: ────────────┤ X ├┤ U(2π/7,0,0,0) ├┤ X ├─░─┤M├────────────\n",
       "        ┌───┐    └─┬─┘└───────┬───────┘└─┬─┘ ░ └╥┘┌─┐         \n",
       "q_1: ───┤ H ├──────■──────────■──────────■───░──╫─┤M├─────────\n",
       "        ├───┤                            │   ░  ║ └╥┘┌─┐      \n",
       "q_2: ───┤ X ├────────────────────────────■───░──╫──╫─┤M├──────\n",
       "     ┌──┴───┴───┐                            ░  ║  ║ └╥┘┌─┐   \n",
       "q_3: ┤ Ry(2π/7) ├────────────────────────────░──╫──╫──╫─┤M├───\n",
       "     └──┬───┬───┘                            ░  ║  ║  ║ └╥┘┌─┐\n",
       "q_4: ───┤ Z ├────────────────────────────────░──╫──╫──╫──╫─┤M├\n",
       "        └───┘                                ░  ║  ║  ║  ║ └╥┘\n",
       "c: 5/═══════════════════════════════════════════╩══╩══╩══╩══╩═\n",
       "                                                3  1  4  0  2 "
      ]
     },
     "metadata": {},
     "output_type": "display_data"
    },
    {
     "data": {
      "image/png": "[encoded data removed]",
      "text/plain": [
       "<Figure size 1625.27x869.556 with 1 Axes>"
      ]
     },
     "metadata": {},
     "output_type": "display_data"
    },
    {
     "name": "stdout",
     "output_type": "stream",
     "text": [
      "measurement outcomes are: {'10000': 414, '11011': 18, '10010': 343, '11010': 72, '10001': 82, '10011': 71}\n",
      "\n",
      "unitary matrix is\n",
      "[[ 0.   +0.j  0.   +0.j  0.532+0.j  0.847-0.j]\n",
      " [ 0.847+0.j -0.532+0.j  0.   +0.j  0.   +0.j]\n",
      " [ 0.532+0.j  0.847-0.j  0.   +0.j  0.   +0.j]\n",
      " [ 0.   +0.j  0.   +0.j  0.847+0.j -0.532+0.j]]\n",
      "\n",
      "quantum state is\n",
      "0.0+0.0j\n",
      "0.847+0.0j\n",
      "0.532+0.0j\n",
      "0.0+0.0j\n",
      "\n",
      "All looks fine :-)\n"
     ]
    }
   ],
   "source": [
    "from qiskit import QuantumRegister, ClassicalRegister, QuantumCircuit, execute, Aer\n",
    "from math import pi\n",
    "\n",
    "# A quantum circuit is composed by a quantum and a classical register in Qiskit\n",
    "q = QuantumRegister(5,\"q\") # this quantum register has 5 qubits\n",
    "c = ClassicalRegister(5,\"c\") # this classical register has 5 classical bits\n",
    "\n",
    "qc = QuantumCircuit(q,c) # a quantum circuit with quantum and classical registers q and c\n",
    "\n",
    "qc.x(q[2]) # apply x-gate to the qubit \"q[2]\" of the quantum circuit \"qc\"\n",
    "qc.z(q[4]) # apply z-gate to the qubit \"q[4]\" of the quantum circuit \"qc\"\n",
    "qc.h(q[1]) # apply h-gate to the qubit \"q[1]\" of the quantum circuit \"qc\"\n",
    "\n",
    "a = pi/7\n",
    "qc.ry(2*a,q[3]) # apply ry-gate with the specified angle to the qubit \"q[3]\" of the quantum circuit \"qc\"\n",
    "\n",
    "qc.cx(q[1],q[0]) # apply cx-gate to the qubits \"q[1]\" and \"q[0]\" of the quantum circuit \"qc\"\n",
    "\n",
    "qc.cu(2*a,0,0,0,q[1],q[0]) # apply controlled rotation operator with the specified angle \n",
    "                          #  to the qubits \"q[1]\" and \"q[0]\" of the quantum circuit \"qc\"\n",
    "\n",
    "qc.ccx(q[2],q[1],q[0]) # apply ccx-gate to the qubits \"q[2]\", \"q[1]\", and \"q[0]\" of the quantum circuit \"qc\"\n",
    "\n",
    "qc.barrier()\n",
    "\n",
    "qc.measure(q[0],c[3]) # measure q[0] and write the output on c[3]\n",
    "qc.measure(q[1],c[1]) # measure q[1] and write the output on c[1]\n",
    "qc.measure(q[2],c[4]) # measure q[2] and write the output on c[4]\n",
    "qc.measure(q[3],c[0]) # measure q[3] and write the output on c[0]\n",
    "qc.measure(q[4],c[2]) # measure q[4] and write the output on c[2]\n",
    "\n",
    "display(qc.draw())\n",
    "\n",
    "qc.barrier()\n",
    "\n",
    "qc.h(q[0]).c_if(c,5)\n",
    "qc.x(q[0]).c_if(c,3)\n",
    "qc.z(q[0]).c_if(c,1)\n",
    "\n",
    "for i in range(5):\n",
    "    if i % 2 ==0: qc.h(q[i])\n",
    "    else: qc.x(q[i])\n",
    "        \n",
    "b = 3*pi/11\n",
    "qc.cu(2*b,0,0,0,q[1],q[0])\n",
    "\n",
    "display(qc.draw(output='mpl',reverse_bits=True))\n",
    "\n",
    "job = execute(qc,Aer.get_backend('qasm_simulator'),shots=1000)\n",
    "counts = job.result().get_counts(qc)   \n",
    "print(\"measurement outcomes are:\",counts)\n",
    "print()\n",
    "\n",
    "q = QuantumRegister(2,\"q\")\n",
    "c = ClassicalRegister(2,\"c\")\n",
    "\n",
    "qc = QuantumCircuit(q,c)\n",
    "\n",
    "qc.h(q[0])\n",
    "qc.ry(a,q[0])\n",
    "qc.x(q[1])\n",
    "qc.cx(q[0],q[1])\n",
    "\n",
    "job = execute(qc,Aer.get_backend('unitary_simulator'),shots=1,optimization_level=0)\n",
    "precision = 3\n",
    "current_unitary=job.result().get_unitary(qc,precision).data\n",
    "\n",
    "print(\"unitary matrix is\")\n",
    "print(current_unitary)\n",
    "print()\n",
    "\n",
    "job = execute(qc,Aer.get_backend('statevector_simulator'),optimization_level=0)\n",
    "precision = 3\n",
    "current_quantum_state=job.result().get_statevector(qc,precision).data\n",
    "print(\"quantum state is\")\n",
    "for val in current_quantum_state:\n",
    "    print(str(val.real)+\"+\"+str(val.imag)+\"j\")\n",
    "\n",
    "print()\n",
    "print(\"All looks fine :-)\")"
   ]
  }
 ],
 "metadata": {
  "kernelspec": {
   "display_name": "Python 3 (ipykernel)",
   "language": "python",
   "name": "python3"
  },
  "language_info": {
   "codemirror_mode": {
    "name": "ipython",
    "version": 3
   },
   "file_extension": ".py",
   "mimetype": "text/x-python",
   "name": "python",
   "nbconvert_exporter": "python",
   "pygments_lexer": "ipython3",
   "version": "3.11.5"
  }
 },
 "nbformat": 4,
 "nbformat_minor": 2
}
