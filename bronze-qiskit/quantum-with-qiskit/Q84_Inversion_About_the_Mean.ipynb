{
 "cells": [
  {
   "cell_type": "markdown",
   "metadata": {},
   "source": [
    "<a href=\"https://qworld.net\" target=\"_blank\" align=\"left\"><img src=\"../qworld/images/header.jpg\"  align=\"left\"></a>\n",
    "\n",
    "$ \\renewcommand{\\bra}[1]{\\langle #1|} $\n",
    "$ \\renewcommand{\\ket}[1]{|#1\\rangle} $\n",
    "$ \\renewcommand{\\braket}[2]{\\langle #1|#2\\rangle} $\n",
    "$ \\renewcommand{\\dot}[2]{ #1 \\cdot #2} $\n",
    "$ \\renewcommand{\\biginner}[2]{\\left\\langle #1,#2\\right\\rangle} $\n",
    "$ \\renewcommand{\\mymatrix}[2]{\\left( \\begin{array}{#1} #2\\end{array} \\right)} $\n",
    "$ \\renewcommand{\\myvector}[1]{\\mymatrix{c}{#1}} $\n",
    "$ \\renewcommand{\\myrvector}[1]{\\mymatrix{r}{#1}} $\n",
    "$ \\renewcommand{\\mypar}[1]{\\left( #1 \\right)} $\n",
    "$ \\renewcommand{\\mybigpar}[1]{ \\Big( #1 \\Big)} $\n",
    "$ \\renewcommand{\\sqrttwo}{\\frac{1}{\\sqrt{2}}} $\n",
    "$ \\renewcommand{\\dsqrttwo}{\\dfrac{1}{\\sqrt{2}}} $\n",
    "$ \\renewcommand{\\onehalf}{\\frac{1}{2}} $\n",
    "$ \\renewcommand{\\donehalf}{\\dfrac{1}{2}} $\n",
    "$ \\renewcommand{\\hadamard}{ \\mymatrix{rr}{ \\sqrttwo & \\sqrttwo \\\\ \\sqrttwo & -\\sqrttwo }} $\n",
    "$ \\renewcommand{\\vzero}{\\myvector{1\\\\0}} $\n",
    "$ \\renewcommand{\\vone}{\\myvector{0\\\\1}} $\n",
    "$ \\renewcommand{\\stateplus}{\\myvector{ \\sqrttwo \\\\  \\sqrttwo } } $\n",
    "$ \\renewcommand{\\stateminus}{ \\myrvector{ \\sqrttwo \\\\ -\\sqrttwo } } $\n",
    "$ \\renewcommand{\\myarray}[2]{ \\begin{array}{#1}#2\\end{array}} $\n",
    "$ \\renewcommand{\\X}{ \\mymatrix{cc}{0 & 1 \\\\ 1 & 0}  } $\n",
    "$ \\renewcommand{\\I}{ \\mymatrix{rr}{1 & 0 \\\\ 0 & 1}  } $\n",
    "$ \\renewcommand{\\Z}{ \\mymatrix{rr}{1 & 0 \\\\ 0 & -1}  } $\n",
    "$ \\renewcommand{\\Htwo}{ \\mymatrix{rrrr}{ \\frac{1}{2} & \\frac{1}{2} & \\frac{1}{2} & \\frac{1}{2} \\\\ \\frac{1}{2} & -\\frac{1}{2} & \\frac{1}{2} & -\\frac{1}{2} \\\\ \\frac{1}{2} & \\frac{1}{2} & -\\frac{1}{2} & -\\frac{1}{2} \\\\ \\frac{1}{2} & -\\frac{1}{2} & -\\frac{1}{2} & \\frac{1}{2} } } $\n",
    "$ \\renewcommand{\\CNOT}{ \\mymatrix{cccc}{1 & 0 & 0 & 0 \\\\ 0 & 1 & 0 & 0 \\\\ 0 & 0 & 0 & 1 \\\\ 0 & 0 & 1 & 0} } $\n",
    "$ \\renewcommand{\\norm}[1]{ \\left\\lVert #1 \\right\\rVert } $\n",
    "$ \\renewcommand{\\pstate}[1]{ \\lceil   #1  \\rfloor } $\n",
    "$ \\renewcommand{\\greenbit}[1] {\\mathbf{{\\color{green}#1}}} $\n",
    "$ \\renewcommand{\\bluebit}[1] {\\mathbf{{\\color{blue}#1}}} $\n",
    "$ \\renewcommand{\\redbit}[1] {\\mathbf{{\\color{red}#1}}} $\n",
    "$ \\renewcommand{\\brownbit}[1] {\\mathbf{{\\color{brown}#1}}} $\n",
    "$ \\renewcommand{\\blackbit}[1] {\\mathbf{{\\color{black}#1}}} $"
   ]
  },
  {
   "cell_type": "markdown",
   "metadata": {},
   "source": [
    "<font style=\"font-size:28px;\" align=\"left\"><b> Inversion About the Mean </b></font>\n",
    "<br>\n",
    "_prepared by Abuzer Yakaryilmaz and Özlem Salehi_\n",
    "<br><br>\n",
    "[<img src=\"../qworld/images/watch_lecture.jpg\" align=\"left\">](https://youtu.be/RIL2lAwraUA)\n",
    "<br><br><br>"
   ]
  },
  {
   "cell_type": "markdown",
   "metadata": {},
   "source": [
    "We play a simple game to give some ideas about how Grover's search algorithm works.\n",
    "\n",
    "We have a list of N elements. \n",
    "\n",
    "Some of them are marked.\n",
    "\n",
    "At the beginning each has a value of 1.\n",
    "\n",
    " Each iteration of the game has two phases:\n",
    "\n",
    "<ol>\n",
    "    <li><b>Query</b>: In this phase, we assume that each marked element is detected, and then its sign is flipped.</li>\n",
    "    <li><b>Inversion</b>: In this phase, the value of each element is reflected over the mean of all values.</li>\n",
    "</ol>"
   ]
  },
  {
   "cell_type": "markdown",
   "metadata": {},
   "source": [
    "<h3>Task 1</h3>\n",
    "\n",
    "We play this game for $ N = 8 $.\n",
    "\n",
    "Suppose that only the 4th element is marked.\n",
    "\n",
    "We can visualize the values of elements in the list in the beginning as follows."
   ]
  },
  {
   "cell_type": "code",
   "execution_count": 4,
   "metadata": {},
   "outputs": [
    {
     "data": {
      "text/plain": [
       "<BarContainer object of 8 artists>"
      ]
     },
     "execution_count": 4,
     "metadata": {},
     "output_type": "execute_result"
    },
    {
     "data": {
      "image/png": "[encoded data removed]",
      "text/plain": [
       "<Figure size 640x480 with 1 Axes>"
      ]
     },
     "metadata": {},
     "output_type": "display_data"
    }
   ],
   "source": [
    "from matplotlib.pyplot import bar\n",
    "\n",
    "labels = []\n",
    "elements = []\n",
    "for i in range(8):\n",
    "    labels = labels + [i+1]\n",
    "    elements  = elements + [1]\n",
    "\n",
    "# visualize the values of elements in the list \n",
    "bar(labels,elements)"
   ]
  },
  {
   "cell_type": "markdown",
   "metadata": {},
   "source": [
    "Iterate the game for one step and visualize the values of elements in the list after each phase."
   ]
  },
  {
   "cell_type": "markdown",
   "metadata": {},
   "source": [
    "1st step - query phase:"
   ]
  },
  {
   "cell_type": "code",
   "execution_count": 5,
   "metadata": {},
   "outputs": [
    {
     "data": {
      "text/plain": [
       "<BarContainer object of 8 artists>"
      ]
     },
     "execution_count": 5,
     "metadata": {},
     "output_type": "execute_result"
    },
    {
     "data": {
      "image/png": "[encoded data removed]",
      "text/plain": [
       "<Figure size 640x480 with 1 Axes>"
      ]
     },
     "metadata": {},
     "output_type": "display_data"
    }
   ],
   "source": [
    "# \n",
    "# 1st step - query\n",
    "#\n",
    "\n",
    "# change the sign of the marked element, i.e., multiply it by -1\n",
    "elements[3] = -1*elements[3]\n",
    "\n",
    "# visualize the values of elements in the list \n",
    "bar(labels,elements)"
   ]
  },
  {
   "cell_type": "markdown",
   "metadata": {},
   "source": [
    "1st step - inversion phase:"
   ]
  },
  {
   "cell_type": "code",
   "execution_count": 6,
   "metadata": {},
   "outputs": [
    {
     "data": {
      "text/plain": [
       "<BarContainer object of 8 artists>"
      ]
     },
     "execution_count": 6,
     "metadata": {},
     "output_type": "execute_result"
    },
    {
     "data": {
      "image/png": "[encoded data removed]",
      "text/plain": [
       "<Figure size 640x480 with 1 Axes>"
      ]
     },
     "metadata": {},
     "output_type": "display_data"
    }
   ],
   "source": [
    "#\n",
    "# 1st step - inversion\n",
    "#\n",
    "\n",
    "# calculate the mean of all values \n",
    "mean = sum(elements)/len(elements)\n",
    "\n",
    "# then reflect each element over the mean, e.g.:\n",
    "#   if the mean is 0, then the reflection of 3 is -3\n",
    "#   if the mean is 1, then the reflection of 3 is -1\n",
    "#   if the mean is -1, then the reflection of 3 is -5\n",
    "for i in range(len(elements)):\n",
    "    value = elements[i]\n",
    "    new_value = mean - (value-mean)\n",
    "    elements[i] = new_value\n",
    "\n",
    "\n",
    "# visualize the values of elements in the list \n",
    "bar(labels,elements)"
   ]
  },
  {
   "cell_type": "markdown",
   "metadata": {},
   "source": [
    "Iterate the game for one more step and visualize the values of elements in the list after each phase."
   ]
  },
  {
   "cell_type": "markdown",
   "metadata": {},
   "source": [
    "2nd step - query phase:"
   ]
  },
  {
   "cell_type": "code",
   "execution_count": 7,
   "metadata": {},
   "outputs": [
    {
     "data": {
      "text/plain": [
       "<BarContainer object of 8 artists>"
      ]
     },
     "execution_count": 7,
     "metadata": {},
     "output_type": "execute_result"
    },
    {
     "data": {
      "image/png": "[encoded data removed]",
      "text/plain": [
       "<Figure size 640x480 with 1 Axes>"
      ]
     },
     "metadata": {},
     "output_type": "display_data"
    }
   ],
   "source": [
    "# \n",
    "# 2nd step - query\n",
    "#\n",
    "elements[3] = -1*elements[3]\n",
    "\n",
    "# visualize the values of elements in the list \n",
    "bar(labels,elements)"
   ]
  },
  {
   "cell_type": "markdown",
   "metadata": {},
   "source": [
    "2nd step - inversion phase:"
   ]
  },
  {
   "cell_type": "code",
   "execution_count": 8,
   "metadata": {},
   "outputs": [
    {
     "data": {
      "text/plain": [
       "<BarContainer object of 8 artists>"
      ]
     },
     "execution_count": 8,
     "metadata": {},
     "output_type": "execute_result"
    },
    {
     "data": {
      "image/png": "[encoded data removed]",
      "text/plain": [
       "<Figure size 640x480 with 1 Axes>"
      ]
     },
     "metadata": {},
     "output_type": "display_data"
    }
   ],
   "source": [
    "#\n",
    "# 2nd step - inversion\n",
    "#\n",
    "mean = sum(elements)/len(elements)\n",
    "\n",
    "for i in range(len(elements)):\n",
    "    value = elements[i]\n",
    "    new_value = mean - (value-mean)\n",
    "    elements[i] = new_value\n",
    "# visualize the values of elements in the list \n",
    "bar(labels,elements)"
   ]
  },
  {
   "cell_type": "markdown",
   "metadata": {},
   "source": [
    "Iterate the game three more steps and visualize the values of elements in the list at the end."
   ]
  },
  {
   "cell_type": "code",
   "execution_count": 9,
   "metadata": {},
   "outputs": [
    {
     "data": {
      "text/plain": [
       "<BarContainer object of 8 artists>"
      ]
     },
     "execution_count": 9,
     "metadata": {},
     "output_type": "execute_result"
    },
    {
     "data": {
      "image/png": "[encoded data removed]",
      "text/plain": [
       "<Figure size 640x480 with 1 Axes>"
      ]
     },
     "metadata": {},
     "output_type": "display_data"
    }
   ],
   "source": [
    "#\n",
    "# your code is here\n",
    "#\n",
    "for i in range(3):\n",
    "    elements[3] = -1*elements[3]\n",
    "\n",
    "    mean = sum(elements)/len(elements)\n",
    "    \n",
    "    for i in range(len(elements)):\n",
    "        value = elements[i]\n",
    "        new_value = mean - (value-mean)\n",
    "        elements[i] = new_value\n",
    "\n",
    "# visualize the values of elements in the list \n",
    "bar(labels,elements)"
   ]
  },
  {
   "cell_type": "markdown",
   "metadata": {},
   "source": [
    "<a href=\"Q84_Inversion_About_the_Mean_Solutions.ipynb#task1\">click for our solution</a>"
   ]
  },
  {
   "cell_type": "markdown",
   "metadata": {},
   "source": [
    "<a id=\"task2\"></a>\n",
    "<h3>Task 2</h3>\n",
    "\n",
    "Write a function called *query* that \n",
    "- takes a list of elements and the list of marked elements,\n",
    "- change the sign of the marked elements, and then\n",
    "- returns the list.\n",
    "\n",
    "Write a function called *inversion* that\n",
    "- takes a list of elements and\n",
    "- reflects the value of each element over the mean of all values, and then\n",
    "- return the list.\n",
    "\n",
    "We iterate the same game given in Task 1 ($ N = 8 $ and the 4th element is the only marked one) 20 steps by using the functions *query* and *inversion*. \n",
    "\n",
    "**This time we trace the values of only the 4th element. We store the values of the 4th element on a list after each step, and then, we display this list as a bar chart.**"
   ]
  },
  {
   "cell_type": "code",
   "execution_count": 10,
   "metadata": {},
   "outputs": [],
   "source": [
    "def query(elements=[1],marked_elements=[0]):\n",
    "    #\n",
    "    # your code is here\n",
    "    #   \n",
    "    for i in marked_elements:\n",
    "        elements[i] = -1*elements[i] \n",
    "        \n",
    "    return elements"
   ]
  },
  {
   "cell_type": "code",
   "execution_count": 11,
   "metadata": {},
   "outputs": [],
   "source": [
    "def inversion (elements=[1]):\n",
    "    #\n",
    "    # your code is here\n",
    "    #    \n",
    "    mean = sum(elements)/len(elements)\n",
    "    \n",
    "    for i in range(len(elements)):\n",
    "        elements[i] = mean - (elements[i]-mean)\n",
    "\n",
    "    return elements"
   ]
  },
  {
   "cell_type": "code",
   "execution_count": 13,
   "metadata": {},
   "outputs": [
    {
     "data": {
      "text/plain": [
       "<BarContainer object of 21 artists>"
      ]
     },
     "execution_count": 13,
     "metadata": {},
     "output_type": "execute_result"
    },
    {
     "data": {
      "image/png": "[encoded data removed]",
      "text/plain": [
       "<Figure size 640x480 with 1 Axes>"
      ]
     },
     "metadata": {},
     "output_type": "display_data"
    }
   ],
   "source": [
    "from matplotlib.pyplot import bar\n",
    "\n",
    "# define the list of size 8 on which each element has value of 1\n",
    "elements = []\n",
    "for i in range(8):\n",
    "    elements  = elements + [1]\n",
    "\n",
    "# index of the marked element\n",
    "marked_elements = [3]\n",
    "    \n",
    "# define the list of iterations\n",
    "iterations = []\n",
    "# the list storing the values of the 4th element after each step\n",
    "L = []\n",
    "\n",
    "# the first values\n",
    "iterations.append(0)\n",
    "L.append(elements[marked_elements[0]])\n",
    "\n",
    "for step in range(20):\n",
    "    # store the iteration\n",
    "    iterations.append(step+1)\n",
    "    #\n",
    "    # your code is here\n",
    "    #\n",
    "    elements = query(elements, marked_elements)\n",
    "    elements = inversion(elements)\n",
    "\n",
    "    L.append(elements[marked_elements[0]])\n",
    "\n",
    "# visualize the values of the 4th elements after each iterations\n",
    "bar(iterations,L)"
   ]
  },
  {
   "cell_type": "markdown",
   "metadata": {},
   "source": [
    "<a href=\"Q84_Inversion_About_the_Mean_Solutions.ipynb#task2\">click for our solution</a>"
   ]
  },
  {
   "cell_type": "markdown",
   "metadata": {},
   "source": [
    "<h3>Task 3</h3>\n",
    "\n",
    "Repeat Task 2 where $ N = 16 $ and the 11th element is marked."
   ]
  },
  {
   "cell_type": "code",
   "execution_count": 14,
   "metadata": {},
   "outputs": [
    {
     "data": {
      "text/plain": [
       "<BarContainer object of 21 artists>"
      ]
     },
     "execution_count": 14,
     "metadata": {},
     "output_type": "execute_result"
    },
    {
     "data": {
      "image/png": "[encoded data removed]",
      "text/plain": [
       "<Figure size 640x480 with 1 Axes>"
      ]
     },
     "metadata": {},
     "output_type": "display_data"
    }
   ],
   "source": [
    "#\n",
    "# your code is here\n",
    "#\n",
    "from matplotlib.pyplot import bar\n",
    "\n",
    "# define the list of size 8 on which each element has value of 1\n",
    "elements = []\n",
    "for i in range(16):\n",
    "    elements  = elements + [1]\n",
    "\n",
    "# index of the marked element\n",
    "marked_elements = [10]\n",
    "    \n",
    "# define the list of iterations\n",
    "iterations = []\n",
    "# the list storing the values of the 4th element after each step\n",
    "L = []\n",
    "\n",
    "# the first values\n",
    "iterations.append(0)\n",
    "L.append(elements[marked_elements[0]])\n",
    "\n",
    "for step in range(20):\n",
    "    # store the iteration\n",
    "    iterations.append(step+1)\n",
    "    #\n",
    "    # your code is here\n",
    "    #\n",
    "    elements = query(elements, marked_elements)\n",
    "    elements = inversion(elements)\n",
    "\n",
    "    L.append(elements[marked_elements[0]])\n",
    "\n",
    "# visualize the values of the 4th elements after each iterations\n",
    "bar(iterations,L)"
   ]
  },
  {
   "cell_type": "markdown",
   "metadata": {},
   "source": [
    "<a href=\"Q84_Inversion_About_the_Mean_Solutions.ipynb#task3\">click for our solution</a>"
   ]
  },
  {
   "cell_type": "markdown",
   "metadata": {},
   "source": [
    "<h3>Task 4</h3>\n",
    "\n",
    "Repeat Task 3 by tracing only the 5th element where $ N = 16 $ and the 5th, 8th, and 10th elements are marked."
   ]
  },
  {
   "cell_type": "code",
   "execution_count": 15,
   "metadata": {},
   "outputs": [
    {
     "data": {
      "text/plain": [
       "<BarContainer object of 21 artists>"
      ]
     },
     "execution_count": 15,
     "metadata": {},
     "output_type": "execute_result"
    },
    {
     "data": {
      "image/png": "[encoded data removed]",
      "text/plain": [
       "<Figure size 640x480 with 1 Axes>"
      ]
     },
     "metadata": {},
     "output_type": "display_data"
    }
   ],
   "source": [
    "#\n",
    "# your code is here\n",
    "#\n",
    "from matplotlib.pyplot import bar\n",
    "\n",
    "# define the list of size 8 on which each element has value of 1\n",
    "elements = []\n",
    "for i in range(16):\n",
    "    elements  = elements + [1]\n",
    "\n",
    "# index of the marked element\n",
    "marked_elements = [4, 7, 9]\n",
    "    \n",
    "# define the list of iterations\n",
    "iterations = []\n",
    "# the list storing the values of the 4th element after each step\n",
    "L = []\n",
    "\n",
    "# the first values\n",
    "iterations.append(0)\n",
    "L.append(elements[marked_elements[0]])\n",
    "\n",
    "for step in range(20):\n",
    "    # store the iteration\n",
    "    iterations.append(step+1)\n",
    "    #\n",
    "    # your code is here\n",
    "    #\n",
    "    elements = query(elements, marked_elements)\n",
    "    elements = inversion(elements)\n",
    "\n",
    "    L.append(elements[marked_elements[0]])\n",
    "\n",
    "# visualize the values of the 4th elements after each iterations\n",
    "bar(iterations,L)"
   ]
  },
  {
   "cell_type": "markdown",
   "metadata": {},
   "source": [
    "<a href=\"Q84_Inversion_About_the_Mean_Solutions.ipynb#task4\">click for our solution</a>"
   ]
  },
  {
   "cell_type": "markdown",
   "metadata": {},
   "source": [
    "<h3>Task 5</h3>\n",
    "\n",
    "We iterate the same game 20 steps where $ N = 16 $ and the marked elements are the first four elements. \n",
    "\n",
    "Print the length of the list of elements (_i.e., consider it as a vector_) after each query and inversion phases. \n",
    "\n",
    "*Remark that the initial length is $ \\sqrt{ \\sum_{i=1}^{N} 1^2 } = \\sqrt{N} = \\sqrt{16}  =4 $.*"
   ]
  },
  {
   "cell_type": "code",
   "execution_count": 19,
   "metadata": {},
   "outputs": [],
   "source": [
    "def length_of_list (elements=[1]):\n",
    "    summation = 0\n",
    "    for el in elements:\n",
    "        summation = summation + el**2\n",
    "    return round(summation**0.5,3)"
   ]
  },
  {
   "cell_type": "code",
   "execution_count": 22,
   "metadata": {},
   "outputs": [
    {
     "name": "stdout",
     "output_type": "stream",
     "text": [
      "Initial length of elements =  4.0 \n",
      "\n",
      "Step # 1\n",
      "Length after query =  4.0\n",
      "Length after inversion =  4.0 \n",
      "\n",
      "Step # 2\n",
      "Length after query =  4.0\n",
      "Length after inversion =  4.0 \n",
      "\n",
      "Step # 3\n",
      "Length after query =  4.0\n",
      "Length after inversion =  4.0 \n",
      "\n",
      "Step # 4\n",
      "Length after query =  4.0\n",
      "Length after inversion =  4.0 \n",
      "\n",
      "Step # 5\n",
      "Length after query =  4.0\n",
      "Length after inversion =  4.0 \n",
      "\n",
      "Step # 6\n",
      "Length after query =  4.0\n",
      "Length after inversion =  4.0 \n",
      "\n",
      "Step # 7\n",
      "Length after query =  4.0\n",
      "Length after inversion =  4.0 \n",
      "\n",
      "Step # 8\n",
      "Length after query =  4.0\n",
      "Length after inversion =  4.0 \n",
      "\n",
      "Step # 9\n",
      "Length after query =  4.0\n",
      "Length after inversion =  4.0 \n",
      "\n",
      "Step # 10\n",
      "Length after query =  4.0\n",
      "Length after inversion =  4.0 \n",
      "\n",
      "Step # 11\n",
      "Length after query =  4.0\n",
      "Length after inversion =  4.0 \n",
      "\n",
      "Step # 12\n",
      "Length after query =  4.0\n",
      "Length after inversion =  4.0 \n",
      "\n",
      "Step # 13\n",
      "Length after query =  4.0\n",
      "Length after inversion =  4.0 \n",
      "\n",
      "Step # 14\n",
      "Length after query =  4.0\n",
      "Length after inversion =  4.0 \n",
      "\n",
      "Step # 15\n",
      "Length after query =  4.0\n",
      "Length after inversion =  4.0 \n",
      "\n",
      "Step # 16\n",
      "Length after query =  4.0\n",
      "Length after inversion =  4.0 \n",
      "\n",
      "Step # 17\n",
      "Length after query =  4.0\n",
      "Length after inversion =  4.0 \n",
      "\n",
      "Step # 18\n",
      "Length after query =  4.0\n",
      "Length after inversion =  4.0 \n",
      "\n",
      "Step # 19\n",
      "Length after query =  4.0\n",
      "Length after inversion =  4.0 \n",
      "\n",
      "Step # 20\n",
      "Length after query =  4.0\n",
      "Length after inversion =  4.0 \n",
      "\n"
     ]
    }
   ],
   "source": [
    "#\n",
    "# your code is here\n",
    "#\n",
    "from matplotlib.pyplot import bar\n",
    "\n",
    "# define the list of size 8 on which each element has value of 1\n",
    "elements = []\n",
    "for i in range(16):\n",
    "    elements  = elements + [1]\n",
    "\n",
    "# index of the marked element\n",
    "marked_elements = [0, 1, 2, 3]\n",
    "    \n",
    "# define the list of iterations\n",
    "iterations = []\n",
    "# the list storing the values of the 4th element after each step\n",
    "\n",
    "# the first values\n",
    "iterations.append(0)\n",
    "\n",
    "print('Initial length of elements = ', length_of_list(elements),'\\n')\n",
    "\n",
    "for step in range(20):\n",
    "    # store the iteration\n",
    "    iterations.append(step+1)\n",
    "    #\n",
    "    # your code is here\n",
    "    #\n",
    "    print('Step #', step+1)\n",
    "    elements = query(elements, marked_elements)\n",
    "    print('Length after query = ', length_of_list(elements))\n",
    "    elements = inversion(elements)\n",
    "    print('Length after inversion = ', length_of_list(elements),'\\n')\n",
    "\n",
    "   "
   ]
  },
  {
   "cell_type": "markdown",
   "metadata": {},
   "source": [
    "<a href=\"Q84_Inversion_About_the_Mean_Solutions.ipynb#task5\">click for our solution</a>"
   ]
  },
  {
   "cell_type": "markdown",
   "metadata": {},
   "source": [
    "<h3>Task 6 </h3>\n",
    "\n",
    "Repeat Task 5 where $ N = 10 $ and the last element is marked.\n",
    "\n",
    "*Remark that the initial length is $ \\sqrt{10} $.*"
   ]
  },
  {
   "cell_type": "code",
   "execution_count": 23,
   "metadata": {},
   "outputs": [
    {
     "name": "stdout",
     "output_type": "stream",
     "text": [
      "Initial length of elements =  3.162 \n",
      "\n",
      "Step # 1\n",
      "Length after query =  3.162\n",
      "Length after inversion =  3.162 \n",
      "\n",
      "Step # 2\n",
      "Length after query =  3.162\n",
      "Length after inversion =  3.162 \n",
      "\n",
      "Step # 3\n",
      "Length after query =  3.162\n",
      "Length after inversion =  3.162 \n",
      "\n",
      "Step # 4\n",
      "Length after query =  3.162\n",
      "Length after inversion =  3.162 \n",
      "\n",
      "Step # 5\n",
      "Length after query =  3.162\n",
      "Length after inversion =  3.162 \n",
      "\n",
      "Step # 6\n",
      "Length after query =  3.162\n",
      "Length after inversion =  3.162 \n",
      "\n",
      "Step # 7\n",
      "Length after query =  3.162\n",
      "Length after inversion =  3.162 \n",
      "\n",
      "Step # 8\n",
      "Length after query =  3.162\n",
      "Length after inversion =  3.162 \n",
      "\n",
      "Step # 9\n",
      "Length after query =  3.162\n",
      "Length after inversion =  3.162 \n",
      "\n",
      "Step # 10\n",
      "Length after query =  3.162\n",
      "Length after inversion =  3.162 \n",
      "\n",
      "Step # 11\n",
      "Length after query =  3.162\n",
      "Length after inversion =  3.162 \n",
      "\n",
      "Step # 12\n",
      "Length after query =  3.162\n",
      "Length after inversion =  3.162 \n",
      "\n",
      "Step # 13\n",
      "Length after query =  3.162\n",
      "Length after inversion =  3.162 \n",
      "\n",
      "Step # 14\n",
      "Length after query =  3.162\n",
      "Length after inversion =  3.162 \n",
      "\n",
      "Step # 15\n",
      "Length after query =  3.162\n",
      "Length after inversion =  3.162 \n",
      "\n",
      "Step # 16\n",
      "Length after query =  3.162\n",
      "Length after inversion =  3.162 \n",
      "\n",
      "Step # 17\n",
      "Length after query =  3.162\n",
      "Length after inversion =  3.162 \n",
      "\n",
      "Step # 18\n",
      "Length after query =  3.162\n",
      "Length after inversion =  3.162 \n",
      "\n",
      "Step # 19\n",
      "Length after query =  3.162\n",
      "Length after inversion =  3.162 \n",
      "\n",
      "Step # 20\n",
      "Length after query =  3.162\n",
      "Length after inversion =  3.162 \n",
      "\n"
     ]
    }
   ],
   "source": [
    "#\n",
    "# your code is here\n",
    "#\n",
    "#\n",
    "# your code is here\n",
    "#\n",
    "from matplotlib.pyplot import bar\n",
    "\n",
    "# define the list of size 8 on which each element has value of 1\n",
    "elements = []\n",
    "for i in range(10):\n",
    "    elements  = elements + [1]\n",
    "\n",
    "# index of the marked element\n",
    "marked_elements = [9]\n",
    "    \n",
    "# define the list of iterations\n",
    "iterations = []\n",
    "# the list storing the values of the 4th element after each step\n",
    "\n",
    "# the first values\n",
    "iterations.append(0)\n",
    "\n",
    "print('Initial length of elements = ', length_of_list(elements),'\\n')\n",
    "\n",
    "for step in range(20):\n",
    "    # store the iteration\n",
    "    iterations.append(step+1)\n",
    "    #\n",
    "    # your code is here\n",
    "    #\n",
    "    print('Step #', step+1)\n",
    "    elements = query(elements, marked_elements)\n",
    "    print('Length after query = ', length_of_list(elements))\n",
    "    elements = inversion(elements)\n",
    "    print('Length after inversion = ', length_of_list(elements),'\\n')\n",
    "\n",
    "   "
   ]
  },
  {
   "cell_type": "markdown",
   "metadata": {},
   "source": [
    "<a href=\"Q84_Inversion_About_the_Mean_Solutions.ipynb#task6\">click for our solution</a>"
   ]
  },
  {
   "cell_type": "markdown",
   "metadata": {},
   "source": [
    "### Length preserving game\n",
    "\n",
    "As observed from the last two tasks, each phase of the game is a length preserving operator (function).\n",
    "\n",
    "*Do you think that query and inversion operators are linear? More specifically, can we represent them in the form of a matrix?*\n",
    "\n",
    "The answer for the query operator is easy as it only changes the sign of marked elements, and so its matrix form is very similar to an Identity matrix having -1 in some of the diagonal entries."
   ]
  },
  {
   "cell_type": "markdown",
   "metadata": {},
   "source": [
    "<h3> Modified Game </h3>\n",
    "\n",
    "In this part, we restrict the game by guaranteeing that the list represents a quantum state."
   ]
  },
  {
   "cell_type": "markdown",
   "metadata": {},
   "source": [
    "<h3> Task 7</h3>\n",
    "\n",
    "What are the initial values for the modified game if $ N=8 $?"
   ]
  },
  {
   "cell_type": "markdown",
   "metadata": {},
   "source": [
    "8*a^2 = 1 --> a = sqrt(1/8)"
   ]
  },
  {
   "cell_type": "markdown",
   "metadata": {},
   "source": [
    "<a href=\"Q84_Inversion_About_the_Mean_Solutions.ipynb#task7\">click for our solution</a>"
   ]
  },
  {
   "cell_type": "markdown",
   "metadata": {},
   "source": [
    "<h3> Task 8</h3>\n",
    "\n",
    "Iterate the modified game for 20 steps where $ N = 8 $ and the second element is marked.\n",
    "\n",
    "Print the list of elements after each phase.\n",
    "\n",
    "Check whether the length of list is 1 after each iteration."
   ]
  },
  {
   "cell_type": "code",
   "execution_count": 38,
   "metadata": {},
   "outputs": [
    {
     "name": "stdout",
     "output_type": "stream",
     "text": [
      "Initial length of elements =  1.0 \n",
      "\n",
      "Step # 1\n",
      "List of elements = \n",
      "List of elements =  0.18 0.88 0.18 0.18 0.18 0.18 0.18 0.18 \n",
      "Length after phase =  1.0 \n",
      "\n",
      "Step # 2\n",
      "List of elements = \n",
      "List of elements =  -0.09 0.97 -0.09 -0.09 -0.09 -0.09 -0.09 -0.09 \n",
      "Length after phase =  1.0 \n",
      "\n",
      "Step # 3\n",
      "List of elements = \n",
      "List of elements =  -0.31 0.57 -0.31 -0.31 -0.31 -0.31 -0.31 -0.31 \n",
      "Length after phase =  1.0 \n",
      "\n",
      "Step # 4\n",
      "List of elements = \n",
      "List of elements =  -0.38 -0.11 -0.38 -0.38 -0.38 -0.38 -0.38 -0.38 \n",
      "Length after phase =  1.0 \n",
      "\n",
      "Step # 5\n",
      "List of elements = \n",
      "List of elements =  -0.25 -0.74 -0.25 -0.25 -0.25 -0.25 -0.25 -0.25 \n",
      "Length after phase =  1.0 \n",
      "\n",
      "Step # 6\n",
      "List of elements = \n",
      "List of elements =  -0.01 -1.0 -0.01 -0.01 -0.01 -0.01 -0.01 -0.01 \n",
      "Length after phase =  1.0 \n",
      "\n",
      "Step # 7\n",
      "List of elements = \n",
      "List of elements =  0.25 -0.76 0.25 0.25 0.25 0.25 0.25 0.25 \n",
      "Length after phase =  1.0 \n",
      "\n",
      "Step # 8\n",
      "List of elements = \n",
      "List of elements =  0.37 -0.14 0.37 0.37 0.37 0.37 0.37 0.37 \n",
      "Length after phase =  1.0 \n",
      "\n",
      "Step # 9\n",
      "List of elements = \n",
      "List of elements =  0.32 0.55 0.32 0.32 0.32 0.32 0.32 0.32 \n",
      "Length after phase =  1.0 \n",
      "\n",
      "Step # 10\n",
      "List of elements = \n",
      "List of elements =  0.1 0.97 0.1 0.1 0.1 0.1 0.1 0.1 \n",
      "Length after phase =  1.0 \n",
      "\n",
      "Step # 11\n",
      "List of elements = \n",
      "List of elements =  -0.17 0.9 -0.17 -0.17 -0.17 -0.17 -0.17 -0.17 \n",
      "Length after phase =  1.0 \n",
      "\n",
      "Step # 12\n",
      "List of elements = \n",
      "List of elements =  -0.35 0.38 -0.35 -0.35 -0.35 -0.35 -0.35 -0.35 \n",
      "Length after phase =  1.0 \n",
      "\n",
      "Step # 13\n",
      "List of elements = \n",
      "List of elements =  -0.36 -0.33 -0.36 -0.36 -0.36 -0.36 -0.36 -0.36 \n",
      "Length after phase =  1.0 \n",
      "\n",
      "Step # 14\n",
      "List of elements = \n",
      "List of elements =  -0.19 -0.87 -0.19 -0.19 -0.19 -0.19 -0.19 -0.19 \n",
      "Length after phase =  1.0 \n",
      "\n",
      "Step # 15\n",
      "List of elements = \n",
      "List of elements =  0.08 -0.98 0.08 0.08 0.08 0.08 0.08 0.08 \n",
      "Length after phase =  1.0 \n",
      "\n",
      "Step # 16\n",
      "List of elements = \n",
      "List of elements =  0.3 -0.6 0.3 0.3 0.3 0.3 0.3 0.3 \n",
      "Length after phase =  1.0 \n",
      "\n",
      "Step # 17\n",
      "List of elements = \n",
      "List of elements =  0.38 0.08 0.38 0.38 0.38 0.38 0.38 0.38 \n",
      "Length after phase =  1.0 \n",
      "\n",
      "Step # 18\n",
      "List of elements = \n",
      "List of elements =  0.26 0.72 0.26 0.26 0.26 0.26 0.26 0.26 \n",
      "Length after phase =  1.0 \n",
      "\n",
      "Step # 19\n",
      "List of elements = \n",
      "List of elements =  0.02 1.0 0.02 0.02 0.02 0.02 0.02 0.02 \n",
      "Length after phase =  1.0 \n",
      "\n",
      "Step # 20\n",
      "List of elements = \n",
      "List of elements =  -0.24 0.78 -0.24 -0.24 -0.24 -0.24 -0.24 -0.24 \n",
      "Length after phase =  1.0 \n",
      "\n"
     ]
    }
   ],
   "source": [
    "#\n",
    "# your code is here\n",
    "#\n",
    "#\n",
    "# your code is here\n",
    "#\n",
    "#\n",
    "# your code is here\n",
    "#\n",
    "from matplotlib.pyplot import bar\n",
    "\n",
    "# define the list of size 8 on which each element has value of 1\n",
    "elements = []\n",
    "for i in range(8):\n",
    "    elements  = elements + [1/(8**0.5)]\n",
    "\n",
    "# index of the marked element\n",
    "marked_elements = [1]\n",
    "    \n",
    "# define the list of iterations\n",
    "iterations = []\n",
    "# the list storing the values of the 4th element after each step\n",
    "\n",
    "# the first values\n",
    "iterations.append(0)\n",
    "\n",
    "print('Initial length of elements = ', length_of_list(elements),'\\n')\n",
    "\n",
    "for step in range(20):\n",
    "    # store the iteration\n",
    "    iterations.append(step+1)\n",
    "    #\n",
    "    # your code is here\n",
    "    #\n",
    "    print('Step #', step+1)\n",
    "    elements = query(elements, marked_elements)\n",
    "    elements = inversion(elements)\n",
    "    print('List of elements = ')\n",
    "    list = \"\"\n",
    "    for i in elements:\n",
    "        list += (str(round(i, 2)) + ' ')\n",
    "    print('List of elements = ', list)\n",
    "    print('Length after phase = ', length_of_list(elements),'\\n')\n",
    "\n",
    "   "
   ]
  },
  {
   "cell_type": "markdown",
   "metadata": {},
   "source": [
    "<a href=\"Q84_Inversion_About_the_Mean_Solutions.ipynb#task8\">click for our solution</a>"
   ]
  },
  {
   "cell_type": "markdown",
   "metadata": {},
   "source": [
    "<h3> Task 9</h3>\n",
    "\n",
    "Repeat Task 8 for $ N = 16 $ where the first 12 elements are marked."
   ]
  },
  {
   "cell_type": "code",
   "execution_count": 39,
   "metadata": {},
   "outputs": [
    {
     "name": "stdout",
     "output_type": "stream",
     "text": [
      "Initial length of elements =  1.0 \n",
      "\n",
      "Step # 1\n",
      "List of elements = \n",
      "List of elements =  0.0 0.0 0.0 0.0 0.0 0.0 0.0 0.0 0.0 0.0 0.0 0.0 -0.5 -0.5 -0.5 -0.5 \n",
      "Length after phase =  1.0 \n",
      "\n",
      "Step # 2\n",
      "List of elements = \n",
      "List of elements =  -0.25 -0.25 -0.25 -0.25 -0.25 -0.25 -0.25 -0.25 -0.25 -0.25 -0.25 -0.25 0.25 0.25 0.25 0.25 \n",
      "Length after phase =  1.0 \n",
      "\n",
      "Step # 3\n",
      "List of elements = \n",
      "List of elements =  0.25 0.25 0.25 0.25 0.25 0.25 0.25 0.25 0.25 0.25 0.25 0.25 0.25 0.25 0.25 0.25 \n",
      "Length after phase =  1.0 \n",
      "\n",
      "Step # 4\n",
      "List of elements = \n",
      "List of elements =  0.0 0.0 0.0 0.0 0.0 0.0 0.0 0.0 0.0 0.0 0.0 0.0 -0.5 -0.5 -0.5 -0.5 \n",
      "Length after phase =  1.0 \n",
      "\n",
      "Step # 5\n",
      "List of elements = \n",
      "List of elements =  -0.25 -0.25 -0.25 -0.25 -0.25 -0.25 -0.25 -0.25 -0.25 -0.25 -0.25 -0.25 0.25 0.25 0.25 0.25 \n",
      "Length after phase =  1.0 \n",
      "\n",
      "Step # 6\n",
      "List of elements = \n",
      "List of elements =  0.25 0.25 0.25 0.25 0.25 0.25 0.25 0.25 0.25 0.25 0.25 0.25 0.25 0.25 0.25 0.25 \n",
      "Length after phase =  1.0 \n",
      "\n",
      "Step # 7\n",
      "List of elements = \n",
      "List of elements =  0.0 0.0 0.0 0.0 0.0 0.0 0.0 0.0 0.0 0.0 0.0 0.0 -0.5 -0.5 -0.5 -0.5 \n",
      "Length after phase =  1.0 \n",
      "\n",
      "Step # 8\n",
      "List of elements = \n",
      "List of elements =  -0.25 -0.25 -0.25 -0.25 -0.25 -0.25 -0.25 -0.25 -0.25 -0.25 -0.25 -0.25 0.25 0.25 0.25 0.25 \n",
      "Length after phase =  1.0 \n",
      "\n",
      "Step # 9\n",
      "List of elements = \n",
      "List of elements =  0.25 0.25 0.25 0.25 0.25 0.25 0.25 0.25 0.25 0.25 0.25 0.25 0.25 0.25 0.25 0.25 \n",
      "Length after phase =  1.0 \n",
      "\n",
      "Step # 10\n",
      "List of elements = \n",
      "List of elements =  0.0 0.0 0.0 0.0 0.0 0.0 0.0 0.0 0.0 0.0 0.0 0.0 -0.5 -0.5 -0.5 -0.5 \n",
      "Length after phase =  1.0 \n",
      "\n",
      "Step # 11\n",
      "List of elements = \n",
      "List of elements =  -0.25 -0.25 -0.25 -0.25 -0.25 -0.25 -0.25 -0.25 -0.25 -0.25 -0.25 -0.25 0.25 0.25 0.25 0.25 \n",
      "Length after phase =  1.0 \n",
      "\n",
      "Step # 12\n",
      "List of elements = \n",
      "List of elements =  0.25 0.25 0.25 0.25 0.25 0.25 0.25 0.25 0.25 0.25 0.25 0.25 0.25 0.25 0.25 0.25 \n",
      "Length after phase =  1.0 \n",
      "\n",
      "Step # 13\n",
      "List of elements = \n",
      "List of elements =  0.0 0.0 0.0 0.0 0.0 0.0 0.0 0.0 0.0 0.0 0.0 0.0 -0.5 -0.5 -0.5 -0.5 \n",
      "Length after phase =  1.0 \n",
      "\n",
      "Step # 14\n",
      "List of elements = \n",
      "List of elements =  -0.25 -0.25 -0.25 -0.25 -0.25 -0.25 -0.25 -0.25 -0.25 -0.25 -0.25 -0.25 0.25 0.25 0.25 0.25 \n",
      "Length after phase =  1.0 \n",
      "\n",
      "Step # 15\n",
      "List of elements = \n",
      "List of elements =  0.25 0.25 0.25 0.25 0.25 0.25 0.25 0.25 0.25 0.25 0.25 0.25 0.25 0.25 0.25 0.25 \n",
      "Length after phase =  1.0 \n",
      "\n",
      "Step # 16\n",
      "List of elements = \n",
      "List of elements =  0.0 0.0 0.0 0.0 0.0 0.0 0.0 0.0 0.0 0.0 0.0 0.0 -0.5 -0.5 -0.5 -0.5 \n",
      "Length after phase =  1.0 \n",
      "\n",
      "Step # 17\n",
      "List of elements = \n",
      "List of elements =  -0.25 -0.25 -0.25 -0.25 -0.25 -0.25 -0.25 -0.25 -0.25 -0.25 -0.25 -0.25 0.25 0.25 0.25 0.25 \n",
      "Length after phase =  1.0 \n",
      "\n",
      "Step # 18\n",
      "List of elements = \n",
      "List of elements =  0.25 0.25 0.25 0.25 0.25 0.25 0.25 0.25 0.25 0.25 0.25 0.25 0.25 0.25 0.25 0.25 \n",
      "Length after phase =  1.0 \n",
      "\n",
      "Step # 19\n",
      "List of elements = \n",
      "List of elements =  0.0 0.0 0.0 0.0 0.0 0.0 0.0 0.0 0.0 0.0 0.0 0.0 -0.5 -0.5 -0.5 -0.5 \n",
      "Length after phase =  1.0 \n",
      "\n",
      "Step # 20\n",
      "List of elements = \n",
      "List of elements =  -0.25 -0.25 -0.25 -0.25 -0.25 -0.25 -0.25 -0.25 -0.25 -0.25 -0.25 -0.25 0.25 0.25 0.25 0.25 \n",
      "Length after phase =  1.0 \n",
      "\n"
     ]
    }
   ],
   "source": [
    "#\n",
    "# your code is here\n",
    "#\n",
    "#\n",
    "# your code is here\n",
    "#\n",
    "#\n",
    "# your code is here\n",
    "#\n",
    "#\n",
    "# your code is here\n",
    "#\n",
    "from matplotlib.pyplot import bar\n",
    "\n",
    "# define the list of size 8 on which each element has value of 1\n",
    "elements = []\n",
    "for i in range(16):\n",
    "    elements  = elements + [1/(16**0.5)]\n",
    "\n",
    "# index of the marked element\n",
    "marked_elements = range(12)\n",
    "    \n",
    "# define the list of iterations\n",
    "iterations = []\n",
    "# the list storing the values of the 4th element after each step\n",
    "\n",
    "# the first values\n",
    "iterations.append(0)\n",
    "\n",
    "print('Initial length of elements = ', length_of_list(elements),'\\n')\n",
    "\n",
    "for step in range(20):\n",
    "    # store the iteration\n",
    "    iterations.append(step+1)\n",
    "    #\n",
    "    # your code is here\n",
    "    #\n",
    "    print('Step #', step+1)\n",
    "    elements = query(elements, marked_elements)\n",
    "    elements = inversion(elements)\n",
    "    print('List of elements = ')\n",
    "    list = \"\"\n",
    "    for i in elements:\n",
    "        list += (str(round(i, 2)) + ' ')\n",
    "    print('List of elements = ', list)\n",
    "    print('Length after phase = ', length_of_list(elements),'\\n')\n",
    "\n",
    "   "
   ]
  },
  {
   "cell_type": "markdown",
   "metadata": {},
   "source": [
    "<a href=\"Q84_Inversion_About_the_Mean_Solutions.ipynb#task9\">click for our solution</a>"
   ]
  },
  {
   "cell_type": "markdown",
   "metadata": {},
   "source": [
    "## Grover's quantum search algorithm\n",
    "\n",
    "The modified game is the main part of Grover's quantum search algorithm.\n",
    "\n",
    "Suppose that we are given an unordered list and we make a search of a specific element called as marked.\n",
    "- We access the list via an oracle: we can make queries to the list.\n",
    "- If there are $ N $ elements in the list, we use $ \\log(N) $ qubits. (Assume that $N$ is a power of 2.) \n",
    "- Each basis state, i.e., $ \\ket{0 \\cdots 0}, \\ldots, \\ket{1 \\cdots 1} $, corresponds to an index of the list.\n",
    "- If the searched element is detected, then the oracle flips the sign of the corresponding amplitude.\n",
    "\n",
    "<i style=\"color:red;\">Remark that, in the above games, we simulate the oracle with the pre-knowledge of marked element(s). In the real implementation, the oracle should have a quantum mechanism detecting the marked elements while being in a superposition of all indices, and then the sign(s) of the corresponding amplitude(s) is (are) flipped automatically. This is indeed the main technological challenge for implementing Grover's search algorithm.</i>\n",
    "\n",
    "At the beginning, Hadamard operator is applied to each qubit. Thus, the amplitude of each basis state is set to $ \\frac{1}{\\sqrt{N}} $.\n",
    "- We can interpret this as all elements start the game with the same amplitude.\n",
    "- Then, the game starts to iterate, and the amplitudes of marked and unmarked elements are changed."
   ]
  },
  {
   "cell_type": "markdown",
   "metadata": {},
   "source": [
    "<h4> The number of iterations </h4>\n",
    "\n",
    "When the number of marked elements are less than the unmarked elements, the amplitudes of marked elements start to increase. \n",
    "\n",
    "Then, we reach the first peak such that the probability of observing a marked element takes its maximum value. \n",
    "\n",
    "After passing this point, the amplitudes of marked elements start to decrease."
   ]
  },
  {
   "cell_type": "markdown",
   "metadata": {},
   "source": [
    "<h4> Phases </h4>\n",
    "\n",
    "The operator in each phase is unitary (linear).\n",
    "\n",
    "The unitary matrix in the query phase depends on the input, but the unitary operator in the inversion phase does not depend on the input.\n",
    "\n",
    "<b>In the query phase</b>, the amplitudes of the marked elements change sign.  \n",
    "\n",
    "<b>In the inversion phase</b>, for each amplitude $ x $, the new value is calculated as $ mean - (x - mean) = 2mean -x $.\n",
    "\n",
    "The mean of a column vector of size $ N $ can be calculated by multiplying it with the following row vector from the left:\n",
    "\n",
    "$$  \\myvector{ \\frac{1}{N} ~~ \\frac{1}{N} ~~ \\cdots ~~ \\frac{1}{N}} . $$\n",
    "\n",
    "\n",
    "When considering all elements in the list, we work with a matrix. The matrix for the second phase should be \n",
    "\n",
    "$$ D = 2 \\mymatrix{ccc}{\n",
    "    \\frac{1}{N}  & \\cdots & \\frac{1}{N} \\\\ \n",
    "    \\vdots & \\ddots & \\vdots \\\\\n",
    "    \\frac{1}{N}  & \\cdots & \\frac{1}{N} \\\\ \n",
    "    } \n",
    "- I . $$"
   ]
  },
  {
   "cell_type": "markdown",
   "metadata": {},
   "source": [
    "<h3> Task 10</h3>\n",
    "\n",
    "Convince yourself that $ D \\myvector{x_1 \\\\ \\vdots \\\\ x_N} = \\myvector{ 2m-x_1 \\\\ \\vdots \\\\ 2m-x_N } $, where $ m = \\dfrac{ \\sum_{i=1}^N x_i } { N} $."
   ]
  },
  {
   "cell_type": "markdown",
   "metadata": {},
   "source": [
    "<h3> Task 11</h3>\n",
    "\n",
    "Let $ A =  \\mymatrix{ccc}{\n",
    "    \\frac{1}{N}  & \\cdots & \\frac{1}{N} \\\\ \n",
    "    \\vdots & \\ddots & \\vdots \\\\\n",
    "    \\frac{1}{N}  & \\cdots & \\frac{1}{N} \\\\ \n",
    "    }  $. \n",
    "Convince yourself that $ A^2 = A $ and $ D^T = D $.\n",
    "\n",
    "Since $ D = 2A - I $, convince yourself that $ D $ is unitary by showing that $ D^T \\cdot D = I $, i.e., $ (2A-I)(2A-I) = I $."
   ]
  },
  {
   "cell_type": "markdown",
   "metadata": {},
   "source": [
    "## General form of Grover's search algorithm\n",
    "\n",
    "Let's assume that there are $N=2^n$ elements in a list $L$, and one of the elements is marked. \n",
    "\n",
    "Suppose that there exists a function $f$ whose domain is $L$ with the following properties:\n",
    "\n",
    "$f(x) =1 $ if $x$ \n",
    "is marked\n",
    "\n",
    "$f(x)=0 $ otherwise\n",
    "\n",
    "Grover's algorithm can also be defined in more general form: for the given function $f$, it finds the element $x$ such that $f(x)=1$.\n",
    "\n",
    "_Do you see how does this correspond to finding the marked element?_"
   ]
  },
  {
   "cell_type": "markdown",
   "metadata": {},
   "source": [
    "We access the list by querying $f$, which will be called the <font color=\"red\">oracle</font>.\n",
    "\n",
    "Normally, in the worst case you would have to query $f$ for all possible inputs to find $x$ satisfying $f(x)=1$ which has <font color=\"red\"> query complexity </font>$O(N)$. \n",
    "\n",
    "Grover's algorithm is able to perform the same task only with $O(\\sqrt{N})$ queries.\n",
    "\n",
    "(<i>$O(N)$ is Big O notation. Please check the definition if you are seeing it for the first time.</i>)\n",
    "\n",
    "**Remark:** The algorithm works if there are multiple marked elements but we assume that only 1 element is marked for simplicity."
   ]
  },
  {
   "cell_type": "markdown",
   "metadata": {},
   "source": [
    "### Example\n",
    "\n",
    "Grover's algorithm is not restricted to a list. You can apply it to any search space as long as you can construct such a function $f$. Consider the picture below. A, B, C and D are the cities and the numbers represent the distance between them.\n",
    "\n",
    "<img src=\"images/tsp.png\" width=\"300\">\n",
    "\n",
    "**Question:** <i>Starting in A, does there exist a path of distance < 900 which visits all cities exactly once and returns to A?</i>\n",
    "\n",
    "This is known as the decision version of Traveling Salesman Problem. In this example the search space consists of all possible routes such as ABDCA, ACBDA, ABCDA etc. and our aim is to find the route whose total distance is < 900.\n",
    "\n",
    "Check ABCDA. The total distance is 800 which satisfies the condition. If you want to design $f$ for this problem, $f(\\text{ABCDA})=1$ and $f(x)=0$ for all other routes. \n",
    "\n",
    "**How can you construct such an $f$ ?** \n",
    "\n",
    "Add the distances between each pair of cities and output 1 if the total distance is less than 900 and 0 otherwise. Note that we don't need to know anything about the solution to implement $f$.\n",
    "\n",
    "Of course you should be able to design such an $f$ in the quantum setting if you want to apply Grover's Search and it is not always an easy task. \n",
    "\n",
    "**How does Grover's Search help in this problem?** \n",
    "\n",
    "Checking all routes one by one is a long procedure. But given a route, you can easily check if the total distance satisfies the condition. Instead of checking all routes one by one and querying $f$ for each route, it is enough to make square root queries if you use Grover's Search.\n",
    "\n",
    "Check this [link](https://github.com/quantum-challenge/2019/blob/master/problems/final/Final_en.ipynb) to see another example."
   ]
  }
 ],
 "metadata": {
  "kernelspec": {
   "display_name": "Python 3",
   "language": "python",
   "name": "python3"
  },
  "language_info": {
   "codemirror_mode": {
    "name": "ipython",
    "version": 3
   },
   "file_extension": ".py",
   "mimetype": "text/x-python",
   "name": "python",
   "nbconvert_exporter": "python",
   "pygments_lexer": "ipython3",
   "version": "3.11.5"
  }
 },
 "nbformat": 4,
 "nbformat_minor": 2
}
