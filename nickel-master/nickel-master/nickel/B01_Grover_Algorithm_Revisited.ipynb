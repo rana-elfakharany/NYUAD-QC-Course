{
 "cells": [
  {
   "cell_type": "markdown",
   "metadata": {},
   "source": [
    "<table  align=\"left\" width=\"100%\"> <tr>\n",
    "        <td  style=\"background-color:#ffffff;\"><a href=\"https://qworld.net\" target=\"_blank\"><img src=\"../images/qworld.jpg\" width=\"35%\" align=\"left\"></a></td>\n",
    "        <td  align=\"right\" style=\"background-color:#ffffff;vertical-align:bottom;horizontal-align:right\">\n",
    "            prepared by <a href=\"https://iitis.pl/pl/person/aglos\" target=\"_blank\"  >Adam Glos</a>\n",
    "        </td>        \n",
    "</tr></table>"
   ]
  },
  {
   "cell_type": "markdown",
   "metadata": {},
   "source": [
    "<table width=\"100%\"><tr><td style=\"color:#bbbbbb;background-color:#ffffff;font-size:11px;font-style:italic;text-align:right;\">This cell contains some macros. If there is a problem with displaying mathematical formulas, please run this cell to load these macros. </td></tr></table>\n",
    "\n",
    "$ \\renewcommand{\\bra}[1]{\\langle #1|} $\n",
    "$ \\renewcommand{\\ket}[1]{|#1\\rangle} $\n",
    "$ \\renewcommand{\\braket}[2]{\\langle #1|#2\\rangle} $\n",
    "$ \\renewcommand{\\dot}[2]{ #1 \\cdot #2} $\n",
    "$ \\renewcommand{\\biginner}[2]{\\left\\langle #1,#2\\right\\rangle} $\n",
    "$ \\renewcommand{\\mymatrix}[2]{\\left( \\begin{array}{#1} #2\\end{array} \\right)} $\n",
    "$ \\renewcommand{\\myvector}[1]{\\mymatrix{c}{#1}} $\n",
    "$ \\renewcommand{\\myrvector}[1]{\\mymatrix{r}{#1}} $\n",
    "$ \\renewcommand{\\mypar}[1]{\\left( #1 \\right)} $\n",
    "$ \\renewcommand{\\mybigpar}[1]{ \\Big( #1 \\Big)} $\n",
    "$ \\renewcommand{\\sqrttwo}{\\frac{1}{\\sqrt{2}}} $\n",
    "$ \\renewcommand{\\dsqrttwo}{\\dfrac{1}{\\sqrt{2}}} $\n",
    "$ \\renewcommand{\\onehalf}{\\frac{1}{2}} $\n",
    "$ \\renewcommand{\\donehalf}{\\dfrac{1}{2}} $\n",
    "$ \\renewcommand{\\hadamard}{ \\mymatrix{rr}{ \\sqrttwo & \\sqrttwo \\\\ \\sqrttwo & -\\sqrttwo }} $\n",
    "$ \\renewcommand{\\vzero}{\\myvector{1\\\\0}} $\n",
    "$ \\renewcommand{\\vone}{\\myvector{0\\\\1}} $\n",
    "$ \\renewcommand{\\vhadamardzero}{\\myvector{ \\sqrttwo \\\\  \\sqrttwo } } $\n",
    "$ \\renewcommand{\\vhadamardone}{ \\myrvector{ \\sqrttwo \\\\ -\\sqrttwo } } $\n",
    "$ \\renewcommand{\\myarray}[2]{ \\begin{array}{#1}#2\\end{array}} $\n",
    "$ \\renewcommand{\\X}{ \\mymatrix{cc}{0 & 1 \\\\ 1 & 0}  } $\n",
    "$ \\renewcommand{\\Z}{ \\mymatrix{rr}{1 & 0 \\\\ 0 & -1}  } $\n",
    "$ \\renewcommand{\\Htwo}{ \\mymatrix{rrrr}{ \\frac{1}{2} & \\frac{1}{2} & \\frac{1}{2} & \\frac{1}{2} \\\\ \\frac{1}{2} & -\\frac{1}{2} & \\frac{1}{2} & -\\frac{1}{2} \\\\ \\frac{1}{2} & \\frac{1}{2} & -\\frac{1}{2} & -\\frac{1}{2} \\\\ \\frac{1}{2} & -\\frac{1}{2} & -\\frac{1}{2} & \\frac{1}{2} } } $\n",
    "$ \\renewcommand{\\CNOT}{ \\mymatrix{cccc}{1 & 0 & 0 & 0 \\\\ 0 & 1 & 0 & 0 \\\\ 0 & 0 & 0 & 1 \\\\ 0 & 0 & 1 & 0} } $\n",
    "$ \\renewcommand{\\norm}[1]{ \\left\\lVert #1 \\right\\rVert } $\n",
    "$ \\renewcommand{\\pstate}[1]{ \\lceil #1  \\rfloor } $"
   ]
  },
  {
   "cell_type": "markdown",
   "metadata": {},
   "source": [
    "# Grover's Algorithm revisited\n",
    "\n",
    "Grover's Search is one of the well-known quantum algorithms. Given an oracle which marks some of the elements in the search space, Grover's Algrorithm outputs the marked elements with high probability. This notebook only serves as a recap for Grover's Search and presents the code in Cirq. We refer to Bronze for the actual explanation of the algorithm.\n",
    "\n",
    "The quantum circuit for the algorithm takes the form:\n",
    "\n",
    "<img src=\"../images/grover.png\" width=\"60%\" align=\"center\">\n",
    "\n",
    "Oracle is responsible for marking the elements, while Grover diffusion operator amplifies the probability of measuring the marked elements. They are applied interchangeably for $\\sqrt{N/k}$ times, where $N$ is the size of the searh space, and $k$ is the number of marked elements."
   ]
  },
  {
   "cell_type": "markdown",
   "metadata": {},
   "source": [
    "## Initialization \n",
    "\n",
    "The Grover's search starts with creating an equal superposition on all qubits. We start with implementing this step of the algorithm."
   ]
  },
  {
   "cell_type": "markdown",
   "metadata": {},
   "source": [
    "### Task 1 \n",
    "Create a 4-qubit circuit named `circuit` and apply a Hadamard gate on each qubit. Convince yourself about the correctness of the circuit by displaying it. Print the quantum state with `Simulator` without measurement."
   ]
  },
  {
   "cell_type": "code",
   "execution_count": 2,
   "metadata": {},
   "outputs": [
    {
     "name": "stdout",
     "output_type": "stream",
     "text": [
      "0: ───H───\n",
      "\n",
      "1: ───H───\n",
      "\n",
      "2: ───H───\n",
      "\n",
      "3: ───H───\n",
      "measurements: (no measurements)\n",
      "output vector: [0.24999997+0.j 0.24999997+0.j 0.24999997+0.j 0.24999997+0.j\n",
      " 0.24999997+0.j 0.24999997+0.j 0.24999997+0.j 0.24999997+0.j\n",
      " 0.24999997+0.j 0.24999997+0.j 0.24999997+0.j 0.24999997+0.j\n",
      " 0.24999997+0.j 0.24999997+0.j 0.24999997+0.j 0.24999997+0.j]\n",
      "0.25|0000⟩ + 0.25|0001⟩ + 0.25|0010⟩ + 0.25|0011⟩ + 0.25|0100⟩ + 0.25|0101⟩ + 0.25|0110⟩ + 0.25|0111⟩ + 0.25|1000⟩ + 0.25|1001⟩ + 0.25|1010⟩ + 0.25|1011⟩ + 0.25|1100⟩ + 0.25|1101⟩ + 0.25|1110⟩ + 0.25|1111⟩\n"
     ]
    }
   ],
   "source": [
    "import cirq\n",
    "from cirq import H\n",
    "\n",
    "#\n",
    "# your solution\n",
    "#\n",
    "qlist = cirq.LineQubit.range(4)\n",
    "circuit = cirq.Circuit()\n",
    "\n",
    "circuit.append(H.on_each(*qlist))\n",
    "\n",
    "print(circuit)\n",
    "\n",
    "# to print the state\n",
    "s = cirq.Simulator()\n",
    "print(s.simulate(circuit))\n",
    "print(s.simulate(circuit).dirac_notation())"
   ]
  },
  {
   "cell_type": "markdown",
   "metadata": {},
   "source": [
    "[click for our solution](B01_Grover_Algorithm_Revisited_Solutions.ipynb#task1)"
   ]
  },
  {
   "cell_type": "markdown",
   "metadata": {},
   "source": [
    "## A simple oracle\n",
    "\n",
    "Here we will design a simple oracle, which marks the state $\\ket{1111}$. Here marking means to change the sign of state $\\ket{1111}$ to $-\\ket{1111}$, while leaving the other states unchanged. We know that the operator\n",
    "\n",
    "$$ Z = \\begin{bmatrix} 1 & 0 \\\\ 0 & -1 \\end{bmatrix}$$\n",
    "\n",
    "changes the state $\\ket{1}$ into $-\\ket{1}$. Even though stand-alone $Z$ gate applied to the third qubit changes the state $\\ket{1111}$ into -$\\ket{1111}$, it also changes, for example, the state $\\ket{0011}$ into -$\\ket{1011}$. On the other hand, we can design a multi-controlled $Z$ gate for our purpose: $Z$ gate is activated on the third qubit when the other qubits are in states $\\ket{1}$, i.e., $b_0=b_1=b_2 = 1$.\n"
   ]
  },
  {
   "cell_type": "markdown",
   "metadata": {},
   "source": [
    "Now we show how to implement this multiple-controlled gate. In order to apply $Z$ gate on the third qubit, we use `cirq.Z(qq[3])` and we control this gate with control on the remaining qubits with `cirq.Z(qq[3]).controlled_by(qq[0], qq[1], qq[2])`.  "
   ]
  },
  {
   "cell_type": "code",
   "execution_count": 3,
   "metadata": {},
   "outputs": [
    {
     "name": "stdout",
     "output_type": "stream",
     "text": [
      "0: ───@───\n",
      "      │\n",
      "1: ───@───\n",
      "      │\n",
      "2: ───@───\n",
      "      │\n",
      "3: ───Z───\n"
     ]
    }
   ],
   "source": [
    "import cirq\n",
    "\n",
    "qq = cirq.LineQubit.range(4)\n",
    "circuit = cirq.Circuit()\n",
    "\n",
    "CCCZ = cirq.Z(qq[3]).controlled_by(qq[0], qq[1], qq[2])\n",
    "# alternative version:\n",
    "# CCCZ = cirq.Z(qq[3]).controlled_by(*(qq[0:3]))\n",
    "circuit.append(CCCZ)\n",
    "\n",
    "print(circuit)"
   ]
  },
  {
   "cell_type": "markdown",
   "metadata": {},
   "source": [
    "#### Multi-controlled gates in general"
   ]
  },
  {
   "cell_type": "markdown",
   "metadata": {},
   "source": [
    "Alternatively, we can define a multi-controlled gate, and specify the target and control qubits later. This will be particularly useful, when the same gate will be used many times on a various collection of qubits."
   ]
  },
  {
   "cell_type": "code",
   "execution_count": 4,
   "metadata": {},
   "outputs": [
    {
     "name": "stdout",
     "output_type": "stream",
     "text": [
      "0: ───@───@───@───\n",
      "      │   │   │\n",
      "1: ───@───@───@───\n",
      "      │   │   │\n",
      "2: ───@───@───X───\n",
      "      │   │   │\n",
      "3: ───@───X───@───\n"
     ]
    }
   ],
   "source": [
    "import cirq\n",
    "\n",
    "qq = cirq.LineQubit.range(4)\n",
    "circuit = cirq.Circuit()\n",
    "\n",
    "CCCZ = cirq.Z.controlled(3)\n",
    "CCCX = cirq.X.controlled(3)\n",
    "\n",
    "circuit.append(CCCZ(*qq))\n",
    "circuit.append(CCCX(*qq))\n",
    "circuit.append(CCCX(qq[0], qq[1], qq[3], qq[2]))\n",
    "\n",
    "print(circuit)"
   ]
  },
  {
   "cell_type": "markdown",
   "metadata": {},
   "source": [
    "Note that for `CCCZ`, the target qubit is not distinguished when displayed. This is because controlled $Z$ operator acts exactly the same independent of the chosen target qubit. This can be easily shown as `CCCZ` acts nontrivially (in case of basis states) only on $\\ket{1111}$ -- as you can see there is no way to distinguish which qubit is a target one from this form."
   ]
  },
  {
   "cell_type": "markdown",
   "metadata": {},
   "source": [
    "Note that a multi-controlled operator is not the same as several single-qubits controls. To see this, let us simulate the operators for both cases. To do so, we will compare the unitary matrices. To make matrices smaller and easier to compare, we will only compare 3-qubits operations."
   ]
  },
  {
   "cell_type": "code",
   "execution_count": 5,
   "metadata": {},
   "outputs": [
    {
     "name": "stdout",
     "output_type": "stream",
     "text": [
      "[[ 1.+0.j  0.+0.j  0.+0.j  0.+0.j  0.+0.j  0.+0.j  0.+0.j  0.+0.j]\n",
      " [ 0.+0.j  1.+0.j  0.+0.j  0.+0.j  0.+0.j  0.+0.j  0.+0.j  0.+0.j]\n",
      " [ 0.+0.j  0.+0.j  1.+0.j  0.+0.j  0.+0.j  0.+0.j  0.+0.j  0.+0.j]\n",
      " [ 0.+0.j  0.+0.j  0.+0.j  1.+0.j  0.+0.j  0.+0.j  0.+0.j  0.+0.j]\n",
      " [ 0.+0.j  0.+0.j  0.+0.j  0.+0.j  1.+0.j  0.+0.j  0.+0.j  0.+0.j]\n",
      " [ 0.+0.j  0.+0.j  0.+0.j  0.+0.j  0.+0.j  1.+0.j  0.+0.j  0.+0.j]\n",
      " [ 0.+0.j  0.+0.j  0.+0.j  0.+0.j  0.+0.j  0.+0.j  1.+0.j  0.+0.j]\n",
      " [-0.+0.j -0.+0.j -0.+0.j -0.+0.j -0.+0.j -0.+0.j -0.+0.j -1.+0.j]]\n",
      "\n",
      "[[ 1.+0.j  0.+0.j  0.+0.j  0.+0.j  0.+0.j  0.+0.j  0.+0.j  0.+0.j]\n",
      " [ 0.+0.j  1.+0.j  0.+0.j  0.+0.j  0.+0.j  0.+0.j  0.+0.j  0.+0.j]\n",
      " [ 0.+0.j  0.+0.j  1.+0.j  0.+0.j  0.+0.j  0.+0.j  0.+0.j  0.+0.j]\n",
      " [-0.+0.j -0.+0.j -0.+0.j -1.+0.j -0.+0.j -0.+0.j -0.+0.j -0.+0.j]\n",
      " [ 0.+0.j  0.+0.j  0.+0.j  0.+0.j  1.+0.j  0.+0.j  0.+0.j  0.+0.j]\n",
      " [-0.+0.j -0.+0.j -0.+0.j -0.+0.j -0.+0.j -1.+0.j -0.+0.j -0.+0.j]\n",
      " [ 0.+0.j  0.+0.j  0.+0.j  0.+0.j  0.+0.j  0.+0.j  1.+0.j  0.+0.j]\n",
      " [ 0.-0.j  0.-0.j  0.-0.j  0.-0.j  0.-0.j  0.-0.j  0.-0.j  1.-0.j]]\n"
     ]
    }
   ],
   "source": [
    "import cirq\n",
    "from cirq import Z\n",
    "\n",
    "# z gate controlled by qubits 0 and 1\n",
    "qq = cirq.LineQubit.range(3)\n",
    "circ_multi = cirq.Circuit()\n",
    "circ_multi.append(Z(qq[2]).controlled_by(qq[0], qq[1]))\n",
    "\n",
    "qq = cirq.LineQubit.range(3)\n",
    "circ_single = cirq.Circuit()\n",
    "# z gate controlled by qubit 0\n",
    "circ_single.append(Z(qq[2]).controlled_by(qq[0]))\n",
    "# z gate controlled by qubit 1\n",
    "circ_single.append(Z(qq[2]).controlled_by(qq[1]))\n",
    "\n",
    "print(cirq.unitary(circ_multi))\n",
    "print()\n",
    "print(cirq.unitary(circ_single))"
   ]
  },
  {
   "cell_type": "markdown",
   "metadata": {},
   "source": [
    "Note that only the former has single $-1$ on the bottom-right corner (`j` stands for the imaginary unit)."
   ]
  },
  {
   "cell_type": "markdown",
   "metadata": {},
   "source": [
    "## The Grover's diffusion operator\n",
    "\n",
    "The Grover's diffusion (inversion) operator plays a vital role in the algorithm, as it amplifies the amplitude(s) of the marked element(s) if applied for correct number of times. It can be presented by the following unitary matrix:\n",
    "\n",
    "$$ I-2 \\mymatrix{ccc}{\n",
    "    \\frac{1}{N}  & \\cdots & \\frac{1}{N} \\\\ \n",
    "    \\vdots & \\ddots & \\vdots \\\\\n",
    "    \\frac{1}{N}  & \\cdots & \\frac{1}{N} \\\\ \n",
    "    }  , $$\n",
    "\n",
    "where $N$ is the dimension of the matrix. The implementation of this operator is known. Here is an example circuit given for four qubits $(N = 16)$.\n",
    "\n",
    "<img src=\"..\\images/grover_diffusion_operator.png\" width=\"40%\" align=\"center\">\n",
    "\n",
    "In general, one can apply Hadamard and $NOT$ gates to each qubit, and then use a multi-controlled $Z$ gate followed by the same $NOT$ and Hadamard gates. \n",
    "\n",
    "Please check the end of the notebook to read about why those gates are used to implement the diffusion operator."
   ]
  },
  {
   "cell_type": "markdown",
   "metadata": {},
   "source": [
    "### Task 2 \n",
    "    \n",
    "Create a 3-qubit register and design the Grover diffusion operator based on the circuit above. Print the circuit and its matrix form by using `cirq.unitary`. Verify that the circuit by checking the entries of the matrix."
   ]
  },
  {
   "cell_type": "code",
   "execution_count": 12,
   "metadata": {},
   "outputs": [
    {
     "name": "stdout",
     "output_type": "stream",
     "text": [
      "[[ 0.25+0.j  0.25+0.j  0.25+0.j  0.25+0.j  0.25+0.j  0.25+0.j  0.25+0.j\n",
      "  -0.75+0.j]\n",
      " [-0.25+0.j -0.25+0.j -0.25+0.j -0.25+0.j -0.25+0.j -0.25+0.j  0.75+0.j\n",
      "  -0.25+0.j]\n",
      " [-0.25+0.j -0.25+0.j -0.25+0.j -0.25+0.j -0.25+0.j  0.75+0.j -0.25+0.j\n",
      "  -0.25+0.j]\n",
      " [ 0.25+0.j  0.25+0.j  0.25+0.j  0.25+0.j -0.75+0.j  0.25+0.j  0.25+0.j\n",
      "   0.25+0.j]\n",
      " [-0.25+0.j -0.25+0.j -0.25+0.j  0.75+0.j -0.25+0.j -0.25+0.j -0.25+0.j\n",
      "  -0.25+0.j]\n",
      " [ 0.25+0.j  0.25+0.j -0.75+0.j  0.25+0.j  0.25+0.j  0.25+0.j  0.25+0.j\n",
      "   0.25+0.j]\n",
      " [ 0.25+0.j -0.75+0.j  0.25+0.j  0.25+0.j  0.25+0.j  0.25+0.j  0.25+0.j\n",
      "   0.25+0.j]\n",
      " [ 0.75+0.j -0.25+0.j -0.25+0.j -0.25+0.j -0.25+0.j -0.25+0.j -0.25+0.j\n",
      "  -0.25+0.j]]\n"
     ]
    }
   ],
   "source": [
    "import cirq\n",
    "from cirq import H, X, Z\n",
    "\n",
    "#\n",
    "# your solution\n",
    "#\n",
    "qlist = cirq.LineQubit.range(3)\n",
    "circuit = cirq.Circuit()\n",
    "\n",
    "hadamard = H.on_each(*qlist)\n",
    "xgate = X.on_each(*qlist)\n",
    "\n",
    "circuit.append(hadamard)\n",
    "circuit.append(xgate)\n",
    "circuit.append(Z(qlist[2]).controlled_by(qlist[0], qlist[1]))\n",
    "circuit.append(hadamard)\n",
    "circuit.append(xgate)\n",
    "\n",
    "print(cirq.unitary(circuit))"
   ]
  },
  {
   "cell_type": "markdown",
   "metadata": {},
   "source": [
    "[click for our solution](B01_Grover_Algorithm_Revisited_Solutions.ipynb#task2)"
   ]
  },
  {
   "cell_type": "markdown",
   "metadata": {},
   "source": [
    "## Grover's Algorithm\n",
    "\n",
    "Finally, we are ready to implement the Grover's Algorithm. Let us consider the Grover's Search for four qubits with proposed simplified oracle. We make an initialization, then apply the oracle (the one we prepared before) and the diffusion operator alternately for $\\pi\\sqrt{2^4}/4\\approx 3$ times. Eventually, the state 1111 should be measured more often than the other basis states. "
   ]
  },
  {
   "cell_type": "markdown",
   "metadata": {},
   "source": [
    "### Task 3\n",
    "\n",
    "Fill the `oracle` and `grover_diffusion` so that they will form a 4-qubit Grover's algorithm. You can use the code from previous tasks. Verify the results by analyzing the statistics of the measurements. Note you can use `yield` for sending consecutive gates. "
   ]
  },
  {
   "cell_type": "code",
   "execution_count": 13,
   "metadata": {},
   "outputs": [
    {
     "name": "stdout",
     "output_type": "stream",
     "text": [
      "Measurement output:  Counter({'0000': 800, '1111': 182, '1001': 4, '0101': 4, '0110': 3, '1100': 2, '1010': 1, '1101': 1, '0100': 1, '1011': 1, '0011': 1})\n",
      "Probability of measuring 1111:  0.182\n",
      "Probability of not measuring 1111:  0.8180000000000001\n"
     ]
    }
   ],
   "source": [
    "import cirq\n",
    "from cirq import H, Z, X\n",
    "\n",
    "qq = cirq.LineQubit.range(4)\n",
    "circuit = cirq.Circuit()\n",
    "circuit.append(H.on_each(*qq))\n",
    "\n",
    "def oracle():\n",
    "    #\n",
    "    # your solution\n",
    "    #\n",
    "    yield Z(qq[3]).controlled_by(*(qq[0:3]))\n",
    "\n",
    "\n",
    "def grover_diffusion():\n",
    "    yield H.on_each(*qq)\n",
    "    yield X.on_each(*qq)\n",
    "    #\n",
    "    # your solution\n",
    "    #\n",
    "    yield Z(qq[3]).controlled_by(*(qq[0:3]))\n",
    "    yield H.on_each(*qq)\n",
    "    yield X.on_each(*qq)\n",
    "\n",
    "for i in range(3):\n",
    "    circuit.append(oracle())\n",
    "    circuit.append(grover_diffusion())\n",
    "circuit.append(cirq.measure(*qq, key='result'))\n",
    "\n",
    "# determine the statistics of the measurements\n",
    "s = cirq.Simulator() \n",
    "trials_number = 1000\n",
    "samples = s.run(circuit, repetitions=trials_number)\n",
    "\n",
    "def bitstring(bits):\n",
    "    return \"\".join(str(int(b)) for b in bits)\n",
    "\n",
    "counts = samples.histogram(key=\"result\",fold_func=bitstring)\n",
    "\n",
    "print(\"Measurement output: \", counts)\n",
    "print(\"Probability of measuring 1111: \", counts.get('1111')/trials_number)\n",
    "print(\"Probability of not measuring 1111: \", 1- counts.get('1111')/trials_number)"
   ]
  },
  {
   "cell_type": "markdown",
   "metadata": {},
   "source": [
    "[click for our solution](B01_Grover_Algorithm_Revisited_Solutions.ipynb#task3)"
   ]
  },
  {
   "cell_type": "markdown",
   "metadata": {},
   "source": [
    "## Are we done?\n",
    "\n",
    "We have just implemented the Grover's search algorithm finding 1111 label in $\\approx \\pi\\sqrt{N}/4$ time. In this example, we have implemented a very simple oracle which required using the knowledge about the element we were searching for.\n",
    "\n",
    "In the next notebooks, we will implement less trivial oracles and use Grover's Algorithm to help us in finding out the solution of a harder problem."
   ]
  },
  {
   "cell_type": "markdown",
   "metadata": {},
   "source": [
    "----\n",
    "\n",
    "<h2>Why these gates are chosen? (Optional) </h2>\n",
    "\n",
    "Now let's try to understand why these gates are chosen. Let's recall the diffusion operator:\n",
    "\n",
    "$$ 2 \\mymatrix{ccc}{\n",
    "    \\frac{1}{N}  & \\cdots & \\frac{1}{N} \\\\ \n",
    "    \\vdots & \\ddots & \\vdots \\\\\n",
    "    \\frac{1}{N}  & \\cdots & \\frac{1}{N} \\\\ \n",
    "    } \n",
    "- I . $$\n",
    "\n",
    "Recall that the diffusion operator can be expressed as $D=2\\ket{u}\\bra{u}-I$ where $\\ket{u}=H^{\\otimes n}\\ket{0^n}$ is the equal superposition vector. We will simply denote $\\ket{0^n}$ by $\\ket{\\mathbf{0}}$. "
   ]
  },
  {
   "cell_type": "markdown",
   "metadata": {},
   "source": [
    "\n",
    "Instead of $D$, we will implement $-D$. Since the two operators differ by a negative sign, they yield the same observation probabilities. \n",
    "\n",
    "For instance, if $D \\ket{\\psi} = \\ket{\\phi}$, then $-D \\ket{\\psi} = -\\ket{\\phi}$ and the states $\\ket{\\phi}$ and $-\\ket{\\phi}$ have identical observation probabilities."
   ]
  },
  {
   "cell_type": "markdown",
   "metadata": {},
   "source": [
    "- To start with let's express $-D$ as follows:\n",
    "\n",
    "\\begin{align*}\n",
    "-D=-(2\\ket{u}\\bra{u}-I) = I - 2\\ket{u}\\bra{u} &= I - 2(H^{\\otimes n}\\ket{\\mathbf{0}}\\bra{\\mathbf{0}}H^{\\otimes n}) \\\\\n",
    "&= H^{\\otimes n}H^{\\otimes n} - 2(H^{\\otimes n}\\ket{\\mathbf{0}}\\bra{\\mathbf{0}}H^{\\otimes n})\\\\\n",
    "&=H^{\\otimes n} (H^{\\otimes n} - 2\\ket{\\mathbf{0}}\\bra{\\mathbf{0}}H^{\\otimes n}) \\\\\n",
    "&=H^{\\otimes n} (I - 2\\ket{\\mathbf{0}}\\bra{\\mathbf{0}})H^{\\otimes n}\n",
    "\\end{align*}\n",
    "\n",
    "<i>Looking at this expression, we understand why we have $H$ gates at the beginning and at the end</i>"
   ]
  },
  {
   "cell_type": "markdown",
   "metadata": {},
   "source": [
    "- Now let us look at the effect of applying $I - 2\\ket{\\mathbf{0}}\\bra{\\mathbf{0}}$ to any arbitrary state.\n",
    "\n",
    "$(I - 2\\ket{\\mathbf{0}}\\bra{\\mathbf{0}}) \\ket{x} = \\ket{x} - 2\\ket{\\mathbf{0}}\\braket{\\mathbf{0}}{x}.$\n",
    "\n",
    "If $\\ket{x}=\\ket{\\mathbf{0}}$, since $\\braket{\\mathbf{0}}{\\mathbf{0}}=1$, then $ \\ket{x} - 2\\ket{\\mathbf{0}}\\braket{\\mathbf{0}}{x} = \\ket{\\mathbf{0}} - 2\\ket{\\mathbf{0}}\\braket{\\mathbf{0}}{\\mathbf{0}} =\\ket{\\mathbf{0}} -2\\ket{\\mathbf{0}} = - \\ket{\\mathbf{0}}$.\n",
    "\n",
    "If $\\ket{x}\\neq \\ket{\\mathbf{0}}$, since $\\braket{\\mathbf{0}}{x}=0$, then $ \\ket{x} - 2\\ket{\\mathbf{0}}\\braket{\\mathbf{0}}{x} =  \\ket{x} - 2\\ket{\\mathbf{0}}\\cdot 0  = \\ket{x}$.\n",
    "\n",
    "Hence, the effect of $I - 2\\ket{\\mathbf{0}}\\bra{\\mathbf{0}}$ is flipping the amplitude of the state $\\ket{\\mathbf{0}}$."
   ]
  },
  {
   "cell_type": "markdown",
   "metadata": {},
   "source": [
    "- How to check if the quantum state is equal to $\\ket{\\bf{0}}$ and flip its amplitude?\n",
    "\n",
    "If all qubits were in state $\\ket{1}$, then we could use a multi-controlled $Z$ gate to flip the amplitude. Instead, we need to apply a multi-controlled $Z$ gate when all qubits are in state state $\\ket{0}$.\n",
    "\n",
    " <i> That's why we first apply $X$ gates and then apply multi-controlled $Z$ gate. Afterwards, we set the qubits back by applying $X$ gates again (Recall the multiple controlled constructions notebook.). </i>"
   ]
  }
 ],
 "metadata": {
  "kernelspec": {
   "display_name": "Python 3 (ipykernel)",
   "language": "python",
   "name": "python3"
  },
  "language_info": {
   "codemirror_mode": {
    "name": "ipython",
    "version": 3
   },
   "file_extension": ".py",
   "mimetype": "text/x-python",
   "name": "python",
   "nbconvert_exporter": "python",
   "pygments_lexer": "ipython3",
   "version": "3.11.5"
  }
 },
 "nbformat": 4,
 "nbformat_minor": 4
}
