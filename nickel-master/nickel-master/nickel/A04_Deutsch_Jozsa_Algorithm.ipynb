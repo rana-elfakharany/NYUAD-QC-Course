{
 "cells": [
  {
   "cell_type": "markdown",
   "metadata": {},
   "source": [
    "<table> <tr>\n",
    "        <td  style=\"background-color:#ffffff;\">\n",
    "            <a href=\"https://qworld.net\" target=\"_blank\"><img src=\"../images/qworld.jpg\" width=\"25%\" align=\"left\"> </a></td>\n",
    "        <td style=\"background-color:#ffffff;vertical-align:bottom;text-align:right;\">\n",
    "            prepared by Berat Yenilen, Utku Birkan, Arda Çınar, Cenk Tüysüz and Özlem Salehi (<a href=\"https://qworld.net/qturkey/\" target=\"_blank\">QTurkey</a>)\n",
    "        </td>        \n",
    "</tr></table>"
   ]
  },
  {
   "cell_type": "markdown",
   "metadata": {},
   "source": [
    "<table width=\"100%\"><tr><td style=\"color:#bbbbbb;background-color:#ffffff;font-size:11px;font-style:italic;text-align:right;\">This cell contains some macros. If there is a problem with displaying mathematical formulas, please run this cell to load these macros. </td></tr></table>\n",
    "\n",
    "$ \\renewcommand{\\bra}[1]{\\langle #1|} $\n",
    "$ \\renewcommand{\\ket}[1]{|#1\\rangle} $\n",
    "$ \\renewcommand{\\braket}[2]{\\langle #1|#2\\rangle} $\n",
    "$ \\renewcommand{\\dot}[2]{ #1 \\cdot #2} $\n",
    "$ \\renewcommand{\\biginner}[2]{\\left\\langle #1,#2\\right\\rangle} $\n",
    "$ \\renewcommand{\\mymatrix}[2]{\\left( \\begin{array}{#1} #2\\end{array} \\right)} $\n",
    "$ \\renewcommand{\\myvector}[1]{\\mymatrix{c}{#1}} $\n",
    "$ \\renewcommand{\\myrvector}[1]{\\mymatrix{r}{#1}} $\n",
    "$ \\renewcommand{\\mypar}[1]{\\left( #1 \\right)} $\n",
    "$ \\renewcommand{\\mybigpar}[1]{ \\Big( #1 \\Big)} $\n",
    "$ \\renewcommand{\\sqrttwo}{\\frac{1}{\\sqrt{2}}} $\n",
    "$ \\renewcommand{\\dsqrttwo}{\\dfrac{1}{\\sqrt{2}}} $\n",
    "$ \\renewcommand{\\onehalf}{\\frac{1}{2}} $\n",
    "$ \\renewcommand{\\donehalf}{\\dfrac{1}{2}} $\n",
    "$ \\renewcommand{\\hadamard}{ \\mymatrix{rr}{ \\sqrttwo & \\sqrttwo \\\\ \\sqrttwo & -\\sqrttwo }} $\n",
    "$ \\renewcommand{\\vzero}{\\myvector{1\\\\0}} $\n",
    "$ \\renewcommand{\\vone}{\\myvector{0\\\\1}} $\n",
    "$ \\renewcommand{\\stateplus}{\\myvector{ \\sqrttwo \\\\  \\sqrttwo } } $\n",
    "$ \\renewcommand{\\stateminus}{ \\myrvector{ \\sqrttwo \\\\ -\\sqrttwo } } $\n",
    "$ \\renewcommand{\\myarray}[2]{ \\begin{array}{#1}#2\\end{array}} $\n",
    "$ \\renewcommand{\\X}{ \\mymatrix{cc}{0 & 1 \\\\ 1 & 0}  } $\n",
    "$ \\renewcommand{\\Z}{ \\mymatrix{rr}{1 & 0 \\\\ 0 & -1}  } $\n",
    "$ \\renewcommand{\\Htwo}{ \\mymatrix{rrrr}{ \\frac{1}{2} & \\frac{1}{2} & \\frac{1}{2} & \\frac{1}{2} \\\\ \\frac{1}{2} & -\\frac{1}{2} & \\frac{1}{2} & -\\frac{1}{2} \\\\ \\frac{1}{2} & \\frac{1}{2} & -\\frac{1}{2} & -\\frac{1}{2} \\\\ \\frac{1}{2} & -\\frac{1}{2} & -\\frac{1}{2} & \\frac{1}{2} } } $\n",
    "$ \\renewcommand{\\CNOT}{ \\mymatrix{cccc}{1 & 0 & 0 & 0 \\\\ 0 & 1 & 0 & 0 \\\\ 0 & 0 & 0 & 1 \\\\ 0 & 0 & 1 & 0} } $\n",
    "$ \\renewcommand{\\norm}[1]{ \\left\\lVert #1 \\right\\rVert } $\n",
    "$ \\renewcommand{\\pstate}[1]{ \\lceil  #1  \\rfloor } $"
   ]
  },
  {
   "cell_type": "markdown",
   "metadata": {},
   "source": [
    "<h1> Deutsch-Jozsa Algorithm </h1> "
   ]
  },
  {
   "cell_type": "markdown",
   "metadata": {},
   "source": [
    "Now we can sort of generalize our function $f:\\{0,1\\}^n \\rightarrow \\{0,1\\}$, which means that our function $f$ takes as input an $n$-bit string $x$ and maps it to 0 or 1. In this case, we say that $f$ is constant if it maps every string of length $n$ to either 0 or 1, and it is balanced if it maps exactly half of the bit strings to 0 and the other half to 1. "
   ]
  },
  {
   "cell_type": "markdown",
   "metadata": {},
   "source": [
    "Here is an example of a constant function:\n",
    "\n",
    "$\\begin{array}{cc|c} \n",
    "input& input& output \\\\ \n",
    "\\hline\n",
    "0& 0 & 0 \\\\ \n",
    "0& 1 & 0 \\\\ \n",
    "1& 0 & 0 \\\\ \n",
    "1& 1 & 0 \\\\ \n",
    " \\end{array}\n",
    "$"
   ]
  },
  {
   "cell_type": "markdown",
   "metadata": {},
   "source": [
    "Here is an example of a balanced function:\n",
    "\n",
    "$\\begin{array}{cc|c} \n",
    "input& input& output \\\\ \n",
    "\\hline\n",
    "0& 0 & 0 \\\\ \n",
    "0& 1 & 1 \\\\ \n",
    "1& 0 & 1 \\\\ \n",
    "1& 1 & 0 \\\\ \n",
    " \\end{array}\n",
    "$"
   ]
  },
  {
   "cell_type": "markdown",
   "metadata": {},
   "source": [
    "## Problem\n",
    "\n",
    "Given $f:\\{0,1\\}^n \\rightarrow \\{0,1\\}$ as an oracle, decide whether $f$ is constant or balanced."
   ]
  },
  {
   "cell_type": "markdown",
   "metadata": {},
   "source": [
    "Note that the input size being $n$ instead of 1, does not make any change while implementing  $U_f: \\ket{x}\\ket{y} \\mapsto \\ket{x}\\ket{y \\oplus f(x)} $. When the input is $n$ bit, $\\ket{x} = \\ket{ x_1x_2x_3...x_n}$ is a quantum state with $n$ qubits and $y$ is the single output qubit since the range of $f$ is $\\{0,1\\}$.\n",
    "\n",
    "Similarly, phase kickback idea still applies:    $ \\ket{x}\\ket{-} \\xrightarrow{U_f} (-1)^{f(x)} \\ket{x}\\ket{-} $"
   ]
  },
  {
   "cell_type": "markdown",
   "metadata": {},
   "source": [
    "<h2>Reminder: Notation for Multiple Qubit Registers</h2>\n",
    "\n",
    "To represent quantum states of arbitrary length quantum registers, we use $\\ket{0}^{\\otimes n}$ for representing $\\ket{0} \\otimes \\ket{0} \\otimes \\cdots \\otimes \\ket{0}$ (repeated $n$ times). Similar notation also exists for quantum opreators. For example $ H^{\\otimes n}\\ket{1}^{\\otimes n}$ is $ \\underbrace{H\\ket{1} \\otimes H\\ket{1} \\otimes \\cdots \\otimes H\\ket{1}}_{n \\text{ times}}$.\n",
    "\n",
    "Additionally, the notation $\\ket{x}$ can be used for $x \\in \\mathbb{N}$, as the binary representation of the number (the length of the register is  often left implicit). For example $\\ket{42}$ can mean $\\ket{101010}$ in a 6 qubit register or a $\\ket{00101010}$ in an 8 qubit register."
   ]
  },
  {
   "cell_type": "markdown",
   "metadata": {},
   "source": [
    "<h2>Hadamard Revisited</h2>\n",
    "\n",
    "We know that applying Hadamard to state $\\ket{0}$, we get $\\frac{1}{\\sqrt{2}}\\left(\\ket{0}+\\ket{1}\\right)$, and applying Hadamard to state $\\ket{1}$, we obtain $\\frac{1}{\\sqrt{2}}\\left(\\ket{0}-\\ket{1}\\right)$.\n",
    "\n",
    "Now let $x_1 \\in \\{0,1\\}$. Consider the expression\n",
    "\n",
    "$$H\\ket{x_1} = \\frac{1}{\\sqrt{2}} \\left( \\ket{0} + (-1)^{x_1} \\ket{1} \\right) = \\frac{1}{\\sqrt{2}}\\sum_{z\\in\\{0,1\\}}(-1)^{x_1z}\\ket{z}.$$\n",
    "\n",
    "When $x_1=0$, then we have a plus and when $x_1=1$, then we have a minus. So, we can start expressing the state we get after applying Hadamard to an arbitrary qubit using the above expression starting from now."
   ]
  },
  {
   "cell_type": "markdown",
   "metadata": {},
   "source": [
    "What happens when we apply the $H^{\\otimes n}$ to an $n$-qubit register? We can intuitively guess that applying the operator to an all 0 register would yield an equal superposition of all possible natural numbers like\n",
    "\n",
    "$$ H^{\\otimes n} \\ket{0}^{\\otimes n} = \\frac{1}{\\sqrt{2^n}} \\sum_{x \\in \\{0,1\\}^n}\\ket{x}.$$\n",
    "\n",
    "What about arbitrary states? Then using the above equation we can write\n",
    "\n",
    "\\begin{align}\n",
    "H^{\\otimes n} \\ket{x} &= \\left(\\frac{1}{\\sqrt{2}}\\sum_{z_1\\in\\{0,1\\}}(-1)^{x_1z_1}\\ket{z_1}\\right) \\otimes \\left(\\frac{1}{\\sqrt{2}}\\sum_{z_2\\in\\{0,1\\}}(-1)^{x_2z_2}\\ket{z_2} \\right) \\otimes \\cdots \\otimes \\left(\\frac{1}{\\sqrt{2}}\\sum_{z_n\\in\\{0,1\\}}(-1)^{x_nz_n}\\ket{z_n}\\right), \\\\\n",
    "&= \\frac{1}{\\sqrt{2^n}} \\sum_{z \\in \\{0,1\\}^n}(-1)^{x \\cdot z}\\ket{z},\n",
    "\\end{align}\n",
    "where $\\ket{x}=\\ket{x_1\\cdots x_n}$, $\\ket{z}=\\ket{z_1\\cdots z_n}$ and $ x \\cdot z $ is the bitwise and operation modulo 2, i.e. $ x \\cdot z = \\sum_{i=1}^n x_i \\cdot z_i \\pmod 2$."
   ]
  },
  {
   "cell_type": "markdown",
   "metadata": {},
   "source": [
    "<h3>Task 1</h3>\n",
    "\n",
    "Apply $H^{\\otimes 4}$ to $\\ket{15}$. What is the result?"
   ]
  },
  {
   "cell_type": "markdown",
   "metadata": {},
   "source": [
    "<h3>Task 2 (Optional)</h3>\n",
    "\n",
    "Prove the above theorem for registers with arbitrary length."
   ]
  },
  {
   "cell_type": "markdown",
   "metadata": {},
   "source": [
    "<h3>Task 3 (Discussion)</h3>\n",
    "\n",
    "- How many times do we need to use the oracle $f$, if we want to solve this problem clasically, in the worst case?\n",
    "\n",
    "- How many times do you think we will use the oracle $f$ while solving it with a quantum computer?"
   ]
  },
  {
   "cell_type": "markdown",
   "metadata": {},
   "source": [
    "<a href=\"A04_Deutsch_Jozsa_Algorithm_Solutions.ipynb#task3\">click for our solution</a>"
   ]
  },
  {
   "cell_type": "markdown",
   "metadata": {},
   "source": [
    "<h2>Algorithm</h2>\n",
    "\n",
    " <img src=\"../images/deutschjozsa.png\" width=\"60%\" align=\"center\">\n",
    "\n",
    "We construct a circuit with $n+1$ qubits. \n",
    "\n",
    "- Set the $n+1$'st qubit to state $\\ket{-}$ by applying $X$ and $H$ gates.\n",
    "- Apply $H$ to first $n$ qubits.\n",
    "- Apply $U_f$.\n",
    "- Apply $H$ to first $n$ qubits.\n",
    "- Measure the first $n$ qubits. If it is $0^n$, then the function is constant. Otherwise, it is balanced.\n",
    "\n",
    "\n"
   ]
  },
  {
   "cell_type": "markdown",
   "metadata": {},
   "source": [
    "<h2>Analysis</h2>\n",
    "\n",
    " <img src=\"../images/deutschjozsa2.png\" width=\"60%\" align=\"center\">"
   ]
  },
  {
   "cell_type": "markdown",
   "metadata": {},
   "source": [
    "This time we have a circuit with $n$ input qubits and an output qubit. The initial state is \n",
    "$$ \\ket{\\psi_0} = \\ket{0}^{\\otimes n} \\ket{0}.$$\n",
    "\n",
    "Next we apply an $X$ gate to last qubit,\n",
    "$$ \\ket{\\psi_1} = \\ket{0}^{\\otimes n} \\ket{1}.$$\n",
    "\n",
    "We set last qubit to state $\\ket{-}$ and apply $H$ gate to first $n$ qubits,"
   ]
  },
  {
   "cell_type": "markdown",
   "metadata": {},
   "source": [
    "$$ \\ket{\\psi_2} = \\frac{1}{\\sqrt{2^n}}\\sum_{x \\in \\{0,1\\}^n} \\ket{x} \\otimes \\ket{-}.$$"
   ]
  },
  {
   "cell_type": "markdown",
   "metadata": {},
   "source": [
    "Now we apply $U_f$. Recalling phase kickback, we can rewrite our entire state as\n",
    "\n",
    "$$ \\ket{\\psi_3} = \\bigg[ \\frac{1}{\\sqrt{2^n}} \\sum_{x \\in \\{0,1\\}^n} (-1)^{f(x)} \\ket{x} \\bigg] \\otimes \\ket{-}. $$\n",
    "\n",
    "Note that we apply $U_f$ to each basis state and write our quantum state using sum notation since we have an equal superposition of them."
   ]
  },
  {
   "cell_type": "markdown",
   "metadata": {},
   "source": [
    "Now we can ignore the output qubit and only focus on the input qubits to write\n",
    "\n",
    "$$ \\ket{\\psi_{3,0}} = \\frac{1}{\\sqrt{2^n}} \\sum_{x \\in \\{0,1\\}^n} (-1)^{f(x)} \\ket{x}.$$"
   ]
  },
  {
   "cell_type": "markdown",
   "metadata": {},
   "source": [
    "Now, we apply Hadamard to each qubit, and noting that \n",
    "$$H^{\\otimes n} \\ket{x} = \\frac{1}{\\sqrt{2^n}} \\sum_{z  \\in \\{0,1\\}^n}(-1)^{x \\cdot z}\\ket{z},$$\n",
    "we get\n",
    "$$ \\ket{\\psi_{4,0}} = \\frac{1}{2^n} \\sum_{x \\in \\{0,1\\}^n} \\sum_{z \\in \\{0,1\\}^n}(-1)^{x\\cdot z + f(x)} \\ket{z}.$$"
   ]
  },
  {
   "cell_type": "markdown",
   "metadata": {},
   "source": [
    "We know the probability of observing a state is equal to the square of its amplitude. Now let's focus on the state $z=\\ket{0}^{\\otimes n}$. Replacing $z=0$ in the above sum, its amplitude is given by\n",
    "\n",
    "$$\\frac{1}{2^n} \\sum_{x \\in \\{0,1\\}^n} (-1)^{f(x)}.$$\n",
    "\n",
    "So, if the function is constant, then this sum adds up to 1 or -1, meaning that we observe $z=\\ket{0}^{\\otimes n}$ 100% of the time and the amplitudes of all other states cancel each other, resulting in 0 probability.  \n",
    "\n",
    "Similarly, the probability of observing $z=\\ket{0}^{\\otimes n}$ is 0 if the function is balanced since exactly half of the terms have opposite signs and in this case we observe a non-zero string."
   ]
  },
  {
   "cell_type": "markdown",
   "metadata": {},
   "source": [
    "<h3>Task 4</h3>\n",
    "\n",
    "You are given an oracle function called `oraclej(n)`, which returns a random quantum circuit with `n+1` qubits corresponding to a constant or balanced fuction. `oraclej(n)` represents the $U_f$ in our algorithm.\n",
    "\n",
    "Let $n=4$. Implement the proposed algorithm to decide whether or not $f$ is constant or even. Note that qubit 4 is the output qubit.\n",
    "\n",
    "(Note: You should be able the see the circuit structure of $U_f$, if you draw your circuit. Can you check whether your result is correct or not by looking at this circuit?)\n",
    "\n",
    "Don't forget to run the following cell to load the oracle function."
   ]
  },
  {
   "cell_type": "code",
   "execution_count": 1,
   "metadata": {},
   "outputs": [],
   "source": [
    "%run ../include/oracle.py"
   ]
  },
  {
   "cell_type": "code",
   "execution_count": 2,
   "metadata": {},
   "outputs": [
    {
     "data": {
      "image/png": "[encoded data removed]",
      "text/plain": [
       "<Figure size 956.385x535.111 with 1 Axes>"
      ]
     },
     "execution_count": 2,
     "metadata": {},
     "output_type": "execute_result"
    }
   ],
   "source": [
    "import random\n",
    "from qiskit import QuantumCircuit, execute, Aer\n",
    "\n",
    "dj_circuit = QuantumCircuit(5, 4)\n",
    "\n",
    "#Your code here\n",
    "dj_circuit.x(4)\n",
    "dj_circuit.h(range(5))\n",
    "dj_circuit.compose(oraclej(4), inplace=True)\n",
    "\n",
    "dj_circuit.h(range(4))\n",
    "dj_circuit.measure(range(4), range(4))\n",
    "\n",
    "dj_circuit.draw(output='mpl')"
   ]
  },
  {
   "cell_type": "code",
   "execution_count": 3,
   "metadata": {},
   "outputs": [
    {
     "name": "stdout",
     "output_type": "stream",
     "text": [
      "{'0000': 10000}\n"
     ]
    }
   ],
   "source": [
    "job = execute(dj_circuit, Aer.get_backend('qasm_simulator'),shots=10000)\n",
    "counts = job.result().get_counts()\n",
    "print(counts)"
   ]
  },
  {
   "cell_type": "markdown",
   "metadata": {},
   "source": [
    "<a href=\"A04_Deutsch_Jozsa_Algorithm_Solutions.ipynb#task4\">click for our solution</a>"
   ]
  },
  {
   "cell_type": "markdown",
   "metadata": {},
   "source": [
    "<h3>Task 5</h3>\n",
    "\n",
    "Write two functions `balanced(n)` and `constant(n)` to randomly generate quantum circuits with $n+1$ qubits that implement a function $ f : \\{0, 1\\}^n \\rightarrow \\{0, 1\\} $ such that $f$ is either constant or balanced. \n",
    "\n",
    "Note that qubit $n$ is the output qubit."
   ]
  },
  {
   "cell_type": "code",
   "execution_count": 4,
   "metadata": {},
   "outputs": [],
   "source": [
    "import random\n",
    "from qiskit import QuantumCircuit, execute, Aer\n",
    "\n",
    "def balanced(n):\n",
    "    circuit = QuantumCircuit(n+1)\n",
    "    circuit.barrier()\n",
    "    # ... generate balanced circuit here\n",
    "    circuit.cx(0,n)\n",
    "    circuit.barrier()\n",
    "    return circuit\n",
    "# f(x) = 0 --> do nothing   \n",
    "def constant(n):\n",
    "    circuit = QuantumCircuit(n+1)\n",
    "    circuit.barrier()\n",
    "    # ... generate constant circuit here\n",
    "    circuit.barrier()\n",
    "    return circuit"
   ]
  },
  {
   "cell_type": "code",
   "execution_count": 5,
   "metadata": {},
   "outputs": [
    {
     "data": {
      "image/png": "[encoded data removed]",
      "text/plain": [
       "<Figure size 371.107x535.111 with 1 Axes>"
      ]
     },
     "execution_count": 5,
     "metadata": {},
     "output_type": "execute_result"
    }
   ],
   "source": [
    "n=5\n",
    "balanced(n).draw(output='mpl')"
   ]
  },
  {
   "cell_type": "code",
   "execution_count": 6,
   "metadata": {},
   "outputs": [
    {
     "data": {
      "image/png": "[encoded data removed]",
      "text/plain": [
       "<Figure size 287.496x535.111 with 1 Axes>"
      ]
     },
     "execution_count": 6,
     "metadata": {},
     "output_type": "execute_result"
    }
   ],
   "source": [
    "n=5\n",
    "constant(n).draw(output='mpl')"
   ]
  },
  {
   "cell_type": "markdown",
   "metadata": {},
   "source": [
    "<a href=\"A04_Deutsch_Jozsa_Algorithm_Solutions.ipynb#task5\">click for our solution</a>"
   ]
  },
  {
   "cell_type": "markdown",
   "metadata": {},
   "source": [
    "In contrast to the classical strategy, which requires exponentially many queries, Deutsch-Jozsa can solve the same problem making only 1 query. This is an exponential seperation, with respect to an oracle, that is in the oracle model of computation. Nevertheless, there also exists a probabilistic algorithm solving the same problem making only 3 queries. Can we do better and show that quantum beats the probabilstic?\n"
   ]
  }
 ],
 "metadata": {
  "kernelspec": {
   "display_name": "Python 3 (ipykernel)",
   "language": "python",
   "name": "python3"
  },
  "language_info": {
   "codemirror_mode": {
    "name": "ipython",
    "version": 3
   },
   "file_extension": ".py",
   "mimetype": "text/x-python",
   "name": "python",
   "nbconvert_exporter": "python",
   "pygments_lexer": "ipython3",
   "version": "3.11.5"
  }
 },
 "nbformat": 4,
 "nbformat_minor": 4
}
