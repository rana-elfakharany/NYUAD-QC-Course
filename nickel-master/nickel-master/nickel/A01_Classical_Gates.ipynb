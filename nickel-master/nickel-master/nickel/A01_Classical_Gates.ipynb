{
 "cells": [
  {
   "cell_type": "markdown",
   "metadata": {},
   "source": [
    "<table> <tr>\n",
    "        <td  style=\"background-color:#ffffff;\">\n",
    "            <a href=\"https://qworld.net\" target=\"_blank\"><img src=\"../images/qworld.jpg\" width=\"25%\" align=\"left\"> </a></td>\n",
    "        <td style=\"background-color:#ffffff;vertical-align:bottom;text-align:right;\">\n",
    "            prepared by Berat Yenilen, Utku Birkan and Özlem Salehi (<a href=\"https://qworld.net/qturkey/\" target=\"_blank\">QTurkey</a>)\n",
    "        </td>        \n",
    "</tr></table>"
   ]
  },
  {
   "cell_type": "markdown",
   "metadata": {},
   "source": [
    "\n",
    "$ \\renewcommand{\\bra}[1]{\\langle #1|} $\n",
    "$ \\renewcommand{\\ket}[1]{|#1\\rangle} $\n",
    "$ \\renewcommand{\\braket}[2]{\\langle #1|#2\\rangle} $\n",
    "$ \\renewcommand{\\dot}[2]{ #1 \\cdot #2} $\n",
    "$ \\renewcommand{\\biginner}[2]{\\left\\langle #1,#2\\right\\rangle} $\n",
    "$ \\renewcommand{\\mymatrix}[2]{\\left( \\begin{array}{#1} #2\\end{array} \\right)} $\n",
    "$ \\renewcommand{\\myvector}[1]{\\mymatrix{c}{#1}} $\n",
    "$ \\renewcommand{\\myrvector}[1]{\\mymatrix{r}{#1}} $\n",
    "$ \\renewcommand{\\mypar}[1]{\\left( #1 \\right)} $\n",
    "$ \\renewcommand{\\mybigpar}[1]{ \\Big( #1 \\Big)} $\n",
    "$ \\renewcommand{\\sqrttwo}{\\frac{1}{\\sqrt{2}}} $\n",
    "$ \\renewcommand{\\dsqrttwo}{\\dfrac{1}{\\sqrt{2}}} $\n",
    "$ \\renewcommand{\\onehalf}{\\frac{1}{2}} $\n",
    "$ \\renewcommand{\\donehalf}{\\dfrac{1}{2}} $\n",
    "$ \\renewcommand{\\hadamard}{ \\mymatrix{rr}{ \\sqrttwo & \\sqrttwo \\\\ \\sqrttwo & -\\sqrttwo }} $\n",
    "$ \\renewcommand{\\vzero}{\\myvector{1\\\\0}} $\n",
    "$ \\renewcommand{\\vone}{\\myvector{0\\\\1}} $\n",
    "$ \\renewcommand{\\stateplus}{\\myvector{ \\sqrttwo \\\\  \\sqrttwo } } $\n",
    "$ \\renewcommand{\\stateminus}{ \\myrvector{ \\sqrttwo \\\\ -\\sqrttwo } } $\n",
    "$ \\renewcommand{\\myarray}[2]{ \\begin{array}{#1}#2\\end{array}} $\n",
    "$ \\renewcommand{\\X}{ \\mymatrix{cc}{0 & 1 \\\\ 1 & 0}  } $\n",
    "$ \\renewcommand{\\Z}{ \\mymatrix{rr}{1 & 0 \\\\ 0 & -1}  } $\n",
    "$ \\renewcommand{\\Htwo}{ \\mymatrix{rrrr}{ \\frac{1}{2} & \\frac{1}{2} & \\frac{1}{2} & \\frac{1}{2} \\\\ \\frac{1}{2} & -\\frac{1}{2} & \\frac{1}{2} & -\\frac{1}{2} \\\\ \\frac{1}{2} & \\frac{1}{2} & -\\frac{1}{2} & -\\frac{1}{2} \\\\ \\frac{1}{2} & -\\frac{1}{2} & -\\frac{1}{2} & \\frac{1}{2} } } $\n",
    "$ \\renewcommand{\\CNOT}{ \\mymatrix{cccc}{1 & 0 & 0 & 0 \\\\ 0 & 1 & 0 & 0 \\\\ 0 & 0 & 0 & 1 \\\\ 0 & 0 & 1 & 0} } $\n",
    "$ \\renewcommand{\\norm}[1]{ \\left\\lVert #1 \\right\\rVert } $\n",
    "$ \\renewcommand{\\pstate}[1]{ \\lceil  #1 \\rfloor } $"
   ]
  },
  {
   "cell_type": "markdown",
   "metadata": {},
   "source": [
    "<h1> Implementing Classical Gates Using Quantum Circuits </h1>"
   ]
  },
  {
   "cell_type": "markdown",
   "metadata": {},
   "source": [
    "In classical circuits, we use gates like $AND$, $OR$ and $NOT$. A gate set is universal if one can implement any boolean function $ f:\\{0,1\\}^n \\rightarrow \\{0,1\\} $, using the gate set. An example universal set would be using $AND$, $OR$ and $NOT$ gates. "
   ]
  },
  {
   "cell_type": "markdown",
   "metadata": {},
   "source": [
    "\n",
    "- A $NOT$ gate takes one input $x_1 \\in \\{0,1\\}$ and returns the negation of $x_1$.\n",
    "\n",
    "- An $AND$ gate takes two inputs $x_1,x_2 \\in \\{0,1\\}$ and returns 1 if and only if both $x_1$ and $x_2$ are equal to 1, 0 otherwise. \n",
    "\n",
    "- An $OR$ gate takes two inputs $x_1, x_2 \\in \\{0, 1 \\}$ and returns 1 if $x_1 = 1$ and/or $x_2 =1$.\n"
   ]
  },
  {
   "cell_type": "markdown",
   "metadata": {},
   "source": [
    "\n",
    "$\n",
    "NOT: \\begin{array}{c|c} \\mathbf{In} & \\mathbf{Out} \\\\ \\hline  0 & 1 \\\\ 1 & 0  \\end{array}$, $ \\space\n",
    "AND: \\begin{array}{cc|c} \\mathbf{In} & \\mathbf{In} & \\mathbf{Out} \\\\ \\hline 0 & 0 & 0 \\\\ 0 & 1 & 0 \\\\ 1 & 0 & 0 \\\\1 & 1 & 1      \\end{array}\n",
    "$, \n",
    "$ \\space\n",
    "OR: \\begin{array}{cc|c} \\mathbf{In} & \\mathbf{In} & \\mathbf{Out} \\\\ \\hline 0 & 0 & 0 \\\\ 0 & 1 & 1 \\\\ 1 & 0 & 1 \\\\1 & 1 & 1      \\end{array}\n",
    "$"
   ]
  },
  {
   "cell_type": "markdown",
   "metadata": {},
   "source": [
    "<h3> Task 1 (Discuss) </h3> \n",
    "\n",
    "How can we implement $AND$ and $OR$ gates by a quantum circuit?"
   ]
  },
  {
   "cell_type": "markdown",
   "metadata": {},
   "source": [
    "## Reversible Computing"
   ]
  },
  {
   "cell_type": "markdown",
   "metadata": {},
   "source": [
    "By looking at the output column of the tables of the $AND$ and $OR$ gates, we can not guess what the input is. We can say that the information or the entropy is lost by applying those gates and those operations are called **irreversible**. Irreversible computation dissipates heat to the environment. \n",
    "\n",
    "On the other hand, this is not the case for the $NOT$ gate as the input can be constructed by looking at the output. Such gates are called reversible and a computation which consists of only reversible operations is called a **reversible computation**. \n",
    "\n",
    "A set of gates is called **universal** if it is possible to implement any other gate using the gates in the set. Theoretically, it is possible to build a universal computer which only uses reversible gates. For instance, $AND$ and $NOT$ gates or the Toffoli gate ($CCNOT$) itself are universal sets of gates for classical computing. (Note that since $CCNOT$ is also a quantum gate, we conclude that any classical operation can be simulated by a quantum computer.)"
   ]
  },
  {
   "cell_type": "markdown",
   "metadata": {},
   "source": [
    "Since quantum computing is reversible according to the laws of physics, $AND$ and $OR$ gates should be implemented in a reversible way as well. The idea is to create a 3-qubit circuit, which does not modify the input bits and writes the output to the third bit. When the output bit is set to 0, then you exactly get the same output."
   ]
  },
  {
   "cell_type": "markdown",
   "metadata": {},
   "source": [
    "<img src=\"../images/fcircuit.png\" width=\"50%\" align=\"center\">"
   ]
  },
  {
   "cell_type": "markdown",
   "metadata": {},
   "source": [
    "<h3> Task 2 </h3> "
   ]
  },
  {
   "cell_type": "markdown",
   "metadata": {},
   "source": [
    "Complete the following table that corresponds to reversible $AND$ gate, where $\\ket{x_1}$ and $\\ket{x_2}$ are the inputs of the $AND$ gate and the $\\ket{y} =0$ is the output. Which three-qubit quantum gate can we use to implement the $AND$ operator in a reversible manner? "
   ]
  },
  {
   "cell_type": "markdown",
   "metadata": {},
   "source": [
    "$\n",
    "AND: \\begin{array}{ccc|ccc} \n",
    "    \\mathbf{In}  &             &            &\\mathbf{Out} &             &          \\\\\n",
    "    \\hline \\mathbf{x_1} & \\mathbf{x_2}& \\mathbf{y} & \\mathbf{x_1}& \\mathbf{x_2}& \\mathbf{y \\oplus (x_1 \\wedge x_2)} \\\\ \n",
    "    \\hline 0 & 0 & 0 & 0 & 0 & 0 \\\\ \n",
    "    \\hline 0 & 1 & 0 & 0 & 1 & 0\\\\ \n",
    "    \\hline 1 & 0 & 0 & 1 & 0 & 0 \\\\\n",
    "    \\hline 1 & 1 & 0 & 1 & 1 & 1\\\\ \n",
    "    \\end{array}\n",
    "    $\n",
    "\n",
    "\n",
    "CCNOT can be used"
   ]
  },
  {
   "cell_type": "markdown",
   "metadata": {},
   "source": [
    "<a href=\"A01_Classical_Gates_Solutions.ipynb#task2\">click for our solution</a>"
   ]
  },
  {
   "cell_type": "markdown",
   "metadata": {},
   "source": [
    "<h3> Task 3 </h3> "
   ]
  },
  {
   "cell_type": "markdown",
   "metadata": {},
   "source": [
    "Design a quantum (reversible) circuit for implementing $OR$ gate. Test your circuit on all possible two bit inputs. Measure only the output qubit."
   ]
  },
  {
   "cell_type": "markdown",
   "metadata": {},
   "source": [
    "$\n",
    "OR: \\begin{array}{ccc|ccc} \n",
    "    \\mathbf{In}  &             &            &\\mathbf{Out} &             &          \\\\\n",
    "    \\hline \\mathbf{x_1} & \\mathbf{x_2}& \\mathbf{y} & \\mathbf{x_1}& \\mathbf{x_2}& \\mathbf{y \\oplus (x_1 \\wedge x_2)} \\\\ \n",
    "    \\hline 0 & 0 & 0 & 0 & 0 & 0 \\\\ \n",
    "    \\hline 0 & 1 & 0 & 0 & 1 & 1\\\\ \n",
    "    \\hline 1 & 0 & 0 & 1 & 0 & 1 \\\\\n",
    "    \\hline 1 & 1 & 0 & 1 & 1 & 1\\\\ \n",
    "    \\end{array}\n",
    "    $\n",
    "\n",
    "CNOT (x1, y), CNOT (x2, y), CCNOT (x3, y)"
   ]
  },
  {
   "cell_type": "code",
   "execution_count": 7,
   "metadata": {},
   "outputs": [
    {
     "name": "stdout",
     "output_type": "stream",
     "text": [
      "Input: 00 Output: {'0': 1000}\n",
      "Input: 01 Output: {'0': 1000}\n",
      "Input: 10 Output: {'0': 1000}\n",
      "Input: 11 Output: {'0': 1000}\n"
     ]
    }
   ],
   "source": [
    "from qiskit import QuantumRegister, ClassicalRegister, QuantumCircuit, execute, Aer\n",
    "\n",
    "for input in ['00','01','10','11']:\n",
    "    \n",
    "    mycircuit1 = QuantumCircuit(3,1)\n",
    "    \n",
    "    #\n",
    "    # Your code here\n",
    "    #\n",
    "    if input[0] == '1':\n",
    "        mycircuit1.x(1)\n",
    "    if input[1] == '1':\n",
    "        mycircuit1.x(0)\n",
    "\n",
    "    mycircuit1.cx(0,2)\n",
    "    mycircuit1.cx(1,2)\n",
    "    mycircuit1.ccx(0,1,2)\n",
    "\n",
    "    mycircuit1.measure(2,0)\n",
    "    \n",
    "    job = execute(mycircuit1,Aer.get_backend('qasm_simulator'),shots=1000)\n",
    "    counts = job.result().get_counts(mycircuit1)\n",
    "    print(\"Input:\", input, \"Output:\", counts)"
   ]
  },
  {
   "cell_type": "markdown",
   "metadata": {},
   "source": [
    "<a href=\"A01_Classical_Gates_Solutions.ipynb#task3\">click for our solution</a>"
   ]
  },
  {
   "cell_type": "markdown",
   "metadata": {},
   "source": [
    "<h3>Task 4 </h3>"
   ]
  },
  {
   "cell_type": "markdown",
   "metadata": {},
   "source": [
    "Fredkin gate is a three qubit controlled swap gate which swaps the second and third qubits if the first qubit is in state $ \\ket{1} $. It is represented with the following matrix. "
   ]
  },
  {
   "cell_type": "markdown",
   "metadata": {},
   "source": [
    "<img src=\"../images/fredkin.png\" width=\"20%\" align=\"center\">"
   ]
  },
  {
   "cell_type": "markdown",
   "metadata": {},
   "source": [
    "Create a method named `fredkin` and implement Fredkin gate using $CNOT$ and $CCNOT$ operators. Use unitary simulator to check the unitary matrix corresponding to your circuit. (Follow the Qiskit order.)"
   ]
  },
  {
   "cell_type": "code",
   "execution_count": 3,
   "metadata": {
    "tags": []
   },
   "outputs": [],
   "source": [
    "from qiskit import QuantumRegister, ClassicalRegister, QuantumCircuit, execute, Aer\n",
    "\n",
    "def fredkin():\n",
    "    circuit = QuantumCircuit(3)\n",
    "    \n",
    "    #\n",
    "    # Your code here\n",
    "    #\n",
    "    circuit.cx(0,1)\n",
    "    circuit.ccx(2,1,0)\n",
    "    circuit.cx(0,1)\n",
    "    \n",
    "    return circuit"
   ]
  },
  {
   "cell_type": "code",
   "execution_count": 4,
   "metadata": {
    "tags": []
   },
   "outputs": [
    {
     "name": "stdout",
     "output_type": "stream",
     "text": [
      "[[1.  0.  0.  0.  0.  0.  0.  0.]\n",
      " [0.  1.  0.  0.  0.  0.  0.  0.]\n",
      " [0.  0.  1.  0.  0.  0.  0.  0.]\n",
      " [0.  0.  0.  1.  0.  0.  0.  0.]\n",
      " [0.  0.  0.  0.  1.  0.  0.  0.]\n",
      " [0.  0.  0.  0.  0.  0.  1.  0.]\n",
      " [0.  0.  0.  0.  0.  1.  0.  0.]\n",
      " [0.  0.  0.  0.  0.  0.  0.  1.]]\n"
     ]
    },
    {
     "data": {
      "image/png": "[encoded data removed]",
      "text/plain": [
       "<Figure size 371.107x284.278 with 1 Axes>"
      ]
     },
     "execution_count": 4,
     "metadata": {},
     "output_type": "execute_result"
    }
   ],
   "source": [
    "import numpy as np\n",
    "\n",
    "circuit = fredkin()\n",
    "\n",
    "job = execute(circuit,Aer.get_backend('unitary_simulator'),shots=1)\n",
    "u=job.result().get_unitary(circuit,decimals=3).data\n",
    "\n",
    "print(np.array2string(u.real, precision=1, separator='  '))\n",
    "circuit.draw(output=\"mpl\")"
   ]
  },
  {
   "cell_type": "markdown",
   "metadata": {},
   "source": [
    "<a href=\"A01_Classical_Gates_Solutions.ipynb#task4\">click for our solution</a>"
   ]
  },
  {
   "cell_type": "markdown",
   "metadata": {},
   "source": [
    "<h2> Implementing any Boolean Function </h2> \n",
    "\n",
    "Now having seen that we can implement a set of universal gates on a quantum computer, provided that we make them \"reversible\", we can say that it is possible to implement any boolean function $f:\\{0,1\\}^n \\rightarrow \\{0,1\\}$. So given any boolean function $f(x)$, we propose that the following circuit will implement it in a quantum computer.\n",
    "\n",
    "<img src=\"../images/foperator.png\" width=\"30%\" align=\"center\">\n",
    "\n",
    "Here $U_f$, the corresponding quantum operator, is defined as follows:\n",
    "\n",
    "$$U_f: \\ket{x}\\ket{y} \\mapsto \\ket{x}\\ket{y \\oplus f(x)} $$\n",
    "\n",
    "The symbol $\\oplus$ denotes bitwise addition modulo 2 (XOR). This mapping is reversible although $f$ might not be invertible."
   ]
  },
  {
   "cell_type": "markdown",
   "metadata": {},
   "source": [
    "<h3> Task 5</h3>\n",
    "\n",
    "Prove that $U_f$ is reversible, by showing that given $x$ and $y \\oplus f(x)$, $y$ can be computed.\n",
    "\n",
    "_Hint: Use the fact that $x \\oplus x = 0$ for any bit x and $\\oplus$ operation is associative._"
   ]
  },
  {
   "cell_type": "markdown",
   "metadata": {},
   "source": [
    "$(y \\oplus f(x)) \\oplus f(x)  = y \\oplus (f(x) \\oplus f(x)) =  y \\oplus 0 = y$"
   ]
  },
  {
   "cell_type": "markdown",
   "metadata": {},
   "source": [
    "<a href=\"A01_Classical_Gates_Solutions.ipynb#task5\">click for our solution</a>"
   ]
  },
  {
   "cell_type": "markdown",
   "metadata": {},
   "source": [
    "<h3> Task 6</h3>\n",
    "\n",
    "After applying the operator $U_f$, what is the new state of the output qubit $\\ket{y}$ in terms of $f(x)$ if initially:\n",
    "\n",
    "- $\\ket{y} = \\ket{0}$\n",
    "\n",
    "- $\\ket{y} = \\ket{1}$\n",
    "\n",
    "- $\\ket{y} = \\ket{-}$"
   ]
  },
  {
   "cell_type": "markdown",
   "metadata": {},
   "source": [
    "<a href=\"A01_Classical_Gates_Solutions.ipynb#task6\">click for our solution</a>"
   ]
  },
  {
   "cell_type": "markdown",
   "metadata": {},
   "source": [
    "- $ f(x)$\n",
    "- $ -f(x)$"
   ]
  }
 ],
 "metadata": {
  "kernelspec": {
   "display_name": "Python 3 (ipykernel)",
   "language": "python",
   "name": "python3"
  },
  "language_info": {
   "codemirror_mode": {
    "name": "ipython",
    "version": 3
   },
   "file_extension": ".py",
   "mimetype": "text/x-python",
   "name": "python",
   "nbconvert_exporter": "python",
   "pygments_lexer": "ipython3",
   "version": "3.11.5"
  }
 },
 "nbformat": 4,
 "nbformat_minor": 4
}
