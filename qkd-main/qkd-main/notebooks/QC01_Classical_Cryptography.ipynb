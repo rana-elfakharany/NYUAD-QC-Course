{
 "cells": [
  {
   "cell_type": "markdown",
   "metadata": {},
   "source": [
    "<table width=\"100%\"><tr style=\"background-color:white;\">\n",
    "    <td style=\"text-align:left;padding:0px;width:142px'\">\n",
    "        <a href=\"https://qworld.net\" target=\"_blank\">\n",
    "            <img src=\"../images/QWorld.png\"></a></td>\n",
    "    <td width=\"*\">&nbsp;&nbsp;&nbsp;&nbsp;&nbsp;&nbsp;</td>\n",
    "    <!-- ############################################# -->\n",
    "    <td style=\"padding:0px;width:90px;\">\n",
    "        <img align=\"right\" src=\"../images/follow_us.png\" height=\"40px\"></td>\n",
    "    <td style=\"padding:0px;width:40px;\">\n",
    "        <a href=\"https://twitter.com/QWorld19\" target=\"_blank\">\n",
    "        <img align=\"right\" src=\"../images/Twitter.png\" width=\"40px\"></a> </td>\n",
    "    <td style=\"padding:0px;width:5px;\"></td>\n",
    "    <td style=\"padding:0px;width:40px;\">\n",
    "        <a href=\"https://www.facebook.com/qworld19/\" target=\"_blank\">\n",
    "        <img align=\"right\" src=\"../images/Fb.png\"></a></td>\n",
    "    <td style=\"padding:0px;width:5px;\"></td>\n",
    "    <td style=\"padding:0px;width:40px;\">\n",
    "        <a href=\"https://www.linkedin.com/company/qworld19\" target=\"_blank\">\n",
    "        <img align=\"right\" src=\"../images/LinkedIn.png\"></a></td>\n",
    "    <td style=\"padding:0px;width:5px;\"></td>\n",
    "    <td style=\"padding:0px;width:40px;\">\n",
    "        <a href=\"https://www.youtube.com/qworld19\" target=\"_blank\">\n",
    "        <img align=\"right\" src=\"../images/YT.png\"></a></td>\n",
    "    <!-- ############################################# -->\n",
    "    <td style=\"padding:0px;width:60px;\">\n",
    "        <img align=\"right\" src=\"../images/join.png\" height=\"40px\"></td>\n",
    "    <td style=\"padding:0px;width:40px;\">\n",
    "        <a href=\"https://discord.gg/akCvr7U87g\"\n",
    "           target=\"_blank\">\n",
    "        <img align=\"right\" src=\"../images/Discord.png\"></a></td>\n",
    "    <!-- ############################################# -->\n",
    "    <td style=\"padding:0px;width:72px;\">\n",
    "        <img align=\"right\" src=\"../images/w3.png\" height=\"40px\"></td>\n",
    "    <td style=\"padding:0px;width:40px;\">\n",
    "        <a href=\"https://qworld.net\" target=\"_blank\">\n",
    "        <img align=\"right\" src=\"../images/www.png\"></a></td>\n",
    "</tr></table>\n",
    "\n",
    "<table width = \"100%\">\n",
    "  <tr style=\"background-color:white;\">\n",
    "    <td style=\"text-align:right;vertical-align:bottom;font-size:12px;\"> \n",
    "        Prepared by Anastasija Trizna (QPoland, QLatvia) & <a href=\"https://www.linkedin.com/in/sabah-ud-din-ahmad\" target=\"_blank\"> Sabah Ud Din Ahmad</a> (QPakistan)</td>\n",
    "    </tr>\n",
    "    <tr><td align=\"right\" style=\"color:#bbbbbb;background-color:#ffffff;font-size:11px;font-style:italic;\">\n",
    "        This cell contains some macros. If there is a problem with displaying mathematical formulas, please run this cell to load these macros.\n",
    "    </td></tr>\n",
    " </table>\n",
    " \n",
    "$ \\renewcommand{\\bra}[1]{\\langle #1|} $\n",
    "$ \\renewcommand{\\ket}[1]{|#1\\rangle} $\n",
    "$ \\renewcommand{\\braket}[2]{\\langle #1|#2\\rangle} $\n",
    "$ \\renewcommand{\\dot}[2]{ #1 \\cdot #2} $\n",
    "$ \\renewcommand{\\biginner}[2]{\\left\\langle #1,#2\\right\\rangle} $\n",
    "$ \\renewcommand{\\mymatrix}[2]{\\left( \\begin{array}{#1} #2\\end{array} \\right)} $\n",
    "$ \\renewcommand{\\myvector}[1]{\\mymatrix{c}{#1}} $\n",
    "$ \\renewcommand{\\myrvector}[1]{\\mymatrix{r}{#1}} $\n",
    "$ \\renewcommand{\\mypar}[1]{\\left( #1 \\right)} $\n",
    "$ \\renewcommand{\\mybigpar}[1]{ \\Big( #1 \\Big)} $\n",
    "$ \\renewcommand{\\sqrttwo}{\\frac{1}{\\sqrt{2}}} $\n",
    "$ \\renewcommand{\\dsqrttwo}{\\dfrac{1}{\\sqrt{2}}} $\n",
    "$ \\renewcommand{\\onehalf}{\\frac{1}{2}} $\n",
    "$ \\renewcommand{\\donehalf}{\\dfrac{1}{2}} $\n",
    "$ \\renewcommand{\\hadamard}{ \\mymatrix{rr}{ \\sqrttwo & \\sqrttwo \\\\ \\sqrttwo & -\\sqrttwo }} $\n",
    "$ \\renewcommand{\\vzero}{\\myvector{1\\\\0}} $\n",
    "$ \\renewcommand{\\vone}{\\myvector{0\\\\1}} $\n",
    "$ \\renewcommand{\\vhadamardzero}{\\myvector{ \\sqrttwo \\\\  \\sqrttwo } } $\n",
    "$ \\renewcommand{\\vhadamardone}{ \\myrvector{ \\sqrttwo \\\\ -\\sqrttwo } } $\n",
    "$ \\renewcommand{\\myarray}[2]{ \\begin{array}{#1}#2\\end{array}} $\n",
    "$ \\renewcommand{\\X}{ \\mymatrix{cc}{0 & 1 \\\\ 1 & 0}  } $\n",
    "$ \\renewcommand{\\Z}{ \\mymatrix{rr}{1 & 0 \\\\ 0 & -1}  } $\n",
    "$ \\renewcommand{\\Htwo}{ \\mymatrix{rrrr}{ \\frac{1}{2} & \\frac{1}{2} & \\frac{1}{2} & \\frac{1}{2} \\\\ \\frac{1}{2} & -\\frac{1}{2} & \\frac{1}{2} & -\\frac{1}{2} \\\\ \\frac{1}{2} & \\frac{1}{2} & -\\frac{1}{2} & -\\frac{1}{2} \\\\ \\frac{1}{2} & -\\frac{1}{2} & -\\frac{1}{2} & \\frac{1}{2} } } $\n",
    "$ \\renewcommand{\\CNOT}{ \\mymatrix{cccc}{1 & 0 & 0 & 0 \\\\ 0 & 1 & 0 & 0 \\\\ 0 & 0 & 0 & 1 \\\\ 0 & 0 & 1 & 0} } $\n",
    "$ \\renewcommand{\\norm}[1]{ \\left\\lVert #1 \\right\\rVert } $\n",
    "\n",
    " ---"
   ]
  },
  {
   "cell_type": "markdown",
   "metadata": {},
   "source": [
    "<h1>Cryptography</h1>\n",
    "\n",
    "Cryptography is a technique for secure communication between two parties where unauthorized users and malicious attackers are present. \n",
    "\n",
    "In cryptography, there are two processes:\n",
    "1. **Encryption** \n",
    " + The process of converting essential information / message (known as **plaintext**, denoted by $M$) into unreadble encrypted form (known as **ciphertext**, denoted by $C$) using keys (additional data string).\n",
    " + It is performed at the sender's end.\n",
    " \n",
    "\n",
    "2. **Decryption** \n",
    " + The process of decoding the message by converting ciphertext $C$ to plaintext $M$ using the same or different key.\n",
    " + It is performed at the receiver's end."
   ]
  },
  {
   "cell_type": "markdown",
   "metadata": {},
   "source": [
    "<h2>Classical Cryptography</h2>\n",
    "\n",
    "Classical Cryptography is based on mathematics and its security relies on the computational difficulty of mathematical problems such as factorizing large numbers. \n",
    "\n",
    "Classical Cryptography has two types of techniques:\n",
    "\n",
    "1. **Symmetric Cryptography** \n",
    " + A single private key is used for encryption and decryption of data which must be shared between the authorized sender and receiver only.\n",
    " <img align=\"center\" src=\"../images/symmetric.png\" width=\"500px\">\n",
    "\n",
    "\n",
    "2. **Asymmetric Cryptography** \n",
    " + A pair of keys (public key and private key) is used for encryption and decryption. A sender uses a public key to encrypt the data and receiver can decrypt the data using his or her private key. This technique overcomes the problem of key distribution as in symmetric cryptography.\n",
    " <img align=\"center\" src=\"../images/asymmetric.png\" width=\"500px\">\n",
    "    \n",
    "Since the encryption process followed by decryption process recovers the original plaintext, the following must hold true to make our protocol correct:\n",
    "$$D(E(M))=M$$"
   ]
  },
  {
   "cell_type": "markdown",
   "metadata": {},
   "source": [
    "### Cryptography Algorithms & Keys"
   ]
  },
  {
   "cell_type": "markdown",
   "metadata": {},
   "source": [
    "A cryptographic algorithm, also called a <b>cipher</b>, is a mathematical function used for encryption and decryption.\n",
    "\n",
    "A cryptographic key, denoted by $k$, is a string of bits used by an algorithm to transform plaintext into ciphertext or vice versa. The range of possible values of the keys is called <b>keyspace</b>.\n",
    "\n",
    "For **symmetric** cryptography, the algorithm is,\n",
    "$$\n",
    "D_k(E_k(M))=M\n",
    "$$\n",
    "\n",
    "For **asymmetric** cryptography with encryption key $k_1$ different from decryption key $k_2$,\n",
    "\n",
    "\n",
    "$$ \n",
    "E_{k_1}(M)=C \n",
    "$$ \n",
    "$$ \n",
    "D_{k_2}(C)=M \n",
    "$$ \n",
    "$$ \n",
    "D_{k_2}(E_{k_1}(M))=M\n",
    "$$\n",
    "\n",
    "<div class=\"alert alert-block alert-info\">\n",
    "The security of algorithms is based in the key (or keys) and none is based in the details of the algorithm.</center>\n",
    "</div>\n",
    "\n",
    "\n",
    "\n",
    "> Suppose that **Asja** wants to send a message to **Balvis**. Moreover, she wants to send it securely to make sure an eavesdropper **Espian** cannot read the message. So even if Espian knows which algorithm Asja and Balvis use but has no information about their particular key(s), he cannot read their secret message."
   ]
  },
  {
   "cell_type": "markdown",
   "metadata": {},
   "source": [
    "Now, we will look at some of the operations of cryptography algorithms."
   ]
  },
  {
   "cell_type": "markdown",
   "metadata": {},
   "source": [
    "<h3>Modular Arithmetic</h3>\n",
    "\n",
    "Modular arithmetic is a system of arithmetic for integers where numbers \"wrap around\" when reaching a certain value, called the modulus. \n",
    "\n",
    "When we divide two integers we will have an equation that looks like the following:\n",
    "\n",
    "$$\\frac{A}{B} = Q \\text{ remainder } R$$\n",
    "\n",
    "where **A** is the dividend, **B** is the divisor, **Q** is the quotient & **R** is the remainder. \n",
    "\n",
    "We can extract the remainder using an operator called the modulo operator (abbreviated as mod).\n",
    "$$A \\mod B = R \\text{         (A modulo B is equal to R)}$$\n",
    "\n",
    "B is referred to as the **modulus**.\n",
    "    \n",
    "For example,\n",
    "$$13 \\mod 5 = 3$$\n",
    "\n",
    "<b>Modular Addition</b> is the sum of two integers $X$ and $Y$ followed by a modulo operation with a modulus $B$.\n",
    "\n",
    "$$(X+Y) \\mod B$$\n",
    "<br>\n",
    "<br>\n",
    "\n",
    "<div class=\"alert alert-block alert-warning\">\n",
    "    <h4>Example 1: Modulo 2 Addition</h4>\n",
    "    <br>\n",
    "    <div class=\"panel panel-block panel-warning\">\n",
    "        This is a combination of first adding two numbers and then applying $\\mod 2$ operation, and is denoted by $\\oplus$.\n",
    "\n",
    "$$0 \\oplus 1 = 1 → (0+1)\\mod 2 = 1$$\n",
    "$$1 \\oplus 1 = 0 → (1+1)\\mod 2 = 0$$\n",
    "\n",
    "\n",
    " \n",
    "\n",
    "\n",
    "<div class=\"alert alert-block alert-warning\">\n",
    "    <h4>Example 2: A 12-hour clock (Modulo 12 Addition)</h4>\n",
    "    <br>\n",
    "    <div class=\"panel panel-block panel-warning\">\n",
    "        The easiest example of modular addition is the way we think about a 12-hour clock where we divide a day in two 12-hour periods. If it is $10AM$ right now, then after 7 hours it will be $5PM$. \n",
    "\n",
    "In usual way, it should be, \n",
    "$$10+7=17$$\n",
    "but we \"wrap\" this number around modulo 12 and get, \n",
    "$$(10+7)\\mod 12=5$$   \n",
    "Here, 5 is the remainder. \n",
    "\n",
    "\n"
   ]
  },
  {
   "cell_type": "markdown",
   "metadata": {},
   "source": [
    "<h3>Exclusive-OR</h3>\n",
    "\n",
    "Exclusive-OR (<b>XOR</b>) is a standard operation on bits defined as:\n",
    "\n",
    "$$\n",
    "\\begin{array}{ccccc}\n",
    "    0 & \\oplus & 0 & = & 0 \\\\\n",
    "    0 & \\oplus & 1 & = & 1 \\\\\n",
    "    1 & \\oplus & 0 & = & 1 \\\\\n",
    "    1 & \\oplus & 1 & = & 0 \\\\\n",
    "\\end{array} ,\n",
    "$$\n",
    "\n",
    "where XOR is denoted by the direct sum operator $ \\oplus $. (Please note that it is different than tensor product operator $ \\otimes $.) \n",
    "\n",
    "It is easy to see that $ \\oplus $ is a commutative operator and it is not hard to show that it is also an assosiative operator.\n",
    "\n",
    "From the above operations, we can generalize that for any $ a,b \\in \\{0,1\\} $, we have  \n",
    "\n",
    "$$ \\mathbf{ a \\oplus a=0 } $$ \n",
    "$$ \\mathbf{ a \\oplus 0=a } $$\n",
    "$$ \\mathbf{ 0 \\oplus a=a } $$\n",
    "\n",
    "Therefore,\n",
    "$$ \\mathbf{ a \\oplus b \\oplus b= a \\oplus 0 =  a } $$\n",
    "\n",
    "\n",
    "We perform bitwise operations. Bitwise means that we are dealing with individual bits, or binary numbers."
   ]
  },
  {
   "cell_type": "markdown",
   "metadata": {},
   "source": [
    "<font style=\"color:darkorange;font-weight:bold;\"> <h2>Task 1</h2> </font>\n",
    "\n",
    "Can XOR be a valid operation for cryptography algorithms? Performing bitwise operations, verify this using a binary message string 010110 and binary key string 111011.\n",
    "\n",
    "(**Hint:** $ a \\oplus b \\oplus b = a  $)"
   ]
  },
  {
   "cell_type": "markdown",
   "metadata": {},
   "source": [
    "$ 010110 \\oplus 111011 = 101101 \\oplus 111011 = 010110 $"
   ]
  },
  {
   "cell_type": "markdown",
   "metadata": {},
   "source": [
    "[Click here for solution](QC01_Classical_Cryptography_Solutions.ipynb#task1)\n",
    "\n",
    "***"
   ]
  },
  {
   "cell_type": "markdown",
   "metadata": {},
   "source": [
    "Remember, we have two conditions to follow:\n",
    "1. Protocol must be <b>correct</b>. Balvis should be able to read the message Asja encoded. \n",
    "2. Protocol must be <b>secure</b>. Espian cannot gain any information about the message if he doesn't have the key."
   ]
  },
  {
   "cell_type": "markdown",
   "metadata": {},
   "source": [
    "#### References\n",
    "\n",
    "1. https://www.geeksforgeeks.org/classical-cryptography-and-quantum-cryptography/?ref=rp "
   ]
  },
  {
   "cell_type": "markdown",
   "metadata": {},
   "source": [
    "Next: [One-Time Pad (Symmetric Cryptography)](QC02_OneTimePad.ipynb)"
   ]
  }
 ],
 "metadata": {
  "kernelspec": {
   "display_name": "Python 3",
   "language": "python",
   "name": "python3"
  },
  "language_info": {
   "codemirror_mode": {
    "name": "ipython",
    "version": 3
   },
   "file_extension": ".py",
   "mimetype": "text/x-python",
   "name": "python",
   "nbconvert_exporter": "python",
   "pygments_lexer": "ipython3",
   "version": "3.8.10"
  }
 },
 "nbformat": 4,
 "nbformat_minor": 2
}
