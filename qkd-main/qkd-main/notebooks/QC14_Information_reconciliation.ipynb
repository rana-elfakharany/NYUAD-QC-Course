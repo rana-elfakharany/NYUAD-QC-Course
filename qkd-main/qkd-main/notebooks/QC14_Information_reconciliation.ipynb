{
 "cells": [
  {
   "cell_type": "markdown",
   "metadata": {},
   "source": [
    "<table width=\"100%\"><tr style=\"background-color:white;\">\n",
    "    <td style=\"text-align:left;padding:0px;width:142px'\">\n",
    "        <a href=\"https://qworld.net\" target=\"_blank\">\n",
    "            <img src=\"../images/QWorld.png\"></a></td>\n",
    "    <td width=\"*\">&nbsp;&nbsp;&nbsp;&nbsp;&nbsp;&nbsp;</td>\n",
    "    <!-- ############################################# -->\n",
    "    <td style=\"padding:0px;width:90px;\">\n",
    "        <img align=\"right\" src=\"../images/follow_us.png\" height=\"40px\"></td>\n",
    "    <td style=\"padding:0px;width:40px;\">\n",
    "        <a href=\"https://twitter.com/QWorld19\" target=\"_blank\">\n",
    "        <img align=\"right\" src=\"../images/Twitter.png\" width=\"40px\"></a> </td>\n",
    "    <td style=\"padding:0px;width:5px;\"></td>\n",
    "    <td style=\"padding:0px;width:40px;\">\n",
    "        <a href=\"https://www.facebook.com/qworld19/\" target=\"_blank\">\n",
    "        <img align=\"right\" src=\"../images/Fb.png\"></a></td>\n",
    "    <td style=\"padding:0px;width:5px;\"></td>\n",
    "    <td style=\"padding:0px;width:40px;\">\n",
    "        <a href=\"https://www.linkedin.com/company/qworld19\" target=\"_blank\">\n",
    "        <img align=\"right\" src=\"../images/LinkedIn.png\"></a></td>\n",
    "    <td style=\"padding:0px;width:5px;\"></td>\n",
    "    <td style=\"padding:0px;width:40px;\">\n",
    "        <a href=\"https://www.youtube.com/qworld19\" target=\"_blank\">\n",
    "        <img align=\"right\" src=\"../images/YT.png\"></a></td>\n",
    "    <!-- ############################################# -->\n",
    "    <td style=\"padding:0px;width:60px;\">\n",
    "        <img align=\"right\" src=\"../images/join.png\" height=\"40px\"></td>\n",
    "    <td style=\"padding:0px;width:40px;\">\n",
    "        <a href=\"https://discord.gg/akCvr7U87g\"\n",
    "           target=\"_blank\">\n",
    "        <img align=\"right\" src=\"../images/Discord.png\"></a></td>\n",
    "    <!-- ############################################# -->\n",
    "    <td style=\"padding:0px;width:72px;\">\n",
    "        <img align=\"right\" src=\"../images/w3.png\" height=\"40px\"></td>\n",
    "    <td style=\"padding:0px;width:40px;\">\n",
    "        <a href=\"https://qworld.net\" target=\"_blank\">\n",
    "        <img align=\"right\" src=\"../images/www.png\"></a></td>\n",
    "</tr></table>\n",
    "\n",
    "<table width = \"100%\">\n",
    "  <tr style=\"background-color:white;\">\n",
    "    <td style=\"text-align:right;vertical-align:bottom;font-size:12px;\"> \n",
    "        Prepared by Anastasija Trizna (QPoland, QLatvia) & <a href=\"https://gitlab.com/sabahuddin.ahmad\" target=\"_blank\"> Sabah Ud Din Ahmad</a> (QPakistan)</td>\n",
    "    </tr>\n",
    "    <tr><td align=\"right\" style=\"color:#bbbbbb;background-color:#ffffff;font-size:11px;font-style:italic;\">\n",
    "        This cell contains some macros. If there is a problem with displaying mathematical formulas, please run this cell to load these macros.\n",
    "    </td></tr>\n",
    " </table>\n",
    " \n",
    "$ \\renewcommand{\\bra}[1]{\\langle #1|} $\n",
    "$ \\renewcommand{\\ket}[1]{|#1\\rangle} $\n",
    "$ \\renewcommand{\\braket}[2]{\\langle #1|#2\\rangle} $\n",
    "$ \\renewcommand{\\dot}[2]{ #1 \\cdot #2} $\n",
    "$ \\renewcommand{\\biginner}[2]{\\left\\langle #1,#2\\right\\rangle} $\n",
    "$ \\renewcommand{\\mymatrix}[2]{\\left( \\begin{array}{#1} #2\\end{array} \\right)} $\n",
    "$ \\renewcommand{\\myvector}[1]{\\mymatrix{c}{#1}} $\n",
    "$ \\renewcommand{\\myrvector}[1]{\\mymatrix{r}{#1}} $\n",
    "$ \\renewcommand{\\mypar}[1]{\\left( #1 \\right)} $\n",
    "$ \\renewcommand{\\mybigpar}[1]{ \\Big( #1 \\Big)} $\n",
    "$ \\renewcommand{\\sqrttwo}{\\frac{1}{\\sqrt{2}}} $\n",
    "$ \\renewcommand{\\dsqrttwo}{\\dfrac{1}{\\sqrt{2}}} $\n",
    "$ \\renewcommand{\\onehalf}{\\frac{1}{2}} $\n",
    "$ \\renewcommand{\\donehalf}{\\dfrac{1}{2}} $\n",
    "$ \\renewcommand{\\hadamard}{ \\mymatrix{rr}{ \\sqrttwo & \\sqrttwo \\\\ \\sqrttwo & -\\sqrttwo }} $\n",
    "$ \\renewcommand{\\vzero}{\\myvector{1\\\\0}} $\n",
    "$ \\renewcommand{\\vone}{\\myvector{0\\\\1}} $\n",
    "$ \\renewcommand{\\vhadamardzero}{\\myvector{ \\sqrttwo \\\\  \\sqrttwo } } $\n",
    "$ \\renewcommand{\\vhadamardone}{ \\myrvector{ \\sqrttwo \\\\ -\\sqrttwo } } $\n",
    "$ \\renewcommand{\\myarray}[2]{ \\begin{array}{#1}#2\\end{array}} $\n",
    "$ \\renewcommand{\\X}{ \\mymatrix{cc}{0 & 1 \\\\ 1 & 0}  } $\n",
    "$ \\renewcommand{\\Z}{ \\mymatrix{rr}{1 & 0 \\\\ 0 & -1}  } $\n",
    "$ \\renewcommand{\\Htwo}{ \\mymatrix{rrrr}{ \\frac{1}{2} & \\frac{1}{2} & \\frac{1}{2} & \\frac{1}{2} \\\\ \\frac{1}{2} & -\\frac{1}{2} & \\frac{1}{2} & -\\frac{1}{2} \\\\ \\frac{1}{2} & \\frac{1}{2} & -\\frac{1}{2} & -\\frac{1}{2} \\\\ \\frac{1}{2} & -\\frac{1}{2} & -\\frac{1}{2} & \\frac{1}{2} } } $\n",
    "$ \\renewcommand{\\CNOT}{ \\mymatrix{cccc}{1 & 0 & 0 & 0 \\\\ 0 & 1 & 0 & 0 \\\\ 0 & 0 & 0 & 1 \\\\ 0 & 0 & 1 & 0} } $\n",
    "$ \\renewcommand{\\norm}[1]{ \\left\\lVert #1 \\right\\rVert } $\n",
    "\n",
    " ---"
   ]
  },
  {
   "cell_type": "markdown",
   "metadata": {},
   "source": [
    "<h2>Information Reconciliation</h2>\n",
    "\n",
    "<h3>Parity Check</h3>\n",
    "\n",
    "Parity check method is commonly used in classical information processing and can be very useful for our quantum case as well!\n",
    "\n",
    "The basic idea is as follows:\n",
    "\n",
    "> Suppose you want to send a 7 bits of information: $1101100$.\n",
    "> But some interference came in during communication and your string become $1111100$.\n",
    "> How can we tell if the received information is correct or wrong?\n",
    "\n",
    "Parity check technique can be applied to ensure the correctness of received string by verifying parity bit.\n",
    "\n",
    "<b>Parity bit</b> is one additional bit that we add at the end of our initial string before sending to the recepient. \n",
    "\n",
    "For a given set of bits, we will count how many bits we have with value '1':\n",
    "- If count is even, we add parity bit $0$ at the end of our string.\n",
    "- If count is odd, we add parity bit $1$."
   ]
  },
  {
   "cell_type": "markdown",
   "metadata": {},
   "source": [
    "Back to our example,\n",
    "- Initial bit string: $1101100$\n",
    "- Parity bit: $1+1+0+1+1+0+0+(mod2)=0$ \n",
    "- Adding parity bit: $11011000$\n",
    "    \n",
    "For **successful transmission**,\n",
    "- Asja sends $11011000$ to Balvis.\n",
    "- Balvis receives $11011000$ and verifies correctness by computing parity for first 7 bits: $1+1+0+1+1+0+0(mod2)=0$\n",
    "- Balvis compares result with parity bit $0=0$.\n",
    "\n",
    "For **failed transmission**, \n",
    "- Asja sends $11011000$ to Balvis.\n",
    "- Some interference occurs in the channel and Balvis receives $11111000$. \n",
    "- Balvis verifies correctness by computing parity for first 7 bits: $1+1+1+1+1+0+0(mod2)=1$ and comparing it with parity bit $1≠0$. \n",
    "- Calculated result does not match the parity bit, thus Balvis knows that received bit string contains an error."
   ]
  },
  {
   "cell_type": "markdown",
   "metadata": {},
   "source": [
    "<font style=\"color:darkorange;font-weight:bold;\"> <h2>Task 1: Parity Check Game</h2> </font>\n",
    "    \n",
    "Create a $ (5 \\times 5) $-dimensional matrix with random binary input: $(i,j)$<sup>n</sup> $→$ {0, 1}<sup>m</sup>.\n",
    "\n",
    "The $ (i,j) $-th entry of matrix refers to the entry in $ i $-th row and $ j $-th column.\n",
    "\n",
    "Add a parity bit to each row and column by adding additional column (to the right) and row (at the bottom) of your matrix.\n",
    "\n",
    "<li> Flip one random bit and see if you can correct the error by looking at parity column and row. \n",
    "<li> What if you flip two random bits?\n",
    "<li> What if you flip three random bits?"
   ]
  },
  {
   "cell_type": "markdown",
   "metadata": {},
   "source": [
    "[Click here for solution](QC14_Information_reconciliation_Solutions.ipynb#task1)\n",
    "\n",
    "***"
   ]
  },
  {
   "cell_type": "markdown",
   "metadata": {},
   "source": [
    "<h3>Parity Check Problem</h3>\n",
    "\n",
    "Suppose you want to send only one bit of information: $1$. You can add a parity check bit $11$ and send the message.\n",
    "\n",
    "If there is noise in the channel, the recipient may receive (with certain probability),\n",
    "- $01$\n",
    "- $10$\n",
    "- $00$\n",
    "\n",
    "By looking at the parity bit, recipient will conclude,\n",
    "- $01$: there is clearly an error in this bit string, because $0mod(2)≠1$ \n",
    "- $10$: there is clearly an error in this bit string, because $1mod(2)≠0$ \n",
    "- $00$: this string is correct, because $0mod(2)=0$ \n",
    "    \n",
    "We just accepted a string with an error!\n",
    "\n",
    "<b>Conclusion</b>: parity check detects some percentage of errors (66% in above example). This is not perfect, but we still can use it and develop protocols for error detection and error correction. "
   ]
  },
  {
   "cell_type": "markdown",
   "metadata": {},
   "source": [
    "<h3>Cascade Protocol</h3>\n",
    "\n",
    "<b>Cascade protocol</b> implements the idea of parity check and is commonly used in information reconciliation.\n",
    "\n",
    "Errors in physical transmission media are typically not uniformly distributed. For example, they often exhibit burst structures, i.e., a sequence of constructive errors is more likely to occur.\n",
    "\n",
    "The cascade protocol idea is to perform several rounds, with both keys divided into blocks in each round and the parity of those blocks compared.\n",
    "\n",
    "A popular method is to randomize the location of errors first, so Asja and Balvis agree on a random permutation and re-order their bit string. "
   ]
  },
  {
   "cell_type": "markdown",
   "metadata": {},
   "source": [
    "> The following Python code is to perform random permutations."
   ]
  },
  {
   "cell_type": "code",
   "execution_count": 4,
   "metadata": {},
   "outputs": [
    {
     "name": "stdout",
     "output_type": "stream",
     "text": [
      "('a', 'b', 'c')\n",
      "(1, 2, 3)\n"
     ]
    }
   ],
   "source": [
    "#Performing random permutation\n",
    "import random #importing randomizing library\n",
    "\n",
    "list1=['a', 'b', 'c']\n",
    "list2=[1, 2, 3]\n",
    "\n",
    "permutation = list(zip(list1, list2)) #map the index of multiple lists\n",
    "random.shuffle(permutation) #performing permutation\n",
    "list1, list2 = zip(*permutation) #unpacking values\n",
    "\n",
    "print(list1)\n",
    "print(list2)"
   ]
  },
  {
   "cell_type": "markdown",
   "metadata": {},
   "source": [
    "Cascade protocol consist of several passes. Before <b>each</b> pass, Asja and Balvis perform random permutation and re-order their bits. \n",
    "\n",
    "1st PASS - Subdividing blocks:\n",
    "1. Asja and Balvis shuffle their bits by applying random permutation that they agreed on.\n",
    "2. Asja and Balvis subdivide their key strings into blocks of equal length and calculate parity bit for each block.\n",
    "3. Asja and Balvis compare parity bits.\n",
    "* If parity bits match - they accept block as correct.\n",
    "* If parity bits mismatch - they continue with next pass because this block contains an error.\n",
    "\n",
    "2nd PASS - Bisective search:\n",
    "1. Asja and Balvis shuffle their bits by applying random permutation that they agreed on.\n",
    "2. Asja and Balvis divide the bad block in half and calculate parity bit for each half.\n",
    "3. Asja and Balvis compare parity bits.\n",
    "* If parity bits match - they accept block as correct.\n",
    "* If parity bits mismatch - they continue with next pass because this block contains an error.\n",
    "\n",
    "3rd PASS is repeating 2nd PASS!\n",
    "\n",
    "Asja and Balvis repeat 2nd PASS until they find and correct all errors. "
   ]
  },
  {
   "cell_type": "markdown",
   "metadata": {},
   "source": [
    "<h4>Threshold</h4>\n",
    "Cascade protocol has a certain <b>threshold</b>. \n",
    "\n",
    "If the QBER ≥ 0.25, then Cascade protocol discloses more than $n$ bits and hence, potentially, the complete raw key.\n",
    "\n",
    "<h4>Block size</h4>\n",
    "\n",
    "The sub-block size $w$ depends on iteration. \n",
    "The initial block size should be chosen such that we expect to have one error in the block. \n",
    "Therefore, we can use our QBER value again to estimate $w$ value!\n",
    "\n",
    "In the first pass, $w_1=\\frac{0.73}{QBER}$."
   ]
  },
  {
   "cell_type": "markdown",
   "metadata": {},
   "source": [
    "<h3>BICONF Strategy</h3>\n",
    "\n",
    "Recall parity bit problem. It applies not only to 1-bit string. For example, if there is an even number (two, four, six, etc) of identical bit flips ($1→0$ <b>or</b> $0→1$) - our protocol will not be able to detect an error. \n",
    "\n",
    "For instance,\n",
    "- Initial string: $001110001$, where last bit is parity bit.\n",
    "- Two $0→1$ errors occured and bit string became: $111110001$.\n",
    "- Result: Parity bit is correct and no error is detected. "
   ]
  },
  {
   "cell_type": "markdown",
   "metadata": {},
   "source": [
    "What if two errors are still hiding in our key string after Cascade protocol?"
   ]
  },
  {
   "cell_type": "markdown",
   "metadata": {},
   "source": [
    "If only few errors are left, Asja and Balvis should switch to <b>BICONF strategy</b>."
   ]
  },
  {
   "cell_type": "markdown",
   "metadata": {},
   "source": [
    "The idea behind BICONF strategy is that Asja and Balvis will repeatedly compare parity of a randomly selected subset of their entire bit string:\n",
    "\n",
    "1. Asja and Balvis choose a random subset of corresponding bits from their strings.\n",
    "2. They compare parity bits.\n",
    "3. If they find a parity mismatch, they apply bisective search until they correct that error. \n",
    "4. If parity bits still match after several rounds (for example, 10), they can conclude that their keys are identical. "
   ]
  },
  {
   "cell_type": "markdown",
   "metadata": {},
   "source": [
    "> The following Python code is to select a random subset of corresponding indexes from two different strings."
   ]
  },
  {
   "cell_type": "code",
   "execution_count": 5,
   "metadata": {},
   "outputs": [
    {
     "name": "stdout",
     "output_type": "stream",
     "text": [
      "('c', 'b')\n",
      "(3, 2)\n"
     ]
    }
   ],
   "source": [
    "#Selecting randomly same indexes from two lists\n",
    "import random \n",
    "\n",
    "list1 = ['a','b','c']\n",
    "list2 = [1,2,3]\n",
    "\n",
    "pairs=list(zip(list1, list2)) #maping indexes of our two lists\n",
    "pairs=random.sample(pairs, 2) #selecting two random pairs\n",
    "a1,b1 = zip(*pairs) #separating pairs\n",
    "\n",
    "print(a1)\n",
    "print(b1)"
   ]
  },
  {
   "cell_type": "markdown",
   "metadata": {},
   "source": [
    "<h4>Block Size</h4>\n",
    "\n",
    "We can use our QBER value again to estimate block length: $b_1=\\frac{4ln(2)}{3QBER}$.\n",
    "\n",
    "**The smaller the QBER value, the bigger is the block size.**"
   ]
  },
  {
   "cell_type": "markdown",
   "metadata": {},
   "source": [
    "> The following Python code is to estimate block length."
   ]
  },
  {
   "cell_type": "code",
   "execution_count": 7,
   "metadata": {},
   "outputs": [],
   "source": [
    "from numpy import log as ln\n",
    "QBER = 0.33\n",
    "b1=(4*ln(2))/(3*QBER)"
   ]
  },
  {
   "cell_type": "markdown",
   "metadata": {},
   "source": [
    "<b>We are now ready to move to the next notebook where we will put all our knowledge together and develop the complete BB84 protocol that will handle the noise!</b>"
   ]
  },
  {
   "cell_type": "markdown",
   "metadata": {},
   "source": [
    "Next: [Complete BB84 Protocol](QC15_Complete_BB84_protocol_implementation.ipynb)"
   ]
  }
 ],
 "metadata": {
  "kernelspec": {
   "display_name": "Python 3",
   "language": "python",
   "name": "python3"
  },
  "language_info": {
   "codemirror_mode": {
    "name": "ipython",
    "version": 3
   },
   "file_extension": ".py",
   "mimetype": "text/x-python",
   "name": "python",
   "nbconvert_exporter": "python",
   "pygments_lexer": "ipython3",
   "version": "3.11.5"
  }
 },
 "nbformat": 4,
 "nbformat_minor": 2
}
