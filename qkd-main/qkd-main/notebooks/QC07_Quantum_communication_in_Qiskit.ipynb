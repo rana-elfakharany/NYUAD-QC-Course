{
 "cells": [
  {
   "cell_type": "markdown",
   "metadata": {},
   "source": [
    "<table width=\"100%\"><tr style=\"background-color:white;\">\n",
    "    <td style=\"text-align:left;padding:0px;width:142px'\">\n",
    "        <a href=\"https://qworld.net\" target=\"_blank\">\n",
    "            <img src=\"../images/QWorld.png\"></a></td>\n",
    "    <td width=\"*\">&nbsp;&nbsp;&nbsp;&nbsp;&nbsp;&nbsp;</td>\n",
    "    <!-- ############################################# -->\n",
    "    <td style=\"padding:0px;width:90px;\">\n",
    "        <img align=\"right\" src=\"../images/follow_us.png\" height=\"40px\"></td>\n",
    "    <td style=\"padding:0px;width:40px;\">\n",
    "        <a href=\"https://twitter.com/QWorld19\" target=\"_blank\">\n",
    "        <img align=\"right\" src=\"../images/Twitter.png\" width=\"40px\"></a> </td>\n",
    "    <td style=\"padding:0px;width:5px;\"></td>\n",
    "    <td style=\"padding:0px;width:40px;\">\n",
    "        <a href=\"https://www.facebook.com/qworld19/\" target=\"_blank\">\n",
    "        <img align=\"right\" src=\"../images/Fb.png\"></a></td>\n",
    "    <td style=\"padding:0px;width:5px;\"></td>\n",
    "    <td style=\"padding:0px;width:40px;\">\n",
    "        <a href=\"https://www.linkedin.com/company/qworld19\" target=\"_blank\">\n",
    "        <img align=\"right\" src=\"../images/LinkedIn.png\"></a></td>\n",
    "    <td style=\"padding:0px;width:5px;\"></td>\n",
    "    <td style=\"padding:0px;width:40px;\">\n",
    "        <a href=\"https://www.youtube.com/qworld19\" target=\"_blank\">\n",
    "        <img align=\"right\" src=\"../images/YT.png\"></a></td>\n",
    "    <!-- ############################################# -->\n",
    "    <td style=\"padding:0px;width:60px;\">\n",
    "        <img align=\"right\" src=\"../images/join.png\" height=\"40px\"></td>\n",
    "    <td style=\"padding:0px;width:40px;\">\n",
    "        <a href=\"https://discord.gg/akCvr7U87g\"\n",
    "           target=\"_blank\">\n",
    "        <img align=\"right\" src=\"../images/Discord.png\"></a></td>\n",
    "    <!-- ############################################# -->\n",
    "    <td style=\"padding:0px;width:72px;\">\n",
    "        <img align=\"right\" src=\"../images/w3.png\" height=\"40px\"></td>\n",
    "    <td style=\"padding:0px;width:40px;\">\n",
    "        <a href=\"https://qworld.net\" target=\"_blank\">\n",
    "        <img align=\"right\" src=\"../images/www.png\"></a></td>\n",
    "</tr></table>\n",
    "\n",
    "<table width = \"100%\">\n",
    "  <tr style=\"background-color:white;\">\n",
    "    <td style=\"text-align:right;vertical-align:bottom;font-size:12px;\"> \n",
    "        Prepared by Anastasija Trizna (QPoland, QLatvia) & <a href=\"https://www.linkedin.com/in/sabah-ud-din-ahmad\" target=\"_blank\"> Sabah Ud Din Ahmad</a> (QPakistan)</td>\n",
    "    </tr>\n",
    "    <tr><td align=\"right\" style=\"color:#bbbbbb;background-color:#ffffff;font-size:11px;font-style:italic;\">\n",
    "        This cell contains some macros. If there is a problem with displaying mathematical formulas, please run this cell to load these macros.\n",
    "    </td></tr>\n",
    " </table>\n",
    " \n",
    "$ \\renewcommand{\\bra}[1]{\\langle #1|} $\n",
    "$ \\renewcommand{\\ket}[1]{|#1\\rangle} $\n",
    "$ \\renewcommand{\\braket}[2]{\\langle #1|#2\\rangle} $\n",
    "$ \\renewcommand{\\dot}[2]{ #1 \\cdot #2} $\n",
    "$ \\renewcommand{\\biginner}[2]{\\left\\langle #1,#2\\right\\rangle} $\n",
    "$ \\renewcommand{\\mymatrix}[2]{\\left( \\begin{array}{#1} #2\\end{array} \\right)} $\n",
    "$ \\renewcommand{\\myvector}[1]{\\mymatrix{c}{#1}} $\n",
    "$ \\renewcommand{\\myrvector}[1]{\\mymatrix{r}{#1}} $\n",
    "$ \\renewcommand{\\mypar}[1]{\\left( #1 \\right)} $\n",
    "$ \\renewcommand{\\mybigpar}[1]{ \\Big( #1 \\Big)} $\n",
    "$ \\renewcommand{\\sqrttwo}{\\frac{1}{\\sqrt{2}}} $\n",
    "$ \\renewcommand{\\dsqrttwo}{\\dfrac{1}{\\sqrt{2}}} $\n",
    "$ \\renewcommand{\\onehalf}{\\frac{1}{2}} $\n",
    "$ \\renewcommand{\\donehalf}{\\dfrac{1}{2}} $\n",
    "$ \\renewcommand{\\hadamard}{ \\mymatrix{rr}{ \\sqrttwo & \\sqrttwo \\\\ \\sqrttwo & -\\sqrttwo }} $\n",
    "$ \\renewcommand{\\vzero}{\\myvector{1\\\\0}} $\n",
    "$ \\renewcommand{\\vone}{\\myvector{0\\\\1}} $\n",
    "$ \\renewcommand{\\vhadamardzero}{\\myvector{ \\sqrttwo \\\\  \\sqrttwo } } $\n",
    "$ \\renewcommand{\\vhadamardone}{ \\myrvector{ \\sqrttwo \\\\ -\\sqrttwo } } $\n",
    "$ \\renewcommand{\\myarray}[2]{ \\begin{array}{#1}#2\\end{array}} $\n",
    "$ \\renewcommand{\\X}{ \\mymatrix{cc}{0 & 1 \\\\ 1 & 0}  } $\n",
    "$ \\renewcommand{\\Z}{ \\mymatrix{rr}{1 & 0 \\\\ 0 & -1}  } $\n",
    "$ \\renewcommand{\\Htwo}{ \\mymatrix{rrrr}{ \\frac{1}{2} & \\frac{1}{2} & \\frac{1}{2} & \\frac{1}{2} \\\\ \\frac{1}{2} & -\\frac{1}{2} & \\frac{1}{2} & -\\frac{1}{2} \\\\ \\frac{1}{2} & \\frac{1}{2} & -\\frac{1}{2} & -\\frac{1}{2} \\\\ \\frac{1}{2} & -\\frac{1}{2} & -\\frac{1}{2} & \\frac{1}{2} } } $\n",
    "$ \\renewcommand{\\CNOT}{ \\mymatrix{cccc}{1 & 0 & 0 & 0 \\\\ 0 & 1 & 0 & 0 \\\\ 0 & 0 & 0 & 1 \\\\ 0 & 0 & 1 & 0} } $\n",
    "$ \\renewcommand{\\norm}[1]{ \\left\\lVert #1 \\right\\rVert } $\n",
    "\n",
    " ---"
   ]
  },
  {
   "cell_type": "markdown",
   "metadata": {},
   "source": [
    "## Quantum Communication using Qiskit"
   ]
  },
  {
   "cell_type": "markdown",
   "metadata": {},
   "source": [
    "We used in quantum circuits while studying Quantum One-Time Pad. Now, we will look at a different approach to simulate quantum channels using different quantum circuits, one for each user."
   ]
  },
  {
   "cell_type": "code",
   "execution_count": 17,
   "metadata": {},
   "outputs": [],
   "source": [
    "# import all necessary objects and methods for quantum circuits\n",
    "from qiskit import QuantumRegister, ClassicalRegister, QuantumCircuit, execute, Aer\n",
    "\n",
    "qreg = QuantumRegister(8) # quantum register with 8 qubits\n",
    "creg = ClassicalRegister(8) # classical register with 8 bits\n",
    "\n",
    "# Quantum circuit for Asja state\n",
    "asja = QuantumCircuit(qreg, creg, name='Asja')"
   ]
  },
  {
   "cell_type": "markdown",
   "metadata": {},
   "source": [
    "We create Asja's quantum circuit, made of $8$ qubits. We use `randrange` library to choose at random between 0 and 1 and apply $X$ gate to the qubit to bring it to state $\\ket{1}$, if random number is 1."
   ]
  },
  {
   "cell_type": "markdown",
   "metadata": {},
   "source": [
    "<font style=\"color:darkorange;font-weight:bold;\"> <h2>Task 1</h2> </font>\n",
    "\n",
    "Complete the code below to create a random string."
   ]
  },
  {
   "cell_type": "code",
   "execution_count": 18,
   "metadata": {},
   "outputs": [
    {
     "name": "stdout",
     "output_type": "stream",
     "text": [
      "10000100\n"
     ]
    },
    {
     "data": {
      "text/html": [
       "<pre style=\"word-wrap: normal;white-space: pre;background: #fff0;line-height: 1.1;font-family: &quot;Courier New&quot;,Courier,monospace\">      ┌───┐\n",
       "q5_0: ┤ X ├\n",
       "      └───┘\n",
       "q5_1: ─────\n",
       "           \n",
       "q5_2: ─────\n",
       "           \n",
       "q5_3: ─────\n",
       "           \n",
       "q5_4: ─────\n",
       "      ┌───┐\n",
       "q5_5: ┤ X ├\n",
       "      └───┘\n",
       "q5_6: ─────\n",
       "           \n",
       "q5_7: ─────\n",
       "           \n",
       "c1: 8/═════\n",
       "           </pre>"
      ],
      "text/plain": [
       "      ┌───┐\n",
       "q5_0: ┤ X ├\n",
       "      └───┘\n",
       "q5_1: ─────\n",
       "           \n",
       "q5_2: ─────\n",
       "           \n",
       "q5_3: ─────\n",
       "           \n",
       "q5_4: ─────\n",
       "      ┌───┐\n",
       "q5_5: ┤ X ├\n",
       "      └───┘\n",
       "q5_6: ─────\n",
       "           \n",
       "q5_7: ─────\n",
       "           \n",
       "c1: 8/═════\n",
       "           "
      ]
     },
     "execution_count": 18,
     "metadata": {},
     "output_type": "execute_result"
    }
   ],
   "source": [
    "from random import randrange\n",
    "\n",
    "send=[] #Initial bit string to send\n",
    "\n",
    "#Creating random bit string\n",
    "for i in range(8):\n",
    "    #YOUR CODE HERE#\n",
    "    send.append(randrange(2))\n",
    "    \n",
    "    \n",
    "    \n",
    "#Apply X gate if bit is equal 1\n",
    "for i, n in enumerate(send):\n",
    "    if n==1:\n",
    "        # apply x-gate\n",
    "        #YOUR CODE HERE# \n",
    "        asja.x(qreg[i])\n",
    "        \n",
    "        \n",
    "\n",
    "send_str = ''.join(str(e) for e in send)\n",
    "print(send_str)\n",
    "\n",
    "asja.draw()"
   ]
  },
  {
   "cell_type": "markdown",
   "metadata": {},
   "source": [
    "[Click here for solution](QC07_Quantum_communication_in_Qiskit_Solutions.ipynb#task1)\n",
    "\n",
    "***"
   ]
  },
  {
   "cell_type": "markdown",
   "metadata": {},
   "source": [
    "**How will we send these states to Balvis?**\n",
    "\n",
    "We will create one more quantum circuit for Balvis and initialize qubits according Asja's states.\n",
    "\n",
    "To accomplish this task we will use a helper function from Qiskit tutorial, <b>`SendState`</b>, that retrieves the qasm code of a given quantum circuit, does some filtering to extract the quantum gates applied, and produces new instructions that uses to initialize another circuit."
   ]
  },
  {
   "cell_type": "code",
   "execution_count": 19,
   "metadata": {},
   "outputs": [],
   "source": [
    "# import all necessary objects and methods for quantum circuits\n",
    "from qiskit import QuantumRegister, ClassicalRegister, QuantumCircuit, execute, Aer\n",
    "from random import randrange\n",
    "\n",
    "#Source: awards/teach_me_qiskit_2018/cryptography/Cryptography.ipynb\n",
    "\n",
    "def SendState(qc1, qc2, qc1_name):\n",
    "    ''' This function takes the output of a circuit qc1 (made up only of x and \n",
    "        h gates and initializes another circuit qc2 with the same state\n",
    "    ''' \n",
    "    \n",
    "    # Quantum state is retrieved from qasm code of qc1\n",
    "    qs = qc1.qasm().split(sep=';')[4:-1]\n",
    "\n",
    "    # Process the code to get the instructions\n",
    "    for index, instruction in enumerate(qs):\n",
    "        qs[index] = instruction.lstrip()\n",
    "\n",
    "    for instruction in qs:\n",
    "        if instruction[0] == 'x':\n",
    "            if instruction[5] == '[':\n",
    "                old_qr = int(instruction[6:-1])\n",
    "            else:\n",
    "                old_qr = int(instruction[5:-1])\n",
    "            qc2.x(qreg[old_qr])\n",
    "        elif instruction[0] == 'h':\n",
    "            if instruction[5] == '[':\n",
    "                old_qr = int(instruction[6:-1])\n",
    "            else:\n",
    "                old_qr = int(instruction[5:-1])\n",
    "            qc2.h(qreg[old_qr])\n",
    "        elif instruction[0] == 'm': # exclude measuring:\n",
    "            pass\n",
    "        else:\n",
    "            raise Exception('Unable to parse instruction')"
   ]
  },
  {
   "cell_type": "code",
   "execution_count": 20,
   "metadata": {},
   "outputs": [
    {
     "data": {
      "text/html": [
       "<pre style=\"word-wrap: normal;white-space: pre;background: #fff0;line-height: 1.1;font-family: &quot;Courier New&quot;,Courier,monospace\">      ┌───┐\n",
       "q5_0: ┤ X ├\n",
       "      └───┘\n",
       "q5_1: ─────\n",
       "           \n",
       "q5_2: ─────\n",
       "           \n",
       "q5_3: ─────\n",
       "           \n",
       "q5_4: ─────\n",
       "      ┌───┐\n",
       "q5_5: ┤ X ├\n",
       "      └───┘\n",
       "q5_6: ─────\n",
       "           \n",
       "q5_7: ─────\n",
       "           \n",
       "c1: 8/═════\n",
       "           </pre>"
      ],
      "text/plain": [
       "      ┌───┐\n",
       "q5_0: ┤ X ├\n",
       "      └───┘\n",
       "q5_1: ─────\n",
       "           \n",
       "q5_2: ─────\n",
       "           \n",
       "q5_3: ─────\n",
       "           \n",
       "q5_4: ─────\n",
       "      ┌───┐\n",
       "q5_5: ┤ X ├\n",
       "      └───┘\n",
       "q5_6: ─────\n",
       "           \n",
       "q5_7: ─────\n",
       "           \n",
       "c1: 8/═════\n",
       "           "
      ]
     },
     "execution_count": 20,
     "metadata": {},
     "output_type": "execute_result"
    }
   ],
   "source": [
    "balvis = QuantumCircuit(qreg, creg, name='Balvis') #Defining Balvis circuit\n",
    "\n",
    "SendState(asja, balvis, 'Asja') #Asja sends states to Balvis\n",
    "\n",
    "balvis.draw()"
   ]
  },
  {
   "cell_type": "markdown",
   "metadata": {},
   "source": [
    "We just sent quantum states from Asja to Balvis! \n",
    "\n",
    "Note the use of function `SendState` by comparing the circuits of Asja & Balvis. They are the same showing that the state was initialized correctly for Balvis. \n",
    "\n",
    "Now, let's continue with next step, where Balvis performs measurement to read the bits Asja sent to him."
   ]
  },
  {
   "cell_type": "markdown",
   "metadata": {},
   "source": [
    "<font style=\"color:darkorange;font-weight:bold;\"> <h2>Task 2</h2> </font>\n",
    "\n",
    "Complete the code below to perform a measurement."
   ]
  },
  {
   "cell_type": "code",
   "execution_count": 21,
   "metadata": {},
   "outputs": [
    {
     "data": {
      "text/plain": [
       "<qiskit.circuit.instructionset.InstructionSet at 0x1dfd904bd90>"
      ]
     },
     "execution_count": 21,
     "metadata": {},
     "output_type": "execute_result"
    }
   ],
   "source": [
    "#Balvis performs a measurement\n",
    "#YOUR CODE HERE#\n",
    "balvis.measure(qreg,creg)"
   ]
  },
  {
   "cell_type": "markdown",
   "metadata": {},
   "source": [
    "[Click here for solution](QC07_Quantum_communication_in_Qiskit_Solutions.ipynb#task2)\n",
    "\n",
    "***"
   ]
  },
  {
   "cell_type": "code",
   "execution_count": 22,
   "metadata": {},
   "outputs": [],
   "source": [
    "def print_outcomes_in_reserve(counts): # takes a dictionary variable\n",
    "    for outcome in counts: # for each key-value in dictionary\n",
    "        reverse_outcome = ''\n",
    "        for i in outcome: # each string can be considered as a list of characters\n",
    "            reverse_outcome = i + reverse_outcome # each new symbol comes before the old symbol(s)\n",
    "    return reverse_outcome\n",
    "\n",
    "job = execute(balvis,Aer.get_backend('qasm_simulator'),shots=1) #Note that Balvis only has one shot to measure qubits\n",
    "counts = job.result().get_counts(balvis) # counts is a dictionary object in python\n",
    "received = print_outcomes_in_reserve(counts)"
   ]
  },
  {
   "cell_type": "code",
   "execution_count": 23,
   "metadata": {},
   "outputs": [
    {
     "name": "stdout",
     "output_type": "stream",
     "text": [
      "Asja sent: 10000100\n",
      "Balvis received: 10000100\n"
     ]
    }
   ],
   "source": [
    "print(\"Asja sent:\", send_str)\n",
    "print(\"Balvis received:\", received)"
   ]
  },
  {
   "cell_type": "markdown",
   "metadata": {},
   "source": [
    "Balvis received the message successfully. "
   ]
  },
  {
   "cell_type": "markdown",
   "metadata": {},
   "source": [
    "<font style=\"color:darkorange;font-weight:bold;\"> <h2>Task 3</h2> </font>\n",
    "\n",
    "Repeat all the steps for 4 qubits.\n"
   ]
  },
  {
   "cell_type": "markdown",
   "metadata": {},
   "source": [
    "[Click here for solution](QC07_Quantum_communication_in_Qiskit_Solutions.ipynb#task3)\n",
    "\n",
    "***"
   ]
  },
  {
   "cell_type": "markdown",
   "metadata": {},
   "source": [
    "#### References\n",
    "\n",
    "1. https://github.com/qiskit-community/qiskit-community-tutorials/blob/master/awards/teach_me_qiskit_2018/cryptography/Cryptography.ipynb"
   ]
  },
  {
   "cell_type": "markdown",
   "metadata": {},
   "source": [
    "Next: [QKD & BB84 Protocol](QC08_BB84_Protocol.ipynb)"
   ]
  }
 ],
 "metadata": {
  "kernelspec": {
   "display_name": "Python 3",
   "language": "python",
   "name": "python3"
  },
  "language_info": {
   "codemirror_mode": {
    "name": "ipython",
    "version": 3
   },
   "file_extension": ".py",
   "mimetype": "text/x-python",
   "name": "python",
   "nbconvert_exporter": "python",
   "pygments_lexer": "ipython3",
   "version": "3.11.5"
  }
 },
 "nbformat": 4,
 "nbformat_minor": 2
}
