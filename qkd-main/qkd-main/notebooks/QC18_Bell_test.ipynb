{
 "cells": [
  {
   "cell_type": "markdown",
   "metadata": {},
   "source": [
    "<table width=\"100%\"><tr style=\"background-color:white;\">\n",
    "    <td style=\"text-align:left;padding:0px;width:142px'\">\n",
    "        <a href=\"https://qworld.net\" target=\"_blank\">\n",
    "            <img src=\"../images/QWorld.png\"></a></td>\n",
    "    <td width=\"*\">&nbsp;&nbsp;&nbsp;&nbsp;&nbsp;&nbsp;</td>\n",
    "    <!-- ############################################# -->\n",
    "    <td style=\"padding:0px;width:90px;\">\n",
    "        <img align=\"right\" src=\"../images/follow_us.png\" height=\"40px\"></td>\n",
    "    <td style=\"padding:0px;width:40px;\">\n",
    "        <a href=\"https://twitter.com/QWorld19\" target=\"_blank\">\n",
    "        <img align=\"right\" src=\"../images/Twitter.png\" width=\"40px\"></a> </td>\n",
    "    <td style=\"padding:0px;width:5px;\"></td>\n",
    "    <td style=\"padding:0px;width:40px;\">\n",
    "        <a href=\"https://www.facebook.com/qworld19/\" target=\"_blank\">\n",
    "        <img align=\"right\" src=\"../images/Fb.png\"></a></td>\n",
    "    <td style=\"padding:0px;width:5px;\"></td>\n",
    "    <td style=\"padding:0px;width:40px;\">\n",
    "        <a href=\"https://www.linkedin.com/company/qworld19\" target=\"_blank\">\n",
    "        <img align=\"right\" src=\"../images/LinkedIn.png\"></a></td>\n",
    "    <td style=\"padding:0px;width:5px;\"></td>\n",
    "    <td style=\"padding:0px;width:40px;\">\n",
    "        <a href=\"https://www.youtube.com/qworld19\" target=\"_blank\">\n",
    "        <img align=\"right\" src=\"../images/YT.png\"></a></td>\n",
    "    <!-- ############################################# -->\n",
    "    <td style=\"padding:0px;width:60px;\">\n",
    "        <img align=\"right\" src=\"../images/join.png\" height=\"40px\"></td>\n",
    "    <td style=\"padding:0px;width:40px;\">\n",
    "        <a href=\"https://discord.gg/akCvr7U87g\"\n",
    "           target=\"_blank\">\n",
    "        <img align=\"right\" src=\"../images/Discord.png\"></a></td>\n",
    "    <!-- ############################################# -->\n",
    "    <td style=\"padding:0px;width:72px;\">\n",
    "        <img align=\"right\" src=\"../images/w3.png\" height=\"40px\"></td>\n",
    "    <td style=\"padding:0px;width:40px;\">\n",
    "        <a href=\"https://qworld.net\" target=\"_blank\">\n",
    "        <img align=\"right\" src=\"../images/www.png\"></a></td>\n",
    "</tr></table>\n",
    "\n",
    "<table width = \"100%\">\n",
    "  <tr style=\"background-color:white;\">\n",
    "    <td style=\"text-align:right;vertical-align:bottom;font-size:12px;\"> \n",
    "        Prepared by Anastasija Trizna (QPoland, QLatvia)</td>\n",
    "    </tr>\n",
    "    <tr><td align=\"right\" style=\"color:#bbbbbb;background-color:#ffffff;font-size:11px;font-style:italic;\">\n",
    "        This cell contains some macros. If there is a problem with displaying mathematical formulas, please run this cell to load these macros.\n",
    "    </td></tr>\n",
    " </table>\n",
    " \n",
    "$ \\renewcommand{\\bra}[1]{\\langle #1|} $\n",
    "$ \\renewcommand{\\ket}[1]{|#1\\rangle} $\n",
    "$ \\renewcommand{\\braket}[2]{\\langle #1|#2\\rangle} $\n",
    "$ \\renewcommand{\\dot}[2]{ #1 \\cdot #2} $\n",
    "$ \\renewcommand{\\biginner}[2]{\\left\\langle #1,#2\\right\\rangle} $\n",
    "$ \\renewcommand{\\mymatrix}[2]{\\left( \\begin{array}{#1} #2\\end{array} \\right)} $\n",
    "$ \\renewcommand{\\myvector}[1]{\\mymatrix{c}{#1}} $\n",
    "$ \\renewcommand{\\myrvector}[1]{\\mymatrix{r}{#1}} $\n",
    "$ \\renewcommand{\\mypar}[1]{\\left( #1 \\right)} $\n",
    "$ \\renewcommand{\\mybigpar}[1]{ \\Big( #1 \\Big)} $\n",
    "$ \\renewcommand{\\sqrttwo}{\\frac{1}{\\sqrt{2}}} $\n",
    "$ \\renewcommand{\\dsqrttwo}{\\dfrac{1}{\\sqrt{2}}} $\n",
    "$ \\renewcommand{\\onehalf}{\\frac{1}{2}} $\n",
    "$ \\renewcommand{\\donehalf}{\\dfrac{1}{2}} $\n",
    "$ \\renewcommand{\\hadamard}{ \\mymatrix{rr}{ \\sqrttwo & \\sqrttwo \\\\ \\sqrttwo & -\\sqrttwo }} $\n",
    "$ \\renewcommand{\\vzero}{\\myvector{1\\\\0}} $\n",
    "$ \\renewcommand{\\vone}{\\myvector{0\\\\1}} $\n",
    "$ \\renewcommand{\\vhadamardzero}{\\myvector{ \\sqrttwo \\\\  \\sqrttwo } } $\n",
    "$ \\renewcommand{\\vhadamardone}{ \\myrvector{ \\sqrttwo \\\\ -\\sqrttwo } } $\n",
    "$ \\renewcommand{\\myarray}[2]{ \\begin{array}{#1}#2\\end{array}} $\n",
    "$ \\renewcommand{\\X}{ \\mymatrix{cc}{0 & 1 \\\\ 1 & 0}  } $\n",
    "$ \\renewcommand{\\Z}{ \\mymatrix{rr}{1 & 0 \\\\ 0 & -1}  } $\n",
    "$ \\renewcommand{\\Htwo}{ \\mymatrix{rrrr}{ \\frac{1}{2} & \\frac{1}{2} & \\frac{1}{2} & \\frac{1}{2} \\\\ \\frac{1}{2} & -\\frac{1}{2} & \\frac{1}{2} & -\\frac{1}{2} \\\\ \\frac{1}{2} & \\frac{1}{2} & -\\frac{1}{2} & -\\frac{1}{2} \\\\ \\frac{1}{2} & -\\frac{1}{2} & -\\frac{1}{2} & \\frac{1}{2} } } $\n",
    "$ \\renewcommand{\\CNOT}{ \\mymatrix{cccc}{1 & 0 & 0 & 0 \\\\ 0 & 1 & 0 & 0 \\\\ 0 & 0 & 0 & 1 \\\\ 0 & 0 & 1 & 0} } $\n",
    "$ \\renewcommand{\\norm}[1]{ \\left\\lVert #1 \\right\\rVert } $\n",
    "\n",
    " ---"
   ]
  },
  {
   "cell_type": "markdown",
   "metadata": {},
   "source": [
    "## Quantum Entanglement\n",
    "\n",
    "Before we start our next QKD protocol - E91, we need to take a look at an experiment designed to test the validity of the theory of Quantum Mechanics - <b>Bell Inequality</b> or <b>Bell test</b>."
   ]
  },
  {
   "cell_type": "markdown",
   "metadata": {},
   "source": [
    "As we already know, entanglement is a special connection between two particles, such that, no matter how far entangled particles are from one another, once you measure one particle, you instantaneously know the value of the second particle.\n",
    "\n",
    "**How is this possible? How does the second particle know whether the first particle is measured and what's its value?**"
   ]
  },
  {
   "cell_type": "markdown",
   "metadata": {},
   "source": [
    "* First possible explanation is that both particles are in <b>constant and immediate communication</b>. But in this case, communication between particles is faster than light. This is a problem, because it violates Einstein's theory of special relativity!\n",
    "\n",
    "\n",
    "* Second explanation is that when entangled particles were produced, they were both embedded with <b>hidden variables</b>. Those hidden variables precisely govern the behaviour of those particles for their entire lives. "
   ]
  },
  {
   "cell_type": "markdown",
   "metadata": {},
   "source": [
    "Since first explanation violates theory of special relativity, leading physicists Einstein, Podolsky and Rosen supported the second theory and said that there must be hidden variables."
   ]
  },
  {
   "cell_type": "markdown",
   "metadata": {},
   "source": [
    "It was a <b>Bell Inequality</b> or <b>Bell Test</b> that showed that there can't be hidden variables! \n",
    "\n",
    "**The recent 2022 Nobel Prize in Physics is related to an experimental verification of this.**\n",
    "\n",
    "Read more about the [2022 Nobel Prize in Physics](https://www.nobelprize.org/prizes/physics/2022/press-release/)."
   ]
  },
  {
   "cell_type": "markdown",
   "metadata": {},
   "source": [
    "<h3>Bell States</h3>\n",
    "\n",
    "Following output states are known as Bell States, or sometimes as EPR states or EPR pairs. \n",
    "\n",
    "<img src=\"../images/bell_state1.png\" width=\"250px\">\n",
    "\n",
    "These are created using the following circuit:\n",
    "<img src=\"../images/bell_state2.png\" width=\"450px\">"
   ]
  },
  {
   "cell_type": "markdown",
   "metadata": {},
   "source": [
    "<h3>Bell Test</h3>\n",
    "\n",
    "<b>Source</b>\\\n",
    "For our experiment, we will need to have a source of entangled particles.\\\n",
    "One particle of entangled pair will go to Asja, and second particle will go to Balvis.\n",
    "\n",
    "<b>Measurements</b>\\\n",
    "Asja and Balvis will perform independent measurements.\\\n",
    "In addition to $Z$- and $X$-bases, they will use $W$ such that:\n",
    "$$W=\\frac{1}{\\sqrt{2}}(X+Z)$$\n",
    "which is a Z-basis rotation to $\\frac{\\pi}{4}$."
   ]
  },
  {
   "cell_type": "markdown",
   "metadata": {},
   "source": [
    "<b>Hidden parameters</b>\\\n",
    "According to our second explanation, there are hidden parameters that will determine qubits behaviour.\\\n",
    "In other words, parameters control how our qubits will behave when they are detected by certain measurement basis.\\\n",
    "In our experiment, we have 3 measurement bases - $Z, X, W$.\\\n",
    "Each qubit has parameters that will determine if it will be detected (<b>Y</b>) or not (<b>N</b>) by each measurement basis.\\\n",
    "Hence, the following qubit 'setups' are possible:\n",
    "\n",
    "\n",
    "<table style=\"width:10%\">\n",
    "  <tr>\n",
    "    <th>Z</th>\n",
    "    <th>X</th>\n",
    "    <th>W</th>\n",
    "  </tr>\n",
    "  <tr>\n",
    "    <td>Y</td>\n",
    "    <td>Y</td>\n",
    "    <td>Y</td>\n",
    "  </tr>\n",
    "  <tr>\n",
    "    <td>Y</td>\n",
    "    <td>Y</td>\n",
    "    <td>N</td>\n",
    "  </tr>\n",
    "  <tr>\n",
    "    <td>Y</td>\n",
    "    <td>N</td>\n",
    "    <td>Y</td>\n",
    "  </tr>\n",
    "  <tr>\n",
    "    <td>N</td>\n",
    "    <td>Y</td>\n",
    "    <td>Y</td>\n",
    "  </tr>\n",
    "  <tr>\n",
    "    <td>Y</td>\n",
    "    <td>N</td>\n",
    "    <td>N</td>\n",
    "  </tr>\n",
    "  <tr>\n",
    "    <td>N</td>\n",
    "    <td>Y</td>\n",
    "    <td>N</td>\n",
    "  </tr>\n",
    "  <tr>\n",
    "    <td>N</td>\n",
    "    <td>N</td>\n",
    "    <td>Y</td>\n",
    "  </tr>\n",
    "  <tr>\n",
    "    <td>N</td>\n",
    "    <td>N</td>\n",
    "    <td>N</td>\n",
    "  </tr>\n",
    "</table>"
   ]
  },
  {
   "cell_type": "markdown",
   "metadata": {},
   "source": [
    "If Asja and Balvis choose different measurement bases, they will be able to get same results for some but not all scenarios (qubits will be detected when <b>Y</b> and not detected when <b>N</b>).\n",
    "\n",
    "We are interested in cases when they choose different bases and got different results:\n",
    "- Asja chooses $Z$ basis, Balvis chooses $X$ (or vice versa)\n",
    "- Asja chooses $X$ basis, Balvis chooses $W$ (or vice versa)\n",
    "- Asja chooses $W$ basis, Balvis chooses $Z$ (or vice versa)"
   ]
  },
  {
   "cell_type": "markdown",
   "metadata": {},
   "source": [
    "Based on previous table, for each possible setup of hidden parameters, we can evaluate if Asja and Balvis will be able to get same <b>S</b> or different <b>D</b> result.\n",
    "\n",
    "For example, if previous table says:\n",
    "<table style=\"width:10%\">\n",
    "  <tr>\n",
    "    <th>Z</th>\n",
    "    <th>X</th>\n",
    "    <th>W</th>\n",
    "  </tr>\n",
    "  <tr>\n",
    "    <td>Y</td>\n",
    "    <td>Y</td>\n",
    "    <td>N</td>\n",
    "  </tr>"
   ]
  },
  {
   "cell_type": "markdown",
   "metadata": {},
   "source": [
    "Then,\n",
    "- Asja chooses $Z$ basis, Balvis chooses $X$ - they get same <b>S</b> results.\n",
    "- Asja chooses $X$ basis, Balvis chooses $W$ - they get different <b>D</b> results.\n",
    "- Asja chooses $W$ basis, Balvis chooses $Z$ - they get different <b>D</b> results.\n",
    "\n",
    "So we can create a new table,\n",
    "\n",
    "<table style=\"width:20%\">\n",
    "  <tr>\n",
    "    <th>$Z\\otimes X$</th>\n",
    "    <th>$X\\otimes W$</th>\n",
    "    <th>$W\\otimes Z$</th>\n",
    "  </tr>\n",
    "  <tr>\n",
    "      <td><center>S</center></td>\n",
    "    <td><center>D</center></td>\n",
    "    <td><center>D</center></td>\n",
    "  </tr>"
   ]
  },
  {
   "cell_type": "markdown",
   "metadata": {},
   "source": [
    "Thus, we can evaluate each hidden parameters setup,\n",
    "\n",
    "\n",
    "<table style=\"width:40%\">\n",
    "  <tr>\n",
    "    <th>Z</th>\n",
    "    <th>X</th>\n",
    "    <th>W</th>\n",
    "    <th>$Z\\otimes X$</th>\n",
    "    <th>$X\\otimes W$</th>\n",
    "    <th>$W\\otimes Z$</th>\n",
    "  </tr>\n",
    "  <tr>\n",
    "    <td>Y</td>\n",
    "    <td>Y</td>\n",
    "    <td>Y</td>\n",
    "    <td>S</td>\n",
    "    <td>S</td>\n",
    "    <td>S</td>\n",
    "  </tr>\n",
    "  <tr>\n",
    "    <td>Y</td>\n",
    "    <td>Y</td>\n",
    "    <td>N</td>\n",
    "    <td>S</td>\n",
    "    <td>D</td>\n",
    "    <td>D</td>\n",
    "  </tr>\n",
    "  <tr>\n",
    "    <td>Y</td>\n",
    "    <td>N</td>\n",
    "    <td>Y</td>\n",
    "    <td>D</td>\n",
    "    <td>D</td>\n",
    "    <td>S</td>\n",
    "  </tr>\n",
    "  <tr>\n",
    "    <td>N</td>\n",
    "    <td>Y</td>\n",
    "    <td>Y</td>\n",
    "    <td>D</td>\n",
    "    <td>S</td>\n",
    "    <td>D</td>\n",
    "  </tr>\n",
    "  <tr>\n",
    "    <td>Y</td>\n",
    "    <td>N</td>\n",
    "    <td>N</td>\n",
    "    <td>D</td>\n",
    "    <td>S</td>\n",
    "    <td>D</td>\n",
    "  </tr>\n",
    "  <tr>\n",
    "    <td>N</td>\n",
    "    <td>Y</td>\n",
    "    <td>N</td>\n",
    "    <td>D</td>\n",
    "    <td>D</td>\n",
    "    <td>S</td>\n",
    "  </tr>\n",
    "  <tr>\n",
    "    <td>N</td>\n",
    "    <td>N</td>\n",
    "    <td>Y</td>\n",
    "    <td>S</td>\n",
    "    <td>D</td>\n",
    "    <td>D</td>\n",
    "  </tr>\n",
    "  <tr>\n",
    "    <td>N</td>\n",
    "    <td>N</td>\n",
    "    <td>N</td>\n",
    "    <td>S</td>\n",
    "    <td>S</td>\n",
    "    <td>S</td>\n",
    "  </tr>\n",
    "</table>"
   ]
  },
  {
   "cell_type": "markdown",
   "metadata": {},
   "source": [
    "So, in 12 out of 24 cases, Asja and Balvis will be able to get same <b>S</b> results ($50\\%$)."
   ]
  },
  {
   "cell_type": "markdown",
   "metadata": {},
   "source": [
    "<div class=\"alert alert-block alert-warning\">\n",
    "    <h3>Example 1: Testing hidden parameter estimation </h3>\n",
    "    Create a program to verify our estimation. \n",
    "\n",
    "Start with an EPR pair.\n",
    "\n",
    "Run 100 rounds for each scenario and calculate the number of rounds where users get same result $11$ or $00$:\n",
    "- Asja measures first particle in $Z$ basis, Balvis measures second particle in $X$ basis.\n",
    "- Asja measures first particle in $X$ basis, Balvis measures second particle in $W$ basis.\n",
    "- Asja measures first particle in $W$ basis, Balvis measures second particle in $Z$ basis.\n",
    "    \n",
    "Note: To rotate the measurement basis to the $W$-axis, use sequence of gates: $S-H-T-H$.\n",
    "</div> "
   ]
  },
  {
   "cell_type": "markdown",
   "metadata": {},
   "source": [
    "We create a Bell State or EPR pair in a quantum circuit as follows:\n",
    "\n",
    "<img src=\"../images/bell_state.png\" width=\"250px\">"
   ]
  },
  {
   "cell_type": "markdown",
   "metadata": {},
   "source": [
    "Our prediction is that users should get same outcome ≤ 150 times after performing 300 rounds."
   ]
  },
  {
   "cell_type": "code",
   "execution_count": 1,
   "metadata": {},
   "outputs": [],
   "source": [
    "# import all necessary objects and methods for quantum circuits\n",
    "from qiskit import QuantumRegister, ClassicalRegister, QuantumCircuit, execute, Aer\n",
    "from random import randrange"
   ]
  },
  {
   "cell_type": "code",
   "execution_count": 2,
   "metadata": {},
   "outputs": [
    {
     "data": {
      "image/png": "[encoded data removed]",
      "text/plain": [
       "<Figure size 388.934x284.278 with 1 Axes>"
      ]
     },
     "execution_count": 2,
     "metadata": {},
     "output_type": "execute_result"
    }
   ],
   "source": [
    "#choosing Z and X bases\n",
    "qreg = QuantumRegister(2) \n",
    "creg = ClassicalRegister(2) \n",
    "mycircuit1 = QuantumCircuit(qreg, creg)\n",
    "    \n",
    "#Creating entanglement\n",
    "mycircuit1.h(qreg[0])\n",
    "mycircuit1.cx(qreg[0], qreg[1])\n",
    "    \n",
    "#asja measures 1st qubit qreg[0] in Z basis, thus do nothing\n",
    "    \n",
    "#balvis measures 2nd qubit qreg[1] in X basis, thus applies H gate first\n",
    "mycircuit1.h(qreg[1])\n",
    "mycircuit1.draw(output=\"mpl\")"
   ]
  },
  {
   "cell_type": "code",
   "execution_count": 3,
   "metadata": {},
   "outputs": [
    {
     "name": "stdout",
     "output_type": "stream",
     "text": [
      "{'11': 23, '00': 24, '01': 22, '10': 31}\n"
     ]
    }
   ],
   "source": [
    "mycircuit1.measure(qreg,creg)\n",
    "\n",
    "job = execute(mycircuit1,Aer.get_backend('qasm_simulator'),shots=100) #100 rounds\n",
    "countsZX = job.result().get_counts(mycircuit1) # counts is a dictionary object in python\n",
    "\n",
    "print(countsZX)"
   ]
  },
  {
   "cell_type": "code",
   "execution_count": 4,
   "metadata": {},
   "outputs": [
    {
     "data": {
      "image/png": "[encoded data removed]",
      "text/plain": [
       "<Figure size 640.171x284.278 with 1 Axes>"
      ]
     },
     "execution_count": 4,
     "metadata": {},
     "output_type": "execute_result"
    }
   ],
   "source": [
    "#choosing X and W bases\n",
    "\n",
    "qreg = QuantumRegister(2) \n",
    "creg = ClassicalRegister(2) \n",
    "mycircuit2 = QuantumCircuit(qreg, creg)\n",
    "    \n",
    "#Creating entanglement\n",
    "mycircuit2.h(qreg[0])\n",
    "mycircuit2.cx(qreg[0], qreg[1])\n",
    "  \n",
    "#asja measures 1st qubit qreg[0] in X basis, thus applies H gate first\n",
    "mycircuit2.h(qreg[0])\n",
    "    \n",
    "#balvis measure 2nd qubit qreg[1] in W basis, thus applies S-H-T-H gates first\n",
    "mycircuit2.s(qreg[1])\n",
    "mycircuit2.h(qreg[1])\n",
    "mycircuit2.t(qreg[1])\n",
    "mycircuit2.h(qreg[1])\n",
    "    \n",
    "mycircuit2.draw(output=\"mpl\")"
   ]
  },
  {
   "cell_type": "code",
   "execution_count": 5,
   "metadata": {},
   "outputs": [
    {
     "name": "stdout",
     "output_type": "stream",
     "text": [
      "{'00': 45, '11': 43, '01': 6, '10': 6}\n"
     ]
    }
   ],
   "source": [
    "mycircuit2.measure(qreg,creg)\n",
    "\n",
    "job = execute(mycircuit2,Aer.get_backend('qasm_simulator'),shots=100) #100 rounds\n",
    "countsXW = job.result().get_counts(mycircuit2) # counts is a dictionary object in python\n",
    "\n",
    "print(countsXW)"
   ]
  },
  {
   "cell_type": "code",
   "execution_count": 6,
   "metadata": {},
   "outputs": [
    {
     "data": {
      "image/png": "[encoded data removed]",
      "text/plain": [
       "<Figure size 657.998x284.278 with 1 Axes>"
      ]
     },
     "execution_count": 6,
     "metadata": {},
     "output_type": "execute_result"
    }
   ],
   "source": [
    "#choosing W and Z bases\n",
    "qreg = QuantumRegister(2) \n",
    "creg = ClassicalRegister(2) \n",
    "mycircuit3 = QuantumCircuit(qreg, creg)\n",
    "    \n",
    "#Creating entanglement\n",
    "mycircuit3.h(qreg[0])\n",
    "mycircuit3.cx(qreg[0], qreg[1])\n",
    "    \n",
    "#asja measure 1st qubit qreg[0] in W basis, thus applies S-H-T-H gates first\n",
    "mycircuit3.s(qreg[0])\n",
    "mycircuit3.h(qreg[0])\n",
    "mycircuit3.t(qreg[0])\n",
    "mycircuit3.h(qreg[0])\n",
    "    \n",
    "#balvis measure 2nd qubit qreg[1] in Z basis, thus do nothing\n",
    "\n",
    "mycircuit3.draw(output=\"mpl\")"
   ]
  },
  {
   "cell_type": "code",
   "execution_count": 7,
   "metadata": {},
   "outputs": [
    {
     "name": "stdout",
     "output_type": "stream",
     "text": [
      "{'00': 54, '11': 34, '01': 6, '10': 6}\n"
     ]
    }
   ],
   "source": [
    "mycircuit3.measure(qreg,creg)\n",
    "\n",
    "job = execute(mycircuit3,Aer.get_backend('qasm_simulator'),shots=100) #100 rounds\n",
    "countsWZ = job.result().get_counts(mycircuit3) # counts is a dictionary object in python\n",
    "    \n",
    "print(countsWZ)"
   ]
  },
  {
   "cell_type": "code",
   "execution_count": 8,
   "metadata": {},
   "outputs": [
    {
     "name": "stdout",
     "output_type": "stream",
     "text": [
      "Users received same result in 223 out of 300 rounds\n"
     ]
    }
   ],
   "source": [
    "#We are interested in rounds where Asja and Balvis got same results \"00\" or \"11\"\n",
    "sameZX=countsZX.get('00')+countsZX.get('11')\n",
    "sameXW=countsXW.get('00')+countsXW.get('11')\n",
    "sameWZ=countsWZ.get('00')+countsWZ.get('11')\n",
    "\n",
    "totalSame=sameZX+sameXW+sameWZ\n",
    "\n",
    "print('Users received same result in', totalSame, 'out of 300 rounds')"
   ]
  },
  {
   "cell_type": "markdown",
   "metadata": {},
   "source": [
    "<h4>Results</h4>\n",
    "\n",
    "The result of our experiment does not support the prediction! \n",
    "\n",
    "While we expect proportion of same rounds to be $\\leq 150$, in practice we get $>150$. \n",
    "\n",
    "And this is indeed correct!\n",
    "\n",
    "Bell test shows that there cannot be hidden variables, because if there were such variables that determine whether or not the photon will go through a specific gate, we would expect that users will be able to get same result every second occasion ($≤150$). \n",
    "\n",
    "Whereas, experimentally we have $>150$ occasions with same results."
   ]
  },
  {
   "cell_type": "markdown",
   "metadata": {},
   "source": [
    "<div class=\"alert alert-block alert-info\">\n",
    "    <b>Bell's theorem</b> states that \"no physical theory of local hidden variables can ever reproduce all of the predictions of quantum mechanics.\" \n",
    "</div>\n",
    "\n",
    "The goal of EPR theory was to show that quantum mechanics is incomplete, by demonstrating that quantum mechanics lacked some essential ‘element of reality’, by their criterion. \n",
    "\n",
    "Bell test showed that nature experimentally invalidates that point of view, while agreeing with quantum mechanics!"
   ]
  },
  {
   "cell_type": "markdown",
   "metadata": {},
   "source": [
    "<b>In next notebook, we will put some math in the picture!</b>\n",
    "    \n",
    "Next: [CHSH Inequality](QC19_CHSH_inequality.ipynb) "
   ]
  },
  {
   "cell_type": "markdown",
   "metadata": {},
   "source": [
    "#### References\n",
    "\n",
    "The idea of Bell test explanation in this notebook is taken from DrPhysicsA education channel."
   ]
  }
 ],
 "metadata": {
  "kernelspec": {
   "display_name": "Python 3",
   "language": "python",
   "name": "python3"
  },
  "language_info": {
   "codemirror_mode": {
    "name": "ipython",
    "version": 3
   },
   "file_extension": ".py",
   "mimetype": "text/x-python",
   "name": "python",
   "nbconvert_exporter": "python",
   "pygments_lexer": "ipython3",
   "version": "3.11.5"
  }
 },
 "nbformat": 4,
 "nbformat_minor": 2
}
